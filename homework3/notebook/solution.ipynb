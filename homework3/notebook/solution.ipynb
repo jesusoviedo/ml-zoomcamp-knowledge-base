{
 "cells": [
  {
   "cell_type": "markdown",
   "id": "e6b7235d",
   "metadata": {},
   "source": [
    "# Homework 3: Clasificación en Machine Learning\n",
    "\n",
    "## Solución a las preguntas del homework\n",
    "\n",
    "En esta notebook se encuentran las respuestas a las preguntas del homework 3 del Machine Learning Zoomcamp 2025.\n",
    "\n",
    "### Datos utilizados\n",
    "Para este homework utilizaremos el dataset de **Lead Scoring (Bank Marketing)** que contiene información sobre clientes potenciales y si se convirtieron o no en clientes. El objetivo es predecir la variable `converted` que indica si un cliente se ha registrado en la plataforma."
   ]
  },
  {
   "cell_type": "code",
   "execution_count": 1,
   "id": "edeff58c",
   "metadata": {},
   "outputs": [
    {
     "name": "stdout",
     "output_type": "stream",
     "text": [
      "Librerías importadas correctamente\n",
      "Pandas version: 2.3.3\n",
      "NumPy version: 2.3.3\n",
      "Sklearn version: 1.7.2\n"
     ]
    }
   ],
   "source": [
    "# Importar librerías necesarias\n",
    "import pandas as pd\n",
    "import numpy as np\n",
    "import matplotlib.pyplot as plt\n",
    "import seaborn as sns\n",
    "import sklearn\n",
    "from sklearn.model_selection import train_test_split\n",
    "from sklearn.linear_model import LogisticRegression\n",
    "from sklearn.metrics import accuracy_score\n",
    "from sklearn.feature_extraction import DictVectorizer\n",
    "from sklearn.metrics import mutual_info_score\n",
    "\n",
    "# Configurar estilo de gráficos\n",
    "plt.style.use('seaborn-v0_8')\n",
    "sns.set_palette(\"husl\")\n",
    "\n",
    "print(\"Librerías importadas correctamente\")\n",
    "print(f\"Pandas version: {pd.__version__}\")\n",
    "print(f\"NumPy version: {np.__version__}\")\n",
    "print(f\"Sklearn version: {sklearn.__version__}\")"
   ]
  },
  {
   "cell_type": "code",
   "execution_count": 2,
   "id": "1c68bd2d-1d9e-4724-a34b-25c89dede157",
   "metadata": {},
   "outputs": [
    {
     "name": "stdout",
     "output_type": "stream",
     "text": [
      "--2025-10-13 17:05:58--  https://raw.githubusercontent.com/alexeygrigorev/datasets/master/course_lead_scoring.csv\n",
      "Resolving raw.githubusercontent.com (raw.githubusercontent.com)... 185.199.110.133, 185.199.111.133, 185.199.108.133, ...\n",
      "Connecting to raw.githubusercontent.com (raw.githubusercontent.com)|185.199.110.133|:443... connected.\n",
      "HTTP request sent, awaiting response... 200 OK\n",
      "Length: 80876 (79K) [text/plain]\n",
      "Saving to: ‘course_lead_scoring.csv’\n",
      "\n",
      "course_lead_scoring 100%[===================>]  78.98K  --.-KB/s    in 0.02s   \n",
      "\n",
      "2025-10-13 17:05:59 (3.40 MB/s) - ‘course_lead_scoring.csv’ saved [80876/80876]\n",
      "\n"
     ]
    }
   ],
   "source": [
    "# Descargar el dataset de lead scoring\n",
    "!wget https://raw.githubusercontent.com/alexeygrigorev/datasets/master/course_lead_scoring.csv"
   ]
  },
  {
   "cell_type": "code",
   "execution_count": 3,
   "id": "756af9dc-66b2-45fd-a9cc-07f993d241b2",
   "metadata": {},
   "outputs": [],
   "source": [
    "!mv course_lead_scoring.csv ./data"
   ]
  },
  {
   "cell_type": "code",
   "execution_count": 4,
   "id": "996c71f6-182b-4015-be41-04c1091abaae",
   "metadata": {},
   "outputs": [
    {
     "name": "stdout",
     "output_type": "stream",
     "text": [
      "course_lead_scoring.csv\n"
     ]
    }
   ],
   "source": [
    "!ls data"
   ]
  },
  {
   "cell_type": "markdown",
   "id": "b9bde537-d772-4cbf-b8cf-cfc6fb17cd6b",
   "metadata": {},
   "source": [
    "## Cargar y explorar los datos"
   ]
  },
  {
   "cell_type": "code",
   "execution_count": 5,
   "id": "766a13ef",
   "metadata": {},
   "outputs": [
    {
     "name": "stdout",
     "output_type": "stream",
     "text": [
      "Forma del dataset: (1462, 9)\n"
     ]
    }
   ],
   "source": [
    "df = pd.read_csv('./data/course_lead_scoring.csv')\n",
    "print(f\"Forma del dataset: {df.shape}\")"
   ]
  },
  {
   "cell_type": "code",
   "execution_count": 6,
   "id": "67efd220-3784-4dc0-8147-2b9385450699",
   "metadata": {},
   "outputs": [
    {
     "name": "stdout",
     "output_type": "stream",
     "text": [
      "Columnas disponibles: ['lead_source', 'industry', 'number_of_courses_viewed', 'annual_income', 'employment_status', 'location', 'interaction_count', 'lead_score', 'converted']\n"
     ]
    }
   ],
   "source": [
    "print(f\"Columnas disponibles: {df.columns.tolist()}\")"
   ]
  },
  {
   "cell_type": "code",
   "execution_count": 7,
   "id": "f10f3b82-52a3-466e-9a51-0d37727aa970",
   "metadata": {},
   "outputs": [
    {
     "name": "stdout",
     "output_type": "stream",
     "text": [
      "Primeras 5 filas:\n"
     ]
    },
    {
     "data": {
      "text/html": [
       "<div>\n",
       "<style scoped>\n",
       "    .dataframe tbody tr th:only-of-type {\n",
       "        vertical-align: middle;\n",
       "    }\n",
       "\n",
       "    .dataframe tbody tr th {\n",
       "        vertical-align: top;\n",
       "    }\n",
       "\n",
       "    .dataframe thead th {\n",
       "        text-align: right;\n",
       "    }\n",
       "</style>\n",
       "<table border=\"1\" class=\"dataframe\">\n",
       "  <thead>\n",
       "    <tr style=\"text-align: right;\">\n",
       "      <th></th>\n",
       "      <th>lead_source</th>\n",
       "      <th>industry</th>\n",
       "      <th>number_of_courses_viewed</th>\n",
       "      <th>annual_income</th>\n",
       "      <th>employment_status</th>\n",
       "      <th>location</th>\n",
       "      <th>interaction_count</th>\n",
       "      <th>lead_score</th>\n",
       "      <th>converted</th>\n",
       "    </tr>\n",
       "  </thead>\n",
       "  <tbody>\n",
       "    <tr>\n",
       "      <th>0</th>\n",
       "      <td>paid_ads</td>\n",
       "      <td>NaN</td>\n",
       "      <td>1</td>\n",
       "      <td>79450.0</td>\n",
       "      <td>unemployed</td>\n",
       "      <td>south_america</td>\n",
       "      <td>4</td>\n",
       "      <td>0.94</td>\n",
       "      <td>1</td>\n",
       "    </tr>\n",
       "    <tr>\n",
       "      <th>1</th>\n",
       "      <td>social_media</td>\n",
       "      <td>retail</td>\n",
       "      <td>1</td>\n",
       "      <td>46992.0</td>\n",
       "      <td>employed</td>\n",
       "      <td>south_america</td>\n",
       "      <td>1</td>\n",
       "      <td>0.80</td>\n",
       "      <td>0</td>\n",
       "    </tr>\n",
       "    <tr>\n",
       "      <th>2</th>\n",
       "      <td>events</td>\n",
       "      <td>healthcare</td>\n",
       "      <td>5</td>\n",
       "      <td>78796.0</td>\n",
       "      <td>unemployed</td>\n",
       "      <td>australia</td>\n",
       "      <td>3</td>\n",
       "      <td>0.69</td>\n",
       "      <td>1</td>\n",
       "    </tr>\n",
       "    <tr>\n",
       "      <th>3</th>\n",
       "      <td>paid_ads</td>\n",
       "      <td>retail</td>\n",
       "      <td>2</td>\n",
       "      <td>83843.0</td>\n",
       "      <td>NaN</td>\n",
       "      <td>australia</td>\n",
       "      <td>1</td>\n",
       "      <td>0.87</td>\n",
       "      <td>0</td>\n",
       "    </tr>\n",
       "    <tr>\n",
       "      <th>4</th>\n",
       "      <td>referral</td>\n",
       "      <td>education</td>\n",
       "      <td>3</td>\n",
       "      <td>85012.0</td>\n",
       "      <td>self_employed</td>\n",
       "      <td>europe</td>\n",
       "      <td>3</td>\n",
       "      <td>0.62</td>\n",
       "      <td>1</td>\n",
       "    </tr>\n",
       "  </tbody>\n",
       "</table>\n",
       "</div>"
      ],
      "text/plain": [
       "    lead_source    industry  number_of_courses_viewed  annual_income  \\\n",
       "0      paid_ads         NaN                         1        79450.0   \n",
       "1  social_media      retail                         1        46992.0   \n",
       "2        events  healthcare                         5        78796.0   \n",
       "3      paid_ads      retail                         2        83843.0   \n",
       "4      referral   education                         3        85012.0   \n",
       "\n",
       "  employment_status       location  interaction_count  lead_score  converted  \n",
       "0        unemployed  south_america                  4        0.94          1  \n",
       "1          employed  south_america                  1        0.80          0  \n",
       "2        unemployed      australia                  3        0.69          1  \n",
       "3               NaN      australia                  1        0.87          0  \n",
       "4     self_employed         europe                  3        0.62          1  "
      ]
     },
     "execution_count": 7,
     "metadata": {},
     "output_type": "execute_result"
    }
   ],
   "source": [
    "print(f\"Primeras 5 filas:\")\n",
    "df.head()"
   ]
  },
  {
   "cell_type": "code",
   "execution_count": 8,
   "id": "b0a1b684-a062-48ba-af87-c56e1911d835",
   "metadata": {},
   "outputs": [
    {
     "name": "stdout",
     "output_type": "stream",
     "text": [
      "<class 'pandas.core.frame.DataFrame'>\n",
      "RangeIndex: 1462 entries, 0 to 1461\n",
      "Data columns (total 9 columns):\n",
      " #   Column                    Non-Null Count  Dtype  \n",
      "---  ------                    --------------  -----  \n",
      " 0   lead_source               1334 non-null   object \n",
      " 1   industry                  1328 non-null   object \n",
      " 2   number_of_courses_viewed  1462 non-null   int64  \n",
      " 3   annual_income             1281 non-null   float64\n",
      " 4   employment_status         1362 non-null   object \n",
      " 5   location                  1399 non-null   object \n",
      " 6   interaction_count         1462 non-null   int64  \n",
      " 7   lead_score                1462 non-null   float64\n",
      " 8   converted                 1462 non-null   int64  \n",
      "dtypes: float64(2), int64(3), object(4)\n",
      "memory usage: 102.9+ KB\n"
     ]
    }
   ],
   "source": [
    "# Información del dataset\n",
    "df.info()"
   ]
  },
  {
   "cell_type": "markdown",
   "id": "16416a4a",
   "metadata": {},
   "source": [
    "## Preparación de datos\n",
    "\n",
    "Verificamos valores faltantes y los manejamos según las instrucciones:\n",
    "- Categóricos: reemplazar con 'NA'\n",
    "- Numéricos: reemplazar con 0.0\n"
   ]
  },
  {
   "cell_type": "code",
   "execution_count": 9,
   "id": "29b17381",
   "metadata": {
    "scrolled": true
   },
   "outputs": [
    {
     "name": "stdout",
     "output_type": "stream",
     "text": [
      "VALORES FALTANTES POR COLUMNA\n",
      "==================================================\n",
      "                   Valores Faltantes  Porcentaje\n",
      "lead_source                      128    8.755130\n",
      "industry                         134    9.165527\n",
      "annual_income                    181   12.380301\n",
      "employment_status                100    6.839945\n",
      "location                          63    4.309166\n"
     ]
    }
   ],
   "source": [
    "# Verificar valores faltantes\n",
    "print(\"VALORES FALTANTES POR COLUMNA\")\n",
    "print(\"=\" * 50)\n",
    "missing_info = pd.DataFrame({\n",
    "    'Valores Faltantes': df.isnull().sum(),\n",
    "    'Porcentaje': (df.isnull().sum() / len(df)) * 100\n",
    "})\n",
    "print(missing_info[missing_info['Valores Faltantes'] > 0])"
   ]
  },
  {
   "cell_type": "markdown",
   "id": "a8789a39-8686-4e23-b198-d82ad504b7e0",
   "metadata": {},
   "source": [
    "### Identificar columnas categóricas y numéricas"
   ]
  },
  {
   "cell_type": "code",
   "execution_count": 10,
   "id": "50e01fdc-c5cc-4b33-bea8-983c85ff607c",
   "metadata": {},
   "outputs": [
    {
     "name": "stdout",
     "output_type": "stream",
     "text": [
      "\n",
      "Columnas categóricas: ['lead_source', 'industry', 'employment_status', 'location']\n",
      "Columnas numéricas: ['number_of_courses_viewed', 'annual_income', 'interaction_count', 'lead_score', 'converted']\n"
     ]
    }
   ],
   "source": [
    "categorical_cols = df.select_dtypes(include=['object']).columns.tolist()\n",
    "numerical_cols = df.select_dtypes(include=['int64', 'float64']).columns.tolist()\n",
    "\n",
    "print(f\"\\nColumnas categóricas: {categorical_cols}\")\n",
    "print(f\"Columnas numéricas: {numerical_cols}\")"
   ]
  },
  {
   "cell_type": "code",
   "execution_count": 11,
   "id": "8a16d8d8-c8ef-44bf-9208-1c5f60b40ed4",
   "metadata": {},
   "outputs": [
    {
     "name": "stdout",
     "output_type": "stream",
     "text": [
      "\n",
      "Valores faltantes después de la limpieza:\n",
      "0\n"
     ]
    }
   ],
   "source": [
    "# Aplicar el manejo de valores faltantes\n",
    "# Reemplazar valores faltantes en columnas categóricas con 'NA'\n",
    "for col in categorical_cols:\n",
    "    df[col] = df[col].fillna('NA')\n",
    "\n",
    "# Reemplazar valores faltantes en columnas numéricas con 0.0\n",
    "for col in numerical_cols:\n",
    "    if col != 'converted':  # No modificar la variable objetivo\n",
    "        df[col] = df[col].fillna(0.0)\n",
    "\n",
    "print(\"\\nValores faltantes después de la limpieza:\")\n",
    "print(df.isnull().sum().sum())"
   ]
  },
  {
   "cell_type": "markdown",
   "id": "2fbc6318-441a-4170-aaf5-35ca51358b25",
   "metadata": {},
   "source": [
    "## Question 1: Moda de la columna 'industry'\n",
    "\n",
    "**Pregunta:** ¿Cuál es la observación más frecuente (moda) para la columna `industry`?"
   ]
  },
  {
   "cell_type": "code",
   "execution_count": 12,
   "id": "3a46b7cd-c7cd-4384-bb46-cb5e2e8d1f61",
   "metadata": {},
   "outputs": [
    {
     "name": "stdout",
     "output_type": "stream",
     "text": [
      "La moda de 'industry' es: retail\n",
      "\n",
      "Distribución de 'industry':\n",
      "industry\n",
      "retail           203\n",
      "finance          200\n",
      "other            198\n",
      "healthcare       187\n",
      "education        187\n",
      "technology       179\n",
      "manufacturing    174\n",
      "NA               134\n",
      "Name: count, dtype: int64\n"
     ]
    }
   ],
   "source": [
    "# Calcular la moda de 'industry'\n",
    "mode_industry = df['industry'].mode()[0]\n",
    "print(f\"La moda de 'industry' es: {mode_industry}\")\n",
    "\n",
    "# Ver la distribución completa\n",
    "print(f\"\\nDistribución de 'industry':\")\n",
    "print(df['industry'].value_counts())"
   ]
  },
  {
   "cell_type": "markdown",
   "id": "6a69d585-3cfe-4268-95a7-035b6fb91cd7",
   "metadata": {},
   "source": [
    "## Question 2: Correlación entre variables numéricas\n",
    "\n",
    "**Pregunta:** Crear la matriz de correlación para las variables numéricas del dataset. ¿Cuáles son las dos características que tienen la mayor correlación?"
   ]
  },
  {
   "cell_type": "code",
   "execution_count": 13,
   "id": "a5423dca-2626-4163-8df8-dee489e4b4fd",
   "metadata": {},
   "outputs": [
    {
     "name": "stdout",
     "output_type": "stream",
     "text": [
      "Matriz de correlación:\n"
     ]
    }
   ],
   "source": [
    "# Calcular la matriz de correlación para variables numéricas (excluyendo 'converted')\n",
    "numerical_features = [col for col in numerical_cols if col != 'converted']\n",
    "correlation_matrix = df[numerical_features].corr()\n",
    "\n",
    "print(\"Matriz de correlación:\")"
   ]
  },
  {
   "cell_type": "code",
   "execution_count": 14,
   "id": "5fc471ca-1cd2-4bb2-8189-84d44387237f",
   "metadata": {},
   "outputs": [
    {
     "data": {
      "text/html": [
       "<div>\n",
       "<style scoped>\n",
       "    .dataframe tbody tr th:only-of-type {\n",
       "        vertical-align: middle;\n",
       "    }\n",
       "\n",
       "    .dataframe tbody tr th {\n",
       "        vertical-align: top;\n",
       "    }\n",
       "\n",
       "    .dataframe thead th {\n",
       "        text-align: right;\n",
       "    }\n",
       "</style>\n",
       "<table border=\"1\" class=\"dataframe\">\n",
       "  <thead>\n",
       "    <tr style=\"text-align: right;\">\n",
       "      <th></th>\n",
       "      <th>number_of_courses_viewed</th>\n",
       "      <th>annual_income</th>\n",
       "      <th>interaction_count</th>\n",
       "      <th>lead_score</th>\n",
       "    </tr>\n",
       "  </thead>\n",
       "  <tbody>\n",
       "    <tr>\n",
       "      <th>number_of_courses_viewed</th>\n",
       "      <td>1.000000</td>\n",
       "      <td>0.009770</td>\n",
       "      <td>-0.023565</td>\n",
       "      <td>-0.004879</td>\n",
       "    </tr>\n",
       "    <tr>\n",
       "      <th>annual_income</th>\n",
       "      <td>0.009770</td>\n",
       "      <td>1.000000</td>\n",
       "      <td>0.027036</td>\n",
       "      <td>0.015610</td>\n",
       "    </tr>\n",
       "    <tr>\n",
       "      <th>interaction_count</th>\n",
       "      <td>-0.023565</td>\n",
       "      <td>0.027036</td>\n",
       "      <td>1.000000</td>\n",
       "      <td>0.009888</td>\n",
       "    </tr>\n",
       "    <tr>\n",
       "      <th>lead_score</th>\n",
       "      <td>-0.004879</td>\n",
       "      <td>0.015610</td>\n",
       "      <td>0.009888</td>\n",
       "      <td>1.000000</td>\n",
       "    </tr>\n",
       "  </tbody>\n",
       "</table>\n",
       "</div>"
      ],
      "text/plain": [
       "                          number_of_courses_viewed  annual_income  \\\n",
       "number_of_courses_viewed                  1.000000       0.009770   \n",
       "annual_income                             0.009770       1.000000   \n",
       "interaction_count                        -0.023565       0.027036   \n",
       "lead_score                               -0.004879       0.015610   \n",
       "\n",
       "                          interaction_count  lead_score  \n",
       "number_of_courses_viewed          -0.023565   -0.004879  \n",
       "annual_income                      0.027036    0.015610  \n",
       "interaction_count                  1.000000    0.009888  \n",
       "lead_score                         0.009888    1.000000  "
      ]
     },
     "execution_count": 14,
     "metadata": {},
     "output_type": "execute_result"
    }
   ],
   "source": [
    "correlation_matrix"
   ]
  },
  {
   "cell_type": "code",
   "execution_count": 15,
   "id": "e68e7c65-a5af-4e19-9dd0-d05e090abc8d",
   "metadata": {},
   "outputs": [
    {
     "name": "stdout",
     "output_type": "stream",
     "text": [
      "Correlaciones de los pares especificados:\n",
      "\n",
      "interaction_count vs lead_score: 0.0099\n",
      "number_of_courses_viewed vs lead_score: -0.0049\n",
      "number_of_courses_viewed vs interaction_count: -0.0236\n",
      "annual_income vs interaction_count: 0.0270\n"
     ]
    }
   ],
   "source": [
    "# Verificar las correlaciones específicas de las opciones\n",
    "pairs_to_check = [\n",
    "    ('interaction_count', 'lead_score'),\n",
    "    ('number_of_courses_viewed', 'lead_score'),\n",
    "    ('number_of_courses_viewed', 'interaction_count'),\n",
    "    ('annual_income', 'interaction_count')\n",
    "]\n",
    "\n",
    "print(\"Correlaciones de los pares especificados:\\n\")\n",
    "for var1, var2 in pairs_to_check:\n",
    "    if var1 in correlation_matrix.columns and var2 in correlation_matrix.columns:\n",
    "        corr_value = correlation_matrix.loc[var1, var2]\n",
    "        print(f\"{var1} vs {var2}: {corr_value:.4f}\")"
   ]
  },
  {
   "cell_type": "code",
   "execution_count": 16,
   "id": "ea7bd7dc-1e20-4069-b3f1-8af5d979bb30",
   "metadata": {},
   "outputs": [
    {
     "name": "stdout",
     "output_type": "stream",
     "text": [
      "annual_income y interaction_count (correlación: 0.0270)\n"
     ]
    }
   ],
   "source": [
    "# Encontrar la mayor correlación entre los pares especificados\n",
    "max_corr = 0\n",
    "max_pair = None\n",
    "\n",
    "for var1, var2 in pairs_to_check:\n",
    "    if var1 in correlation_matrix.columns and var2 in correlation_matrix.columns:\n",
    "        corr_value = abs(correlation_matrix.loc[var1, var2])\n",
    "        if corr_value > max_corr:\n",
    "            max_corr = corr_value\n",
    "            max_pair = (var1, var2)\n",
    "\n",
    "print(f\"{max_pair[0]} y {max_pair[1]} (correlación: {max_corr:.4f})\")"
   ]
  },
  {
   "cell_type": "code",
   "execution_count": 17,
   "id": "b5929f80-6f35-4f58-8611-50e24cdbc0a3",
   "metadata": {},
   "outputs": [
    {
     "data": {
      "image/png": "[encoded data removed]",
      "text/plain": [
       "<Figure size 800x600 with 2 Axes>"
      ]
     },
     "metadata": {},
     "output_type": "display_data"
    }
   ],
   "source": [
    "# Crear una máscara para ocultar la mitad superior + diagonal\n",
    "mask = np.triu(np.ones_like(correlation_matrix, dtype=bool))\n",
    "\n",
    "plt.figure(figsize=(8, 6))\n",
    "sns.heatmap(\n",
    "    correlation_matrix,\n",
    "    mask=mask,\n",
    "    annot=True,\n",
    "    fmt=\".2f\",\n",
    "    cmap=\"coolwarm\",\n",
    "    center=0,\n",
    "    linewidths=0.5,\n",
    "    square=True\n",
    ")\n",
    "plt.title(\"Heatmap de Correlaciones (sin diagonal)\", fontsize=14, pad=12)\n",
    "plt.show()"
   ]
  },
  {
   "cell_type": "markdown",
   "id": "54a780f0-96e5-4172-b4dc-8d7b7839875d",
   "metadata": {},
   "source": [
    "### División de datos (Train/Val/Test)\n",
    "\n",
    "**Instrucciones:**\n",
    "- Dividir los datos en conjuntos de entrenamiento/validación/prueba con distribución 60%/20%/20%\n",
    "- Usar `train_test_split` de Scikit-Learn con `seed=42`\n",
    "- Asegurarse de que la variable objetivo `converted` no esté en el dataframe de features"
   ]
  },
  {
   "cell_type": "code",
   "execution_count": 18,
   "id": "c1f59d1c-b4dc-4bac-876e-2a12e67a129e",
   "metadata": {},
   "outputs": [],
   "source": [
    "# Primero dividir train (60%) vs temp (40%)\n",
    "df_train_full, df_temp = train_test_split(df, test_size=0.4, random_state=42)\n",
    "\n",
    "# Luego dividir temp en val (20%) y test (20%)\n",
    "df_val, df_test = train_test_split(df_temp, test_size=0.5, random_state=42)"
   ]
  },
  {
   "cell_type": "code",
   "execution_count": 19,
   "id": "f9ae8d4d-ab1f-442b-a0c0-ec4f06400d91",
   "metadata": {},
   "outputs": [
    {
     "name": "stdout",
     "output_type": "stream",
     "text": [
      "Tamaño del conjunto de entrenamiento: 877 (60.0%) -> shape: (877, 9)\n",
      "Tamaño del conjunto de validación: 292 (20.0%) -> shape: (292, 9)\n",
      "Tamaño del conjunto de prueba: 293 (20.0%) -> shape: (293, 9)\n"
     ]
    }
   ],
   "source": [
    "print(f\"Tamaño del conjunto de entrenamiento: {len(df_train_full)} ({len(df_train_full)/len(df)*100:.1f}%) -> shape: {df_train_full.shape}\")\n",
    "print(f\"Tamaño del conjunto de validación: {len(df_val)} ({len(df_val)/len(df)*100:.1f}%) -> shape: {df_val.shape}\")\n",
    "print(f\"Tamaño del conjunto de prueba: {len(df_test)} ({len(df_test)/len(df)*100:.1f}%) -> shape: {df_test.shape}\")"
   ]
  },
  {
   "cell_type": "code",
   "execution_count": 20,
   "id": "3b8767ba-bb81-4dcc-bac6-a9b85e7422e1",
   "metadata": {},
   "outputs": [],
   "source": [
    "# Separar features de la variable objetivo\n",
    "y_train = df_train_full['converted'].values\n",
    "y_val = df_val['converted'].values\n",
    "y_test = df_test['converted'].values"
   ]
  },
  {
   "cell_type": "code",
   "execution_count": 21,
   "id": "3355ddc1-2611-473d-b4fe-8c3a2c838f1e",
   "metadata": {},
   "outputs": [],
   "source": [
    "# Eliminar la columna 'converted' de los dataframes\n",
    "df_train_full = df_train_full.drop('converted', axis=1).reset_index(drop=True)\n",
    "df_val = df_val.drop('converted', axis=1).reset_index(drop=True)\n",
    "df_test = df_test.drop('converted', axis=1).reset_index(drop=True)"
   ]
  },
  {
   "cell_type": "code",
   "execution_count": 23,
   "id": "becb94fb-d3a2-4e7f-a059-ebb661daa111",
   "metadata": {},
   "outputs": [
    {
     "name": "stdout",
     "output_type": "stream",
     "text": [
      "\n",
      "Forma del conjunto de entrenamiento: (877, 8)\n",
      "Forma del conjunto de validación: (292, 8)\n",
      "Forma del conjunto de prueba: (293, 8)\n"
     ]
    }
   ],
   "source": [
    "print(f\"\\nForma del conjunto de entrenamiento: {df_train_full.shape}\")\n",
    "print(f\"Forma del conjunto de validación: {df_val.shape}\")\n",
    "print(f\"Forma del conjunto de prueba: {df_test.shape}\")"
   ]
  },
  {
   "cell_type": "markdown",
   "id": "01beea3e-e8b7-4f35-af32-34496f4788ef",
   "metadata": {},
   "source": [
    "## Question 3: Mutual Information Score\n",
    "\n",
    "**Pregunta:** Calcular el mutual information score entre `converted` y otras variables categóricas del dataset usando solo el conjunto de entrenamiento. Redondear los scores a 2 decimales usando `round(score, 2)`.\n",
    "\n",
    "¿Cuál de estas variables tiene el mayor mutual information score?"
   ]
  },
  {
   "cell_type": "code",
   "execution_count": 24,
   "id": "3b763e70-794a-4976-b6b6-fe21d146f8ba",
   "metadata": {},
   "outputs": [
    {
     "name": "stdout",
     "output_type": "stream",
     "text": [
      "Variables categóricas encontradas:\n",
      "['lead_source', 'industry', 'employment_status', 'location']\n"
     ]
    }
   ],
   "source": [
    "# Identificar variables categóricas en el conjunto de entrenamiento\n",
    "categorical_features = df_train_full.select_dtypes(include=['object']).columns.tolist()\n",
    "\n",
    "print(\"Variables categóricas encontradas:\")\n",
    "print(categorical_features)"
   ]
  },
  {
   "cell_type": "code",
   "execution_count": 25,
   "id": "8c2bd5bd-0876-496e-9ae2-cd105f4df699",
   "metadata": {},
   "outputs": [
    {
     "data": {
      "text/plain": [
       "{'lead_source': 0.03,\n",
       " 'industry': 0.02,\n",
       " 'employment_status': 0.02,\n",
       " 'location': 0.0}"
      ]
     },
     "execution_count": 25,
     "metadata": {},
     "output_type": "execute_result"
    }
   ],
   "source": [
    "# Diccionario para guardar resultados\n",
    "mi_scores = {}\n",
    "\n",
    "# Calcular la información mutua para cada feature categórica\n",
    "for col in categorical_features:\n",
    "    mi_score = mutual_info_score(df_train_full[col], y_train)\n",
    "    mi_scores[col] = round(mi_score, 2)\n",
    "\n",
    "mi_scores"
   ]
  },
  {
   "cell_type": "code",
   "execution_count": 26,
   "id": "a13dc122-60c4-480f-87ff-7dec5a9ac384",
   "metadata": {},
   "outputs": [
    {
     "data": {
      "text/html": [
       "<div>\n",
       "<style scoped>\n",
       "    .dataframe tbody tr th:only-of-type {\n",
       "        vertical-align: middle;\n",
       "    }\n",
       "\n",
       "    .dataframe tbody tr th {\n",
       "        vertical-align: top;\n",
       "    }\n",
       "\n",
       "    .dataframe thead th {\n",
       "        text-align: right;\n",
       "    }\n",
       "</style>\n",
       "<table border=\"1\" class=\"dataframe\">\n",
       "  <thead>\n",
       "    <tr style=\"text-align: right;\">\n",
       "      <th></th>\n",
       "      <th>Feature</th>\n",
       "      <th>Mutual Information Score</th>\n",
       "    </tr>\n",
       "  </thead>\n",
       "  <tbody>\n",
       "    <tr>\n",
       "      <th>0</th>\n",
       "      <td>lead_source</td>\n",
       "      <td>0.03</td>\n",
       "    </tr>\n",
       "    <tr>\n",
       "      <th>1</th>\n",
       "      <td>industry</td>\n",
       "      <td>0.02</td>\n",
       "    </tr>\n",
       "    <tr>\n",
       "      <th>2</th>\n",
       "      <td>employment_status</td>\n",
       "      <td>0.02</td>\n",
       "    </tr>\n",
       "    <tr>\n",
       "      <th>3</th>\n",
       "      <td>location</td>\n",
       "      <td>0.00</td>\n",
       "    </tr>\n",
       "  </tbody>\n",
       "</table>\n",
       "</div>"
      ],
      "text/plain": [
       "             Feature  Mutual Information Score\n",
       "0        lead_source                      0.03\n",
       "1           industry                      0.02\n",
       "2  employment_status                      0.02\n",
       "3           location                      0.00"
      ]
     },
     "execution_count": 26,
     "metadata": {},
     "output_type": "execute_result"
    }
   ],
   "source": [
    "# Crear un DataFrame a partir del diccionario\n",
    "mi_df = pd.DataFrame(\n",
    "    list(mi_scores.items()),\n",
    "    columns=[\"Feature\", \"Mutual Information Score\"]\n",
    ").sort_values(by=\"Mutual Information Score\", ascending=False).reset_index(drop=True)\n",
    "\n",
    "# Mostrar el DataFrame resultante\n",
    "mi_df"
   ]
  },
  {
   "cell_type": "markdown",
   "id": "67b74c2f-cc2e-4453-bec9-2b1ef612d70c",
   "metadata": {},
   "source": [
    "### Preparar datos con one-hot encoding usando DictVectorizer"
   ]
  },
  {
   "cell_type": "code",
   "execution_count": 27,
   "id": "c7c8767f-eab3-42ec-b878-edb5807a0efc",
   "metadata": {},
   "outputs": [],
   "source": [
    "train_dicts = df_train_full.to_dict(orient='records')\n",
    "val_dicts = df_val.to_dict(orient='records')"
   ]
  },
  {
   "cell_type": "code",
   "execution_count": 28,
   "id": "c4a7a613-0ebe-47bc-bfea-b72a96662703",
   "metadata": {},
   "outputs": [],
   "source": [
    "dv = DictVectorizer(sparse=False)\n",
    "X_train = dv.fit_transform(train_dicts)\n",
    "X_val = dv.transform(val_dicts)"
   ]
  },
  {
   "cell_type": "code",
   "execution_count": 29,
   "id": "1d1dfc81-cb58-4e7d-83c6-a9927665b566",
   "metadata": {},
   "outputs": [
    {
     "name": "stdout",
     "output_type": "stream",
     "text": [
      "Forma de X_train después de one-hot encoding: (877, 31)\n",
      "Forma de X_val después de one-hot encoding: (292, 31)\n"
     ]
    }
   ],
   "source": [
    "print(f\"Forma de X_train después de one-hot encoding: {X_train.shape}\")\n",
    "print(f\"Forma de X_val después de one-hot encoding: {X_val.shape}\")"
   ]
  },
  {
   "cell_type": "markdown",
   "id": "615863cc-d025-4bd2-8793-3db713dd5108",
   "metadata": {},
   "source": [
    "## Question 4: Regresión Logística\n",
    "\n",
    "**Pregunta:** Entrenar una regresión logística incluyendo las variables categóricas usando one-hot encoding. Ajustar el modelo en el conjunto de entrenamiento con los siguientes parámetros para asegurar reproducibilidad:\n",
    "\n",
    "```python\n",
    "model = LogisticRegression(solver='liblinear', C=1.0, max_iter=1000, random_state=42)\n",
    "```\n",
    "\n",
    "Calcular el accuracy en el conjunto de validación y redondearlo a 2 decimales.\n",
    "\n",
    "¿Qué accuracy obtuviste?"
   ]
  },
  {
   "cell_type": "code",
   "execution_count": 30,
   "id": "1da37c6b-17d4-4184-bed4-21caf02f81c1",
   "metadata": {},
   "outputs": [
    {
     "name": "stdout",
     "output_type": "stream",
     "text": [
      "Modelo entrenado correctamente\n"
     ]
    }
   ],
   "source": [
    "# Entrenar el modelo de regresión logística\n",
    "model = LogisticRegression(solver='liblinear', C=1.0, max_iter=1000, random_state=42)\n",
    "model.fit(X_train, y_train)\n",
    "\n",
    "print(\"Modelo entrenado correctamente\")"
   ]
  },
  {
   "cell_type": "code",
   "execution_count": 31,
   "id": "aacb686b-2971-433c-bb3f-7b318b8cc811",
   "metadata": {},
   "outputs": [
    {
     "data": {
      "text/plain": [
       "0.7431506849315068"
      ]
     },
     "execution_count": 31,
     "metadata": {},
     "output_type": "execute_result"
    }
   ],
   "source": [
    "# Calcular accuracy en validación\n",
    "y_pred_val = model.predict(X_val)\n",
    "accuracy = accuracy_score(y_val, y_pred_val)\n",
    "accuracy"
   ]
  },
  {
   "cell_type": "code",
   "execution_count": 32,
   "id": "96d87796-ca2f-47f9-8081-05ef98763ae3",
   "metadata": {},
   "outputs": [
    {
     "name": "stdout",
     "output_type": "stream",
     "text": [
      "Accuracy val: 0.74\n"
     ]
    }
   ],
   "source": [
    "accuracy_rounded = round(accuracy, 2)\n",
    "print(f\"Accuracy val: {accuracy_rounded}\")"
   ]
  },
  {
   "cell_type": "markdown",
   "id": "2bbabec7-e719-4d97-9544-e3e9bb99cf17",
   "metadata": {},
   "source": [
    "## Question 5: Eliminación de características\n",
    "\n",
    "**Pregunta:** Encontrar la característica menos útil usando la técnica de eliminación de características (_feature elimination_). Entrenar un modelo usando las mismas características y parámetros que en Q4 (sin redondear). Luego excluir cada característica de este conjunto y entrenar un modelo sin ella. Registrar el accuracy para cada modelo.\n",
    "\n",
    "Para cada característica, calcular la diferencia entre el accuracy original y el accuracy sin la característica.\n",
    "\n",
    "¿Cuál de las siguientes características tiene la menor diferencia?\n",
    "\n",
    "\n",
    "*Nota: La diferencia no tiene que ser positiva.*"
   ]
  },
  {
   "cell_type": "code",
   "execution_count": 33,
   "id": "7a7eda50-502b-4a1e-9340-3f64ef8b174a",
   "metadata": {},
   "outputs": [
    {
     "data": {
      "text/plain": [
       "0.7431506849315068"
      ]
     },
     "execution_count": 33,
     "metadata": {},
     "output_type": "execute_result"
    }
   ],
   "source": [
    "# Obtener el accuracy original (sin redondear para precisión)\n",
    "y_pred_original = model.predict(X_val)\n",
    "accuracy_original = accuracy_score(y_val, y_pred_original)\n",
    "accuracy_original"
   ]
  },
  {
   "cell_type": "code",
   "execution_count": 34,
   "id": "f4c9cfad-89dc-486a-903a-050ed48ae505",
   "metadata": {},
   "outputs": [
    {
     "data": {
      "text/plain": [
       "['lead_source',\n",
       " 'industry',\n",
       " 'number_of_courses_viewed',\n",
       " 'annual_income',\n",
       " 'employment_status',\n",
       " 'location',\n",
       " 'interaction_count',\n",
       " 'lead_score']"
      ]
     },
     "execution_count": 34,
     "metadata": {},
     "output_type": "execute_result"
    }
   ],
   "source": [
    "cols_df = df_train_full.columns.tolist()\n",
    "cols_df"
   ]
  },
  {
   "cell_type": "code",
   "execution_count": 36,
   "id": "13dfb994-a365-46c4-bbb4-563e2d42aecb",
   "metadata": {},
   "outputs": [
    {
     "data": {
      "text/plain": [
       "[{'feature': 'lead_source',\n",
       "  'accuracy_original': 0.7432,\n",
       "  'accuracy_no_feat': 0.7295,\n",
       "  'diff': 0.0137},\n",
       " {'feature': 'industry',\n",
       "  'accuracy_original': 0.7432,\n",
       "  'accuracy_no_feat': 0.7432,\n",
       "  'diff': 0.0},\n",
       " {'feature': 'number_of_courses_viewed',\n",
       "  'accuracy_original': 0.7432,\n",
       "  'accuracy_no_feat': 0.6781,\n",
       "  'diff': 0.0651},\n",
       " {'feature': 'annual_income',\n",
       "  'accuracy_original': 0.7432,\n",
       "  'accuracy_no_feat': 0.8562,\n",
       "  'diff': -0.113},\n",
       " {'feature': 'employment_status',\n",
       "  'accuracy_original': 0.7432,\n",
       "  'accuracy_no_feat': 0.7466,\n",
       "  'diff': -0.0034},\n",
       " {'feature': 'location',\n",
       "  'accuracy_original': 0.7432,\n",
       "  'accuracy_no_feat': 0.7432,\n",
       "  'diff': 0.0},\n",
       " {'feature': 'interaction_count',\n",
       "  'accuracy_original': 0.7432,\n",
       "  'accuracy_no_feat': 0.6747,\n",
       "  'diff': 0.0685},\n",
       " {'feature': 'lead_score',\n",
       "  'accuracy_original': 0.7432,\n",
       "  'accuracy_no_feat': 0.7432,\n",
       "  'diff': 0.0}]"
      ]
     },
     "execution_count": 36,
     "metadata": {},
     "output_type": "execute_result"
    }
   ],
   "source": [
    "# Evaluar eliminando cada característica\n",
    "features_to_test = cols_df\n",
    "feature_importance = []\n",
    "\n",
    "for feature in features_to_test:\n",
    "    # Crear dataframes sin la característica\n",
    "    df_train_no_feat = df_train_full.drop(feature, axis=1)\n",
    "    df_val_no_feat = df_val.drop(feature, axis=1)\n",
    "    \n",
    "    # Preparar datos con one-hot encoding\n",
    "    train_dicts_no_feat = df_train_no_feat.to_dict(orient='records')\n",
    "    val_dicts_no_feat = df_val_no_feat.to_dict(orient='records')\n",
    "    \n",
    "    dv_no_feat = DictVectorizer(sparse=False)\n",
    "    X_train_no_feat = dv_no_feat.fit_transform(train_dicts_no_feat)\n",
    "    X_val_no_feat = dv_no_feat.transform(val_dicts_no_feat)\n",
    "    \n",
    "    # Entrenar modelo sin la característica\n",
    "    model_no_feat = LogisticRegression(solver='liblinear', C=1.0, max_iter=1000, random_state=42)\n",
    "    model_no_feat.fit(X_train_no_feat, y_train)\n",
    "    \n",
    "    # Calcular accuracy\n",
    "    y_pred_no_feat = model_no_feat.predict(X_val_no_feat)\n",
    "    accuracy_no_feat = accuracy_score(y_val, y_pred_no_feat)\n",
    "    \n",
    "    # Calcular la diferencia\n",
    "    diff = accuracy_original - accuracy_no_feat\n",
    "    \n",
    "    # Guardar resultados como dict limpio\n",
    "    feature_importance.append({\n",
    "        'feature': feature,\n",
    "        'accuracy_original': round(accuracy_original, 4),\n",
    "        'accuracy_no_feat': round(accuracy_no_feat, 4),\n",
    "        'diff': round(diff, 4)\n",
    "    })\n",
    "    \n",
    "feature_importance"
   ]
  },
  {
   "cell_type": "code",
   "execution_count": 39,
   "id": "7c5dcd5a-6476-4cdd-8e12-4ce43f2751ea",
   "metadata": {},
   "outputs": [
    {
     "data": {
      "text/html": [
       "<div>\n",
       "<style scoped>\n",
       "    .dataframe tbody tr th:only-of-type {\n",
       "        vertical-align: middle;\n",
       "    }\n",
       "\n",
       "    .dataframe tbody tr th {\n",
       "        vertical-align: top;\n",
       "    }\n",
       "\n",
       "    .dataframe thead th {\n",
       "        text-align: right;\n",
       "    }\n",
       "</style>\n",
       "<table border=\"1\" class=\"dataframe\">\n",
       "  <thead>\n",
       "    <tr style=\"text-align: right;\">\n",
       "      <th></th>\n",
       "      <th>feature</th>\n",
       "      <th>accuracy_original</th>\n",
       "      <th>accuracy_no_feat</th>\n",
       "      <th>diff</th>\n",
       "    </tr>\n",
       "  </thead>\n",
       "  <tbody>\n",
       "    <tr>\n",
       "      <th>0</th>\n",
       "      <td>annual_income</td>\n",
       "      <td>0.7432</td>\n",
       "      <td>0.8562</td>\n",
       "      <td>-0.1130</td>\n",
       "    </tr>\n",
       "    <tr>\n",
       "      <th>1</th>\n",
       "      <td>employment_status</td>\n",
       "      <td>0.7432</td>\n",
       "      <td>0.7466</td>\n",
       "      <td>-0.0034</td>\n",
       "    </tr>\n",
       "    <tr>\n",
       "      <th>2</th>\n",
       "      <td>location</td>\n",
       "      <td>0.7432</td>\n",
       "      <td>0.7432</td>\n",
       "      <td>0.0000</td>\n",
       "    </tr>\n",
       "    <tr>\n",
       "      <th>3</th>\n",
       "      <td>industry</td>\n",
       "      <td>0.7432</td>\n",
       "      <td>0.7432</td>\n",
       "      <td>0.0000</td>\n",
       "    </tr>\n",
       "    <tr>\n",
       "      <th>4</th>\n",
       "      <td>lead_score</td>\n",
       "      <td>0.7432</td>\n",
       "      <td>0.7432</td>\n",
       "      <td>0.0000</td>\n",
       "    </tr>\n",
       "    <tr>\n",
       "      <th>5</th>\n",
       "      <td>lead_source</td>\n",
       "      <td>0.7432</td>\n",
       "      <td>0.7295</td>\n",
       "      <td>0.0137</td>\n",
       "    </tr>\n",
       "    <tr>\n",
       "      <th>6</th>\n",
       "      <td>number_of_courses_viewed</td>\n",
       "      <td>0.7432</td>\n",
       "      <td>0.6781</td>\n",
       "      <td>0.0651</td>\n",
       "    </tr>\n",
       "    <tr>\n",
       "      <th>7</th>\n",
       "      <td>interaction_count</td>\n",
       "      <td>0.7432</td>\n",
       "      <td>0.6747</td>\n",
       "      <td>0.0685</td>\n",
       "    </tr>\n",
       "  </tbody>\n",
       "</table>\n",
       "</div>"
      ],
      "text/plain": [
       "                    feature  accuracy_original  accuracy_no_feat    diff\n",
       "0             annual_income             0.7432            0.8562 -0.1130\n",
       "1         employment_status             0.7432            0.7466 -0.0034\n",
       "2                  location             0.7432            0.7432  0.0000\n",
       "3                  industry             0.7432            0.7432  0.0000\n",
       "4                lead_score             0.7432            0.7432  0.0000\n",
       "5               lead_source             0.7432            0.7295  0.0137\n",
       "6  number_of_courses_viewed             0.7432            0.6781  0.0651\n",
       "7         interaction_count             0.7432            0.6747  0.0685"
      ]
     },
     "execution_count": 39,
     "metadata": {},
     "output_type": "execute_result"
    }
   ],
   "source": [
    "# Convertir a DataFrame\n",
    "feature_importance_df = pd.DataFrame(feature_importance)\n",
    "\n",
    "# Ordenar por la diferencia (menor impacto primero)\n",
    "feature_importance_df = feature_importance_df.sort_values(by='diff').reset_index(drop=True)\n",
    "\n",
    "feature_importance_df"
   ]
  },
  {
   "cell_type": "code",
   "execution_count": 41,
   "id": "01dca5b1-e585-4c64-893c-0d381d28bd86",
   "metadata": {},
   "outputs": [
    {
     "name": "stdout",
     "output_type": "stream",
     "text": [
      "Características analizadas:\n"
     ]
    },
    {
     "data": {
      "text/html": [
       "<div>\n",
       "<style scoped>\n",
       "    .dataframe tbody tr th:only-of-type {\n",
       "        vertical-align: middle;\n",
       "    }\n",
       "\n",
       "    .dataframe tbody tr th {\n",
       "        vertical-align: top;\n",
       "    }\n",
       "\n",
       "    .dataframe thead th {\n",
       "        text-align: right;\n",
       "    }\n",
       "</style>\n",
       "<table border=\"1\" class=\"dataframe\">\n",
       "  <thead>\n",
       "    <tr style=\"text-align: right;\">\n",
       "      <th></th>\n",
       "      <th>feature</th>\n",
       "      <th>accuracy_original</th>\n",
       "      <th>accuracy_no_feat</th>\n",
       "      <th>diff</th>\n",
       "    </tr>\n",
       "  </thead>\n",
       "  <tbody>\n",
       "    <tr>\n",
       "      <th>1</th>\n",
       "      <td>employment_status</td>\n",
       "      <td>0.7432</td>\n",
       "      <td>0.7466</td>\n",
       "      <td>-0.0034</td>\n",
       "    </tr>\n",
       "    <tr>\n",
       "      <th>3</th>\n",
       "      <td>industry</td>\n",
       "      <td>0.7432</td>\n",
       "      <td>0.7432</td>\n",
       "      <td>0.0000</td>\n",
       "    </tr>\n",
       "    <tr>\n",
       "      <th>4</th>\n",
       "      <td>lead_score</td>\n",
       "      <td>0.7432</td>\n",
       "      <td>0.7432</td>\n",
       "      <td>0.0000</td>\n",
       "    </tr>\n",
       "  </tbody>\n",
       "</table>\n",
       "</div>"
      ],
      "text/plain": [
       "             feature  accuracy_original  accuracy_no_feat    diff\n",
       "1  employment_status             0.7432            0.7466 -0.0034\n",
       "3           industry             0.7432            0.7432  0.0000\n",
       "4         lead_score             0.7432            0.7432  0.0000"
      ]
     },
     "metadata": {},
     "output_type": "display_data"
    },
    {
     "name": "stdout",
     "output_type": "stream",
     "text": [
      "\n",
      "La característica con la menor diferencia es: 'employment_status' (diff = -0.0034)\n"
     ]
    }
   ],
   "source": [
    "# Filtrar solo las características mencionadas\n",
    "features_to_check = ['industry', 'employment_status', 'lead_score']\n",
    "\n",
    "subset = feature_importance_df[feature_importance_df['feature'].isin(features_to_check)]\n",
    "\n",
    "# Mostrar cuál tiene la menor diferencia (puede ser negativa)\n",
    "min_diff_row = subset.loc[subset['diff'].idxmin()]\n",
    "\n",
    "print(\"Características analizadas:\")\n",
    "display(subset)\n",
    "\n",
    "print(f\"\\nLa característica con la menor diferencia es: '{min_diff_row['feature']}' (diff = {min_diff_row['diff']:.4f})\")"
   ]
  },
  {
   "cell_type": "markdown",
   "id": "446565d0-0042-45e7-9e9e-fba599ea96a4",
   "metadata": {},
   "source": [
    "## Question 6: Regularización\n",
    "\n",
    "**Pregunta:** Entrenar una regresión logística regularizada probando los siguientes valores del parámetro `C`: `[0.01, 0.1, 1, 10, 100]`. Entrenar modelos usando todas las características como en Q4. Calcular el accuracy en el conjunto de validación y redondearlo a 3 decimales.\n",
    "\n",
    "¿Cuál de estos valores de `C` conduce al mejor accuracy en el conjunto de validación?\n",
    "\n",
    "**Opciones:**\n",
    "- 0.01\n",
    "- 0.1\n",
    "- 1\n",
    "- 10\n",
    "- 100\n",
    "\n",
    "*Nota: Si hay múltiples opciones con el mismo accuracy, seleccionar el menor valor de `C`.*"
   ]
  },
  {
   "cell_type": "code",
   "execution_count": 43,
   "id": "b951684c-a669-4fa2-aba4-8abcdf303729",
   "metadata": {},
   "outputs": [
    {
     "data": {
      "text/plain": [
       "[0.01, 0.1, 1, 10, 100]"
      ]
     },
     "execution_count": 43,
     "metadata": {},
     "output_type": "execute_result"
    }
   ],
   "source": [
    "# Probar diferentes valores de C\n",
    "c_list = [0.01, 0.1, 1, 10, 100]\n",
    "c_list"
   ]
  },
  {
   "cell_type": "code",
   "execution_count": 56,
   "id": "a09b4c96-ea77-419b-bbf0-fd3f4eb1b473",
   "metadata": {},
   "outputs": [
    {
     "data": {
      "text/plain": [
       "[{'C': 0.01, 'accuracy_val': 0.743},\n",
       " {'C': 0.1, 'accuracy_val': 0.743},\n",
       " {'C': 1, 'accuracy_val': 0.743},\n",
       " {'C': 10, 'accuracy_val': 0.743},\n",
       " {'C': 100, 'accuracy_val': 0.743}]"
      ]
     },
     "execution_count": 56,
     "metadata": {},
     "output_type": "execute_result"
    }
   ],
   "source": [
    "results_train_use_c_param = []\n",
    "\n",
    "for C in c_list:\n",
    "    # Entrenar modelo con el valor de C especificado\n",
    "    model_c = LogisticRegression(solver='liblinear', C=C, max_iter=1000, random_state=42)\n",
    "    model_c.fit(X_train, y_train)\n",
    "    \n",
    "    # Calcular accuracy en validación\n",
    "    y_pred_c = model_c.predict(X_val)\n",
    "    accuracy_c = accuracy_score(y_val, y_pred_c)\n",
    "    accuracy_c_rounded = round(accuracy_c, 3)\n",
    "    \n",
    "    results_train_use_c_param.append({'C': C,\n",
    "                                      'accuracy_val': accuracy_c_rounded})\n",
    "    \n",
    "results_train_use_c_param"
   ]
  },
  {
   "cell_type": "code",
   "execution_count": 57,
   "id": "09c4383b-4ae7-4005-9264-e17946f580b9",
   "metadata": {},
   "outputs": [
    {
     "data": {
      "text/html": [
       "<div>\n",
       "<style scoped>\n",
       "    .dataframe tbody tr th:only-of-type {\n",
       "        vertical-align: middle;\n",
       "    }\n",
       "\n",
       "    .dataframe tbody tr th {\n",
       "        vertical-align: top;\n",
       "    }\n",
       "\n",
       "    .dataframe thead th {\n",
       "        text-align: right;\n",
       "    }\n",
       "</style>\n",
       "<table border=\"1\" class=\"dataframe\">\n",
       "  <thead>\n",
       "    <tr style=\"text-align: right;\">\n",
       "      <th></th>\n",
       "      <th>C</th>\n",
       "      <th>accuracy_val</th>\n",
       "    </tr>\n",
       "  </thead>\n",
       "  <tbody>\n",
       "    <tr>\n",
       "      <th>0</th>\n",
       "      <td>0.01</td>\n",
       "      <td>0.743</td>\n",
       "    </tr>\n",
       "    <tr>\n",
       "      <th>1</th>\n",
       "      <td>0.10</td>\n",
       "      <td>0.743</td>\n",
       "    </tr>\n",
       "    <tr>\n",
       "      <th>2</th>\n",
       "      <td>1.00</td>\n",
       "      <td>0.743</td>\n",
       "    </tr>\n",
       "    <tr>\n",
       "      <th>3</th>\n",
       "      <td>10.00</td>\n",
       "      <td>0.743</td>\n",
       "    </tr>\n",
       "    <tr>\n",
       "      <th>4</th>\n",
       "      <td>100.00</td>\n",
       "      <td>0.743</td>\n",
       "    </tr>\n",
       "  </tbody>\n",
       "</table>\n",
       "</div>"
      ],
      "text/plain": [
       "        C  accuracy_val\n",
       "0    0.01         0.743\n",
       "1    0.10         0.743\n",
       "2    1.00         0.743\n",
       "3   10.00         0.743\n",
       "4  100.00         0.743"
      ]
     },
     "execution_count": 57,
     "metadata": {},
     "output_type": "execute_result"
    }
   ],
   "source": [
    "model_use_c_param_df = pd.DataFrame(results_train_use_c_param)\n",
    "\n",
    "feature_importance_df = model_use_c_param_df.sort_values(by='accuracy_val', ascending=False).reset_index(drop=True)\n",
    "\n",
    "feature_importance_df"
   ]
  },
  {
   "cell_type": "code",
   "execution_count": null,
   "id": "70aacd18-fa40-481d-93b8-c78fd9621012",
   "metadata": {},
   "outputs": [],
   "source": [
    "\n"
   ]
  },
  {
   "cell_type": "code",
   "execution_count": null,
   "id": "e3cba88f-178c-4783-b754-3be261f53c66",
   "metadata": {},
   "outputs": [],
   "source": []
  },
  {
   "cell_type": "markdown",
   "id": "41162904-444e-4966-8326-57d2afa770d6",
   "metadata": {},
   "source": []
  },
  {
   "cell_type": "markdown",
   "id": "40600d06-7dca-4e7f-a6ab-83a5b1f6bef6",
   "metadata": {},
   "source": []
  },
  {
   "cell_type": "code",
   "execution_count": 44,
   "id": "026c3dbd-5e74-43f3-8e18-28d237a37efc",
   "metadata": {},
   "outputs": [
    {
     "name": "stdout",
     "output_type": "stream",
     "text": [
      "\n",
      "Distribución de la variable objetivo 'converted':\n",
      "1    535\n",
      "0    342\n",
      "Name: count, dtype: int64\n",
      "\n",
      "Porcentaje de conversión: 61.00%\n"
     ]
    }
   ],
   "source": [
    "# Visualización de la distribución de la variable objetivo\n",
    "print(\"\\nDistribución de la variable objetivo 'converted':\")\n",
    "print(pd.Series(y_train).value_counts())\n",
    "print(f\"\\nPorcentaje de conversión: {pd.Series(y_train).mean()*100:.2f}%\")"
   ]
  },
  {
   "cell_type": "markdown",
   "id": "23f9435b-1ef2-475b-978b-bb06a6d2d542",
   "metadata": {},
   "source": [
    "\n"
   ]
  },
  {
   "cell_type": "markdown",
   "id": "e5a25026-6c3f-49d0-bb4a-ec5fdb0d408b",
   "metadata": {},
   "source": [
    "\n"
   ]
  }
 ],
 "metadata": {
  "kernelspec": {
   "display_name": "Python 3 (ipykernel)",
   "language": "python",
   "name": "python3"
  },
  "language_info": {
   "codemirror_mode": {
    "name": "ipython",
    "version": 3
   },
   "file_extension": ".py",
   "mimetype": "text/x-python",
   "name": "python",
   "nbconvert_exporter": "python",
   "pygments_lexer": "ipython3",
   "version": "3.13.3"
  }
 },
 "nbformat": 4,
 "nbformat_minor": 5
}
