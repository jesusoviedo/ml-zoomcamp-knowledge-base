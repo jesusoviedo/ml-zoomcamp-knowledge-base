{
 "cells": [
  {
   "cell_type": "markdown",
   "id": "e6b7235d",
   "metadata": {},
   "source": [
    "# Homework 3: Clasificación en Machine Learning\n",
    "\n",
    "## Solución a las preguntas del homework\n",
    "\n",
    "En esta notebook se encuentran las respuestas a las preguntas del homework 3 del Machine Learning Zoomcamp 2025.\n",
    "\n",
    "### Datos utilizados\n",
    "Para este homework utilizaremos el dataset de **Lead Scoring (Bank Marketing)** que contiene información sobre clientes potenciales y si se convirtieron o no en clientes. El objetivo es predecir la variable `converted` que indica si un cliente se ha registrado en la plataforma."
   ]
  },
  {
   "cell_type": "code",
   "execution_count": 7,
   "id": "edeff58c",
   "metadata": {},
   "outputs": [
    {
     "name": "stdout",
     "output_type": "stream",
     "text": [
      "Librerías importadas correctamente\n",
      "Pandas version: 2.3.3\n",
      "NumPy version: 2.3.3\n",
      "Sklearn version: 1.7.2\n"
     ]
    }
   ],
   "source": [
    "# Importar librerías necesarias\n",
    "import pandas as pd\n",
    "import numpy as np\n",
    "import matplotlib.pyplot as plt\n",
    "import seaborn as sns\n",
    "import sklearn\n",
    "from sklearn.model_selection import train_test_split\n",
    "from sklearn.linear_model import LogisticRegression\n",
    "from sklearn.metrics import accuracy_score\n",
    "from sklearn.feature_extraction import DictVectorizer\n",
    "from sklearn.metrics import mutual_info_score\n",
    "\n",
    "# Configurar estilo de gráficos\n",
    "plt.style.use('seaborn-v0_8')\n",
    "sns.set_palette(\"husl\")\n",
    "\n",
    "print(\"Librerías importadas correctamente\")\n",
    "print(f\"Pandas version: {pd.__version__}\")\n",
    "print(f\"NumPy version: {np.__version__}\")\n",
    "print(f\"Sklearn version: {sklearn.__version__}\")"
   ]
  },
  {
   "cell_type": "code",
   "execution_count": 8,
   "id": "1c68bd2d-1d9e-4724-a34b-25c89dede157",
   "metadata": {},
   "outputs": [
    {
     "name": "stdout",
     "output_type": "stream",
     "text": [
      "--2025-10-13 15:45:33--  https://raw.githubusercontent.com/alexeygrigorev/datasets/master/course_lead_scoring.csv\n",
      "Resolving raw.githubusercontent.com (raw.githubusercontent.com)... 185.199.109.133, 185.199.111.133, 185.199.110.133, ...\n",
      "Connecting to raw.githubusercontent.com (raw.githubusercontent.com)|185.199.109.133|:443... connected.\n",
      "HTTP request sent, awaiting response... 200 OK\n",
      "Length: 80876 (79K) [text/plain]\n",
      "Saving to: ‘course_lead_scoring.csv’\n",
      "\n",
      "course_lead_scoring 100%[===================>]  78.98K  --.-KB/s    in 0.03s   \n",
      "\n",
      "2025-10-13 15:45:34 (2.83 MB/s) - ‘course_lead_scoring.csv’ saved [80876/80876]\n",
      "\n"
     ]
    }
   ],
   "source": [
    "# Descargar el dataset de lead scoring\n",
    "!wget https://raw.githubusercontent.com/alexeygrigorev/datasets/master/course_lead_scoring.csv"
   ]
  },
  {
   "cell_type": "code",
   "execution_count": 9,
   "id": "756af9dc-66b2-45fd-a9cc-07f993d241b2",
   "metadata": {},
   "outputs": [],
   "source": [
    "!mv course_lead_scoring.csv ./data"
   ]
  },
  {
   "cell_type": "code",
   "execution_count": 10,
   "id": "996c71f6-182b-4015-be41-04c1091abaae",
   "metadata": {},
   "outputs": [
    {
     "name": "stdout",
     "output_type": "stream",
     "text": [
      "course_lead_scoring.csv\n"
     ]
    }
   ],
   "source": [
    "!ls data"
   ]
  },
  {
   "cell_type": "markdown",
   "id": "b9bde537-d772-4cbf-b8cf-cfc6fb17cd6b",
   "metadata": {},
   "source": [
    "## Cargar y explorar los datos"
   ]
  },
  {
   "cell_type": "code",
   "execution_count": 11,
   "id": "766a13ef",
   "metadata": {},
   "outputs": [
    {
     "name": "stdout",
     "output_type": "stream",
     "text": [
      "Forma del dataset: (1462, 9)\n"
     ]
    }
   ],
   "source": [
    "df = pd.read_csv('./data/course_lead_scoring.csv')\n",
    "print(f\"Forma del dataset: {df.shape}\")"
   ]
  },
  {
   "cell_type": "code",
   "execution_count": 12,
   "id": "67efd220-3784-4dc0-8147-2b9385450699",
   "metadata": {},
   "outputs": [
    {
     "name": "stdout",
     "output_type": "stream",
     "text": [
      "Columnas disponibles: ['lead_source', 'industry', 'number_of_courses_viewed', 'annual_income', 'employment_status', 'location', 'interaction_count', 'lead_score', 'converted']\n"
     ]
    }
   ],
   "source": [
    "print(f\"Columnas disponibles: {df.columns.tolist()}\")"
   ]
  },
  {
   "cell_type": "code",
   "execution_count": 13,
   "id": "f10f3b82-52a3-466e-9a51-0d37727aa970",
   "metadata": {},
   "outputs": [
    {
     "name": "stdout",
     "output_type": "stream",
     "text": [
      "Primeras 5 filas:\n"
     ]
    },
    {
     "data": {
      "text/html": [
       "<div>\n",
       "<style scoped>\n",
       "    .dataframe tbody tr th:only-of-type {\n",
       "        vertical-align: middle;\n",
       "    }\n",
       "\n",
       "    .dataframe tbody tr th {\n",
       "        vertical-align: top;\n",
       "    }\n",
       "\n",
       "    .dataframe thead th {\n",
       "        text-align: right;\n",
       "    }\n",
       "</style>\n",
       "<table border=\"1\" class=\"dataframe\">\n",
       "  <thead>\n",
       "    <tr style=\"text-align: right;\">\n",
       "      <th></th>\n",
       "      <th>lead_source</th>\n",
       "      <th>industry</th>\n",
       "      <th>number_of_courses_viewed</th>\n",
       "      <th>annual_income</th>\n",
       "      <th>employment_status</th>\n",
       "      <th>location</th>\n",
       "      <th>interaction_count</th>\n",
       "      <th>lead_score</th>\n",
       "      <th>converted</th>\n",
       "    </tr>\n",
       "  </thead>\n",
       "  <tbody>\n",
       "    <tr>\n",
       "      <th>0</th>\n",
       "      <td>paid_ads</td>\n",
       "      <td>NaN</td>\n",
       "      <td>1</td>\n",
       "      <td>79450.0</td>\n",
       "      <td>unemployed</td>\n",
       "      <td>south_america</td>\n",
       "      <td>4</td>\n",
       "      <td>0.94</td>\n",
       "      <td>1</td>\n",
       "    </tr>\n",
       "    <tr>\n",
       "      <th>1</th>\n",
       "      <td>social_media</td>\n",
       "      <td>retail</td>\n",
       "      <td>1</td>\n",
       "      <td>46992.0</td>\n",
       "      <td>employed</td>\n",
       "      <td>south_america</td>\n",
       "      <td>1</td>\n",
       "      <td>0.80</td>\n",
       "      <td>0</td>\n",
       "    </tr>\n",
       "    <tr>\n",
       "      <th>2</th>\n",
       "      <td>events</td>\n",
       "      <td>healthcare</td>\n",
       "      <td>5</td>\n",
       "      <td>78796.0</td>\n",
       "      <td>unemployed</td>\n",
       "      <td>australia</td>\n",
       "      <td>3</td>\n",
       "      <td>0.69</td>\n",
       "      <td>1</td>\n",
       "    </tr>\n",
       "    <tr>\n",
       "      <th>3</th>\n",
       "      <td>paid_ads</td>\n",
       "      <td>retail</td>\n",
       "      <td>2</td>\n",
       "      <td>83843.0</td>\n",
       "      <td>NaN</td>\n",
       "      <td>australia</td>\n",
       "      <td>1</td>\n",
       "      <td>0.87</td>\n",
       "      <td>0</td>\n",
       "    </tr>\n",
       "    <tr>\n",
       "      <th>4</th>\n",
       "      <td>referral</td>\n",
       "      <td>education</td>\n",
       "      <td>3</td>\n",
       "      <td>85012.0</td>\n",
       "      <td>self_employed</td>\n",
       "      <td>europe</td>\n",
       "      <td>3</td>\n",
       "      <td>0.62</td>\n",
       "      <td>1</td>\n",
       "    </tr>\n",
       "  </tbody>\n",
       "</table>\n",
       "</div>"
      ],
      "text/plain": [
       "    lead_source    industry  number_of_courses_viewed  annual_income  \\\n",
       "0      paid_ads         NaN                         1        79450.0   \n",
       "1  social_media      retail                         1        46992.0   \n",
       "2        events  healthcare                         5        78796.0   \n",
       "3      paid_ads      retail                         2        83843.0   \n",
       "4      referral   education                         3        85012.0   \n",
       "\n",
       "  employment_status       location  interaction_count  lead_score  converted  \n",
       "0        unemployed  south_america                  4        0.94          1  \n",
       "1          employed  south_america                  1        0.80          0  \n",
       "2        unemployed      australia                  3        0.69          1  \n",
       "3               NaN      australia                  1        0.87          0  \n",
       "4     self_employed         europe                  3        0.62          1  "
      ]
     },
     "execution_count": 13,
     "metadata": {},
     "output_type": "execute_result"
    }
   ],
   "source": [
    "print(f\"Primeras 5 filas:\")\n",
    "df.head()"
   ]
  },
  {
   "cell_type": "code",
   "execution_count": 14,
   "id": "b0a1b684-a062-48ba-af87-c56e1911d835",
   "metadata": {},
   "outputs": [
    {
     "name": "stdout",
     "output_type": "stream",
     "text": [
      "<class 'pandas.core.frame.DataFrame'>\n",
      "RangeIndex: 1462 entries, 0 to 1461\n",
      "Data columns (total 9 columns):\n",
      " #   Column                    Non-Null Count  Dtype  \n",
      "---  ------                    --------------  -----  \n",
      " 0   lead_source               1334 non-null   object \n",
      " 1   industry                  1328 non-null   object \n",
      " 2   number_of_courses_viewed  1462 non-null   int64  \n",
      " 3   annual_income             1281 non-null   float64\n",
      " 4   employment_status         1362 non-null   object \n",
      " 5   location                  1399 non-null   object \n",
      " 6   interaction_count         1462 non-null   int64  \n",
      " 7   lead_score                1462 non-null   float64\n",
      " 8   converted                 1462 non-null   int64  \n",
      "dtypes: float64(2), int64(3), object(4)\n",
      "memory usage: 102.9+ KB\n"
     ]
    }
   ],
   "source": [
    "# Información del dataset\n",
    "df.info()"
   ]
  },
  {
   "cell_type": "markdown",
   "id": "16416a4a",
   "metadata": {},
   "source": [
    "## Preparación de datos\n",
    "\n",
    "Verificamos valores faltantes y los manejamos según las instrucciones:\n",
    "- Categóricos: reemplazar con 'NA'\n",
    "- Numéricos: reemplazar con 0.0\n"
   ]
  },
  {
   "cell_type": "code",
   "execution_count": 15,
   "id": "29b17381",
   "metadata": {
    "scrolled": true
   },
   "outputs": [
    {
     "name": "stdout",
     "output_type": "stream",
     "text": [
      "VALORES FALTANTES POR COLUMNA\n",
      "==================================================\n",
      "                   Valores Faltantes  Porcentaje\n",
      "lead_source                      128    8.755130\n",
      "industry                         134    9.165527\n",
      "annual_income                    181   12.380301\n",
      "employment_status                100    6.839945\n",
      "location                          63    4.309166\n"
     ]
    }
   ],
   "source": [
    "# Verificar valores faltantes\n",
    "print(\"VALORES FALTANTES POR COLUMNA\")\n",
    "print(\"=\" * 50)\n",
    "missing_info = pd.DataFrame({\n",
    "    'Valores Faltantes': df.isnull().sum(),\n",
    "    'Porcentaje': (df.isnull().sum() / len(df)) * 100\n",
    "})\n",
    "print(missing_info[missing_info['Valores Faltantes'] > 0])"
   ]
  },
  {
   "cell_type": "markdown",
   "id": "a8789a39-8686-4e23-b198-d82ad504b7e0",
   "metadata": {},
   "source": [
    "### Identificar columnas categóricas y numéricas"
   ]
  },
  {
   "cell_type": "code",
   "execution_count": 16,
   "id": "50e01fdc-c5cc-4b33-bea8-983c85ff607c",
   "metadata": {},
   "outputs": [
    {
     "name": "stdout",
     "output_type": "stream",
     "text": [
      "\n",
      "Columnas categóricas: ['lead_source', 'industry', 'employment_status', 'location']\n",
      "Columnas numéricas: ['number_of_courses_viewed', 'annual_income', 'interaction_count', 'lead_score', 'converted']\n"
     ]
    }
   ],
   "source": [
    "categorical_cols = df.select_dtypes(include=['object']).columns.tolist()\n",
    "numerical_cols = df.select_dtypes(include=['int64', 'float64']).columns.tolist()\n",
    "\n",
    "print(f\"\\nColumnas categóricas: {categorical_cols}\")\n",
    "print(f\"Columnas numéricas: {numerical_cols}\")"
   ]
  },
  {
   "cell_type": "code",
   "execution_count": 17,
   "id": "8a16d8d8-c8ef-44bf-9208-1c5f60b40ed4",
   "metadata": {},
   "outputs": [
    {
     "name": "stdout",
     "output_type": "stream",
     "text": [
      "\n",
      "Valores faltantes después de la limpieza:\n",
      "0\n"
     ]
    }
   ],
   "source": [
    "# Aplicar el manejo de valores faltantes\n",
    "# Reemplazar valores faltantes en columnas categóricas con 'NA'\n",
    "for col in categorical_cols:\n",
    "    df[col] = df[col].fillna('NA')\n",
    "\n",
    "# Reemplazar valores faltantes en columnas numéricas con 0.0\n",
    "for col in numerical_cols:\n",
    "    if col != 'converted':  # No modificar la variable objetivo\n",
    "        df[col] = df[col].fillna(0.0)\n",
    "\n",
    "print(\"\\nValores faltantes después de la limpieza:\")\n",
    "print(df.isnull().sum().sum())"
   ]
  },
  {
   "cell_type": "markdown",
   "id": "2fbc6318-441a-4170-aaf5-35ca51358b25",
   "metadata": {},
   "source": [
    "## Question 1: Moda de la columna 'industry'\n",
    "\n",
    "**Pregunta:** ¿Cuál es la observación más frecuente (moda) para la columna `industry`?"
   ]
  },
  {
   "cell_type": "code",
   "execution_count": 18,
   "id": "3a46b7cd-c7cd-4384-bb46-cb5e2e8d1f61",
   "metadata": {},
   "outputs": [
    {
     "name": "stdout",
     "output_type": "stream",
     "text": [
      "La moda de 'industry' es: retail\n",
      "\n",
      "Distribución de 'industry':\n",
      "industry\n",
      "retail           203\n",
      "finance          200\n",
      "other            198\n",
      "healthcare       187\n",
      "education        187\n",
      "technology       179\n",
      "manufacturing    174\n",
      "NA               134\n",
      "Name: count, dtype: int64\n"
     ]
    }
   ],
   "source": [
    "# Calcular la moda de 'industry'\n",
    "mode_industry = df['industry'].mode()[0]\n",
    "print(f\"La moda de 'industry' es: {mode_industry}\")\n",
    "\n",
    "# Ver la distribución completa\n",
    "print(f\"\\nDistribución de 'industry':\")\n",
    "print(df['industry'].value_counts())"
   ]
  },
  {
   "cell_type": "markdown",
   "id": "6a69d585-3cfe-4268-95a7-035b6fb91cd7",
   "metadata": {},
   "source": [
    "## Question 2: Correlación entre variables numéricas\n",
    "\n",
    "**Pregunta:** Crear la matriz de correlación para las variables numéricas del dataset. ¿Cuáles son las dos características que tienen la mayor correlación?"
   ]
  },
  {
   "cell_type": "code",
   "execution_count": 22,
   "id": "a5423dca-2626-4163-8df8-dee489e4b4fd",
   "metadata": {},
   "outputs": [
    {
     "name": "stdout",
     "output_type": "stream",
     "text": [
      "Matriz de correlación:\n"
     ]
    }
   ],
   "source": [
    "# Calcular la matriz de correlación para variables numéricas (excluyendo 'converted')\n",
    "numerical_features = [col for col in numerical_cols if col != 'converted']\n",
    "correlation_matrix = df[numerical_features].corr()\n",
    "\n",
    "print(\"Matriz de correlación:\")"
   ]
  },
  {
   "cell_type": "code",
   "execution_count": 23,
   "id": "5fc471ca-1cd2-4bb2-8189-84d44387237f",
   "metadata": {},
   "outputs": [
    {
     "data": {
      "text/html": [
       "<div>\n",
       "<style scoped>\n",
       "    .dataframe tbody tr th:only-of-type {\n",
       "        vertical-align: middle;\n",
       "    }\n",
       "\n",
       "    .dataframe tbody tr th {\n",
       "        vertical-align: top;\n",
       "    }\n",
       "\n",
       "    .dataframe thead th {\n",
       "        text-align: right;\n",
       "    }\n",
       "</style>\n",
       "<table border=\"1\" class=\"dataframe\">\n",
       "  <thead>\n",
       "    <tr style=\"text-align: right;\">\n",
       "      <th></th>\n",
       "      <th>number_of_courses_viewed</th>\n",
       "      <th>annual_income</th>\n",
       "      <th>interaction_count</th>\n",
       "      <th>lead_score</th>\n",
       "    </tr>\n",
       "  </thead>\n",
       "  <tbody>\n",
       "    <tr>\n",
       "      <th>number_of_courses_viewed</th>\n",
       "      <td>1.000000</td>\n",
       "      <td>0.009770</td>\n",
       "      <td>-0.023565</td>\n",
       "      <td>-0.004879</td>\n",
       "    </tr>\n",
       "    <tr>\n",
       "      <th>annual_income</th>\n",
       "      <td>0.009770</td>\n",
       "      <td>1.000000</td>\n",
       "      <td>0.027036</td>\n",
       "      <td>0.015610</td>\n",
       "    </tr>\n",
       "    <tr>\n",
       "      <th>interaction_count</th>\n",
       "      <td>-0.023565</td>\n",
       "      <td>0.027036</td>\n",
       "      <td>1.000000</td>\n",
       "      <td>0.009888</td>\n",
       "    </tr>\n",
       "    <tr>\n",
       "      <th>lead_score</th>\n",
       "      <td>-0.004879</td>\n",
       "      <td>0.015610</td>\n",
       "      <td>0.009888</td>\n",
       "      <td>1.000000</td>\n",
       "    </tr>\n",
       "  </tbody>\n",
       "</table>\n",
       "</div>"
      ],
      "text/plain": [
       "                          number_of_courses_viewed  annual_income  \\\n",
       "number_of_courses_viewed                  1.000000       0.009770   \n",
       "annual_income                             0.009770       1.000000   \n",
       "interaction_count                        -0.023565       0.027036   \n",
       "lead_score                               -0.004879       0.015610   \n",
       "\n",
       "                          interaction_count  lead_score  \n",
       "number_of_courses_viewed          -0.023565   -0.004879  \n",
       "annual_income                      0.027036    0.015610  \n",
       "interaction_count                  1.000000    0.009888  \n",
       "lead_score                         0.009888    1.000000  "
      ]
     },
     "execution_count": 23,
     "metadata": {},
     "output_type": "execute_result"
    }
   ],
   "source": [
    "correlation_matrix"
   ]
  },
  {
   "cell_type": "code",
   "execution_count": 32,
   "id": "e68e7c65-a5af-4e19-9dd0-d05e090abc8d",
   "metadata": {},
   "outputs": [
    {
     "name": "stdout",
     "output_type": "stream",
     "text": [
      "Correlaciones de los pares especificados:\n",
      "\n",
      "interaction_count vs lead_score: 0.0099\n",
      "number_of_courses_viewed vs lead_score: -0.0049\n",
      "number_of_courses_viewed vs interaction_count: -0.0236\n",
      "annual_income vs interaction_count: 0.0270\n"
     ]
    }
   ],
   "source": [
    "# Verificar las correlaciones específicas de las opciones\n",
    "pairs_to_check = [\n",
    "    ('interaction_count', 'lead_score'),\n",
    "    ('number_of_courses_viewed', 'lead_score'),\n",
    "    ('number_of_courses_viewed', 'interaction_count'),\n",
    "    ('annual_income', 'interaction_count')\n",
    "]\n",
    "\n",
    "print(\"Correlaciones de los pares especificados:\\n\")\n",
    "for var1, var2 in pairs_to_check:\n",
    "    if var1 in correlation_matrix.columns and var2 in correlation_matrix.columns:\n",
    "        corr_value = correlation_matrix.loc[var1, var2]\n",
    "        print(f\"{var1} vs {var2}: {corr_value:.4f}\")"
   ]
  },
  {
   "cell_type": "code",
   "execution_count": 33,
   "id": "ea7bd7dc-1e20-4069-b3f1-8af5d979bb30",
   "metadata": {},
   "outputs": [
    {
     "name": "stdout",
     "output_type": "stream",
     "text": [
      "annual_income y interaction_count (correlación: 0.0270)\n"
     ]
    }
   ],
   "source": [
    "# Encontrar la mayor correlación entre los pares especificados\n",
    "max_corr = 0\n",
    "max_pair = None\n",
    "\n",
    "for var1, var2 in pairs_to_check:\n",
    "    if var1 in correlation_matrix.columns and var2 in correlation_matrix.columns:\n",
    "        corr_value = abs(correlation_matrix.loc[var1, var2])\n",
    "        if corr_value > max_corr:\n",
    "            max_corr = corr_value\n",
    "            max_pair = (var1, var2)\n",
    "\n",
    "print(f\"{max_pair[0]} y {max_pair[1]} (correlación: {max_corr:.4f})\")"
   ]
  },
  {
   "cell_type": "code",
   "execution_count": 27,
   "id": "b5929f80-6f35-4f58-8611-50e24cdbc0a3",
   "metadata": {},
   "outputs": [
    {
     "data": {
      "image/png": "[encoded data removed]",
      "text/plain": [
       "<Figure size 800x600 with 2 Axes>"
      ]
     },
     "metadata": {},
     "output_type": "display_data"
    }
   ],
   "source": [
    "# Crear una máscara para ocultar la mitad superior + diagonal\n",
    "mask = np.triu(np.ones_like(correlation_matrix, dtype=bool))\n",
    "\n",
    "plt.figure(figsize=(8, 6))\n",
    "sns.heatmap(\n",
    "    correlation_matrix,\n",
    "    mask=mask,\n",
    "    annot=True,\n",
    "    fmt=\".2f\",\n",
    "    cmap=\"coolwarm\",\n",
    "    center=0,\n",
    "    linewidths=0.5,\n",
    "    square=True\n",
    ")\n",
    "plt.title(\"Heatmap de Correlaciones (sin diagonal)\", fontsize=14, pad=12)\n",
    "plt.show()"
   ]
  },
  {
   "cell_type": "markdown",
   "id": "54a780f0-96e5-4172-b4dc-8d7b7839875d",
   "metadata": {},
   "source": [
    "### División de datos (Train/Val/Test)\n",
    "\n",
    "**Instrucciones:**\n",
    "- Dividir los datos en conjuntos de entrenamiento/validación/prueba con distribución 60%/20%/20%\n",
    "- Usar `train_test_split` de Scikit-Learn con `seed=42`\n",
    "- Asegurarse de que la variable objetivo `converted` no esté en el dataframe de features"
   ]
  },
  {
   "cell_type": "code",
   "execution_count": 35,
   "id": "c1f59d1c-b4dc-4bac-876e-2a12e67a129e",
   "metadata": {},
   "outputs": [],
   "source": [
    "# Primero dividir train (60%) vs temp (40%)\n",
    "df_train_full, df_temp = train_test_split(df, test_size=0.4, random_state=42)\n",
    "\n",
    "# Luego dividir temp en val (20%) y test (20%)\n",
    "df_val, df_test = train_test_split(df_temp, test_size=0.5, random_state=42)"
   ]
  },
  {
   "cell_type": "code",
   "execution_count": 39,
   "id": "f9ae8d4d-ab1f-442b-a0c0-ec4f06400d91",
   "metadata": {},
   "outputs": [
    {
     "name": "stdout",
     "output_type": "stream",
     "text": [
      "Tamaño del conjunto de entrenamiento: 877 (60.0%) -> shape: (877, 9)\n",
      "Tamaño del conjunto de validación: 292 (20.0%) -> shape: (292, 9)\n",
      "Tamaño del conjunto de prueba: 293 (20.0%) -> shape: (293, 9)\n"
     ]
    }
   ],
   "source": [
    "print(f\"Tamaño del conjunto de entrenamiento: {len(df_train_full)} ({len(df_train_full)/len(df)*100:.1f}%) -> shape: {df_train_full.shape}\")\n",
    "print(f\"Tamaño del conjunto de validación: {len(df_val)} ({len(df_val)/len(df)*100:.1f}%) -> shape: {df_val.shape}\")\n",
    "print(f\"Tamaño del conjunto de prueba: {len(df_test)} ({len(df_test)/len(df)*100:.1f}%) -> shape: {df_test.shape}\")"
   ]
  },
  {
   "cell_type": "code",
   "execution_count": 37,
   "id": "3b8767ba-bb81-4dcc-bac6-a9b85e7422e1",
   "metadata": {},
   "outputs": [],
   "source": [
    "# Separar features de la variable objetivo\n",
    "y_train = df_train_full['converted'].values\n",
    "y_val = df_val['converted'].values\n",
    "y_test = df_test['converted'].values"
   ]
  },
  {
   "cell_type": "code",
   "execution_count": null,
   "id": "3355ddc1-2611-473d-b4fe-8c3a2c838f1e",
   "metadata": {},
   "outputs": [],
   "source": [
    "# Eliminar la columna 'converted' de los dataframes\n",
    "df_train_full = df_train_full.drop('converted', axis=1).reset_index(drop=True)\n",
    "df_val = df_val.drop('converted', axis=1).reset_index(drop=True)\n",
    "df_test = df_test.drop('converted', axis=1).reset_index(drop=True)"
   ]
  },
  {
   "cell_type": "code",
   "execution_count": 38,
   "id": "becb94fb-d3a2-4e7f-a059-ebb661daa111",
   "metadata": {},
   "outputs": [
    {
     "name": "stdout",
     "output_type": "stream",
     "text": [
      "\n",
      "Forma del conjunto de entrenamiento: (877, 9)\n",
      "Forma del conjunto de validación: (292, 9)\n",
      "Forma del conjunto de prueba: (293, 9)\n"
     ]
    }
   ],
   "source": [
    "print(f\"\\nForma del conjunto de entrenamiento: {df_train_full.shape}\")\n",
    "print(f\"Forma del conjunto de validación: {df_val.shape}\")\n",
    "print(f\"Forma del conjunto de prueba: {df_test.shape}\")"
   ]
  },
  {
   "cell_type": "markdown",
   "id": "01beea3e-e8b7-4f35-af32-34496f4788ef",
   "metadata": {},
   "source": [
    "## Question 3: Mutual Information Score\n",
    "\n",
    "**Pregunta:** Calcular el mutual information score entre `converted` y otras variables categóricas del dataset usando solo el conjunto de entrenamiento. Redondear los scores a 2 decimales usando `round(score, 2)`.\n",
    "\n",
    "¿Cuál de estas variables tiene el mayor mutual information score?"
   ]
  },
  {
   "cell_type": "code",
   "execution_count": 40,
   "id": "3b763e70-794a-4976-b6b6-fe21d146f8ba",
   "metadata": {},
   "outputs": [
    {
     "name": "stdout",
     "output_type": "stream",
     "text": [
      "Variables categóricas encontradas:\n",
      "['lead_source', 'industry', 'employment_status', 'location']\n"
     ]
    }
   ],
   "source": [
    "# Identificar variables categóricas en el conjunto de entrenamiento\n",
    "categorical_features = df_train_full.select_dtypes(include=['object']).columns.tolist()\n",
    "\n",
    "print(\"Variables categóricas encontradas:\")\n",
    "print(categorical_features)"
   ]
  },
  {
   "cell_type": "code",
   "execution_count": 47,
   "id": "8c2bd5bd-0876-496e-9ae2-cd105f4df699",
   "metadata": {},
   "outputs": [
    {
     "data": {
      "text/plain": [
       "{'lead_source': 0.03,\n",
       " 'industry': 0.02,\n",
       " 'employment_status': 0.02,\n",
       " 'location': 0.0}"
      ]
     },
     "execution_count": 47,
     "metadata": {},
     "output_type": "execute_result"
    }
   ],
   "source": [
    "# Diccionario para guardar resultados\n",
    "mi_scores = {}\n",
    "\n",
    "# Calcular la información mutua para cada feature categórica\n",
    "for col in categorical_features:\n",
    "    mi_score = mutual_info_score(df_train_full[col], y_train)\n",
    "    mi_scores[col] = round(mi_score, 2)\n",
    "\n",
    "mi_scores"
   ]
  },
  {
   "cell_type": "code",
   "execution_count": 46,
   "id": "a13dc122-60c4-480f-87ff-7dec5a9ac384",
   "metadata": {},
   "outputs": [
    {
     "data": {
      "text/html": [
       "<div>\n",
       "<style scoped>\n",
       "    .dataframe tbody tr th:only-of-type {\n",
       "        vertical-align: middle;\n",
       "    }\n",
       "\n",
       "    .dataframe tbody tr th {\n",
       "        vertical-align: top;\n",
       "    }\n",
       "\n",
       "    .dataframe thead th {\n",
       "        text-align: right;\n",
       "    }\n",
       "</style>\n",
       "<table border=\"1\" class=\"dataframe\">\n",
       "  <thead>\n",
       "    <tr style=\"text-align: right;\">\n",
       "      <th></th>\n",
       "      <th>Feature</th>\n",
       "      <th>Mutual Information Score</th>\n",
       "    </tr>\n",
       "  </thead>\n",
       "  <tbody>\n",
       "    <tr>\n",
       "      <th>0</th>\n",
       "      <td>lead_source</td>\n",
       "      <td>0.03</td>\n",
       "    </tr>\n",
       "    <tr>\n",
       "      <th>1</th>\n",
       "      <td>industry</td>\n",
       "      <td>0.02</td>\n",
       "    </tr>\n",
       "    <tr>\n",
       "      <th>2</th>\n",
       "      <td>employment_status</td>\n",
       "      <td>0.02</td>\n",
       "    </tr>\n",
       "    <tr>\n",
       "      <th>3</th>\n",
       "      <td>location</td>\n",
       "      <td>0.00</td>\n",
       "    </tr>\n",
       "  </tbody>\n",
       "</table>\n",
       "</div>"
      ],
      "text/plain": [
       "             Feature  Mutual Information Score\n",
       "0        lead_source                      0.03\n",
       "1           industry                      0.02\n",
       "2  employment_status                      0.02\n",
       "3           location                      0.00"
      ]
     },
     "execution_count": 46,
     "metadata": {},
     "output_type": "execute_result"
    }
   ],
   "source": [
    "# Crear un DataFrame a partir del diccionario\n",
    "mi_df = pd.DataFrame(\n",
    "    list(mi_scores.items()),\n",
    "    columns=[\"Feature\", \"Mutual Information Score\"]\n",
    ").sort_values(by=\"Mutual Information Score\", ascending=False).reset_index(drop=True)\n",
    "\n",
    "# Mostrar el DataFrame resultante\n",
    "mi_df"
   ]
  },
  {
   "cell_type": "markdown",
   "id": "67b74c2f-cc2e-4453-bec9-2b1ef612d70c",
   "metadata": {},
   "source": [
    "### Preparar datos con one-hot encoding usando DictVectorizer"
   ]
  },
  {
   "cell_type": "code",
   "execution_count": 49,
   "id": "c7c8767f-eab3-42ec-b878-edb5807a0efc",
   "metadata": {},
   "outputs": [],
   "source": [
    "train_dicts = df_train_full.to_dict(orient='records')\n",
    "val_dicts = df_val.to_dict(orient='records')"
   ]
  },
  {
   "cell_type": "code",
   "execution_count": 50,
   "id": "c4a7a613-0ebe-47bc-bfea-b72a96662703",
   "metadata": {},
   "outputs": [],
   "source": [
    "dv = DictVectorizer(sparse=False)\n",
    "X_train = dv.fit_transform(train_dicts)\n",
    "X_val = dv.transform(val_dicts)"
   ]
  },
  {
   "cell_type": "code",
   "execution_count": 51,
   "id": "1d1dfc81-cb58-4e7d-83c6-a9927665b566",
   "metadata": {},
   "outputs": [
    {
     "name": "stdout",
     "output_type": "stream",
     "text": [
      "Forma de X_train después de one-hot encoding: (877, 32)\n",
      "Forma de X_val después de one-hot encoding: (292, 32)\n"
     ]
    }
   ],
   "source": [
    "print(f\"Forma de X_train después de one-hot encoding: {X_train.shape}\")\n",
    "print(f\"Forma de X_val después de one-hot encoding: {X_val.shape}\")"
   ]
  },
  {
   "cell_type": "markdown",
   "id": "615863cc-d025-4bd2-8793-3db713dd5108",
   "metadata": {},
   "source": [
    "## Question 4: Regresión Logística\n",
    "\n",
    "**Pregunta:** Entrenar una regresión logística incluyendo las variables categóricas usando one-hot encoding. Ajustar el modelo en el conjunto de entrenamiento con los siguientes parámetros para asegurar reproducibilidad:\n",
    "\n",
    "```python\n",
    "model = LogisticRegression(solver='liblinear', C=1.0, max_iter=1000, random_state=42)\n",
    "```\n",
    "\n",
    "Calcular el accuracy en el conjunto de validación y redondearlo a 2 decimales.\n",
    "\n",
    "¿Qué accuracy obtuviste?"
   ]
  },
  {
   "cell_type": "code",
   "execution_count": 52,
   "id": "1da37c6b-17d4-4184-bed4-21caf02f81c1",
   "metadata": {},
   "outputs": [
    {
     "name": "stdout",
     "output_type": "stream",
     "text": [
      "Modelo entrenado correctamente\n"
     ]
    }
   ],
   "source": [
    "# Entrenar el modelo de regresión logística\n",
    "model = LogisticRegression(solver='liblinear', C=1.0, max_iter=1000, random_state=42)\n",
    "model.fit(X_train, y_train)\n",
    "\n",
    "print(\"Modelo entrenado correctamente\")"
   ]
  },
  {
   "cell_type": "code",
   "execution_count": 54,
   "id": "aacb686b-2971-433c-bb3f-7b318b8cc811",
   "metadata": {},
   "outputs": [
    {
     "data": {
      "text/plain": [
       "0.8424657534246576"
      ]
     },
     "execution_count": 54,
     "metadata": {},
     "output_type": "execute_result"
    }
   ],
   "source": [
    "# Calcular accuracy en validación\n",
    "y_pred_val = model.predict(X_val)\n",
    "accuracy = accuracy_score(y_val, y_pred_val)\n",
    "accuracy"
   ]
  },
  {
   "cell_type": "code",
   "execution_count": 55,
   "id": "96d87796-ca2f-47f9-8081-05ef98763ae3",
   "metadata": {},
   "outputs": [
    {
     "name": "stdout",
     "output_type": "stream",
     "text": [
      "Accuracy val: 0.84\n"
     ]
    }
   ],
   "source": [
    "accuracy_rounded = round(accuracy, 2)\n",
    "print(f\"Accuracy val: {accuracy_rounded}\")"
   ]
  },
  {
   "cell_type": "code",
   "execution_count": null,
   "id": "2aba2eed-3b60-4bd5-bedd-f3fa3c0b093b",
   "metadata": {},
   "outputs": [],
   "source": []
  },
  {
   "cell_type": "code",
   "execution_count": null,
   "id": "7a7eda50-502b-4a1e-9340-3f64ef8b174a",
   "metadata": {},
   "outputs": [],
   "source": []
  },
  {
   "cell_type": "code",
   "execution_count": null,
   "id": "13dfb994-a365-46c4-bbb4-563e2d42aecb",
   "metadata": {},
   "outputs": [],
   "source": []
  },
  {
   "cell_type": "code",
   "execution_count": null,
   "id": "1036a5eb-c57b-4b40-9893-5ffcd4322b52",
   "metadata": {},
   "outputs": [],
   "source": []
  },
  {
   "cell_type": "code",
   "execution_count": null,
   "id": "09c4383b-4ae7-4005-9264-e17946f580b9",
   "metadata": {},
   "outputs": [],
   "source": []
  },
  {
   "cell_type": "code",
   "execution_count": null,
   "id": "70aacd18-fa40-481d-93b8-c78fd9621012",
   "metadata": {},
   "outputs": [],
   "source": [
    "Aquí está el texto en formato markdown para las preguntas 2 a 6, siguiendo el mismo formato de la pregunta 1:\n",
    "\n",
    "\n",
    "\n",
    "\n",
    "\n",
    "---\n",
    "\n",
    "\n",
    "\n",
    "---\n",
    "\n",
    "## Question 5: Eliminación de características\n",
    "\n",
    "**Pregunta:** Encontrar la característica menos útil usando la técnica de eliminación de características (_feature elimination_). Entrenar un modelo usando las mismas características y parámetros que en Q4 (sin redondear). Luego excluir cada característica de este conjunto y entrenar un modelo sin ella. Registrar el accuracy para cada modelo.\n",
    "\n",
    "Para cada característica, calcular la diferencia entre el accuracy original y el accuracy sin la característica.\n",
    "\n",
    "¿Cuál de las siguientes características tiene la menor diferencia?\n",
    "\n",
    "**Opciones:**\n",
    "- `'industry'`\n",
    "- `'employment_status'`\n",
    "- `'lead_score'`\n",
    "\n",
    "*Nota: La diferencia no tiene que ser positiva.*\n",
    "\n",
    "---\n",
    "\n",
    "## Question 6: Regularización\n",
    "\n",
    "**Pregunta:** Entrenar una regresión logística regularizada probando los siguientes valores del parámetro `C`: `[0.01, 0.1, 1, 10, 100]`. Entrenar modelos usando todas las características como en Q4. Calcular el accuracy en el conjunto de validación y redondearlo a 3 decimales.\n",
    "\n",
    "¿Cuál de estos valores de `C` conduce al mejor accuracy en el conjunto de validación?\n",
    "\n",
    "**Opciones:**\n",
    "- 0.01\n",
    "- 0.1\n",
    "- 1\n",
    "- 10\n",
    "- 100\n",
    "\n",
    "*Nota: Si hay múltiples opciones con el mismo accuracy, seleccionar el menor valor de `C`.*\n",
    "\n",
    "---\n",
    "\n",
    "Este texto está listo para ser insertado en el notebook manteniendo el mismo formato profesional y claro de la pregunta 1. 📝"
   ]
  },
  {
   "cell_type": "code",
   "execution_count": null,
   "id": "e3cba88f-178c-4783-b754-3be261f53c66",
   "metadata": {},
   "outputs": [],
   "source": []
  },
  {
   "cell_type": "markdown",
   "id": "41162904-444e-4966-8326-57d2afa770d6",
   "metadata": {},
   "source": []
  },
  {
   "cell_type": "markdown",
   "id": "40600d06-7dca-4e7f-a6ab-83a5b1f6bef6",
   "metadata": {},
   "source": []
  },
  {
   "cell_type": "code",
   "execution_count": null,
   "id": "14ca14ad-aade-436d-8944-e687fbf971ea",
   "metadata": {},
   "outputs": [
    {
     "data": {
      "image/png": "[encoded data removed]",
      "text/plain": [
       "<Figure size 800x550 with 1 Axes>"
      ]
     },
     "metadata": {},
     "output_type": "display_data"
    }
   ],
   "source": [
    "## Question 5: Feature Elimination\n",
    "\n",
    "**Pregunta:** Encontrar la característica menos útil usando la técnica de eliminación de características. Entrenar modelos excluyendo cada característica y registrar el accuracy. Para cada característica, calcular la diferencia entre el accuracy original y el accuracy sin esa característica.\n",
    "\n",
    "¿Cuál de las siguientes características tiene la menor diferencia?\n",
    "\n",
    "**Opciones:**\n",
    "- `'industry'`\n",
    "- `'employment_status'`\n",
    "- `'lead_score'`"
   ]
  },
  {
   "cell_type": "markdown",
   "id": "36e4d6e6-afa7-4ed0-94c6-1b541e13e3f8",
   "metadata": {},
   "source": [
    "# Obtener el accuracy original (sin redondear para precisión)\n",
    "y_pred_original = model.predict(X_val)\n",
    "accuracy_original = accuracy_score(y_val, y_pred_original)\n",
    "print(f\"Accuracy original: {accuracy_original:.6f}\")"
   ]
  },
  {
   "cell_type": "code",
   "execution_count": null,
   "id": "e4e37ec8-64b1-4cd5-8209-8af6e7b0edc9",
   "metadata": {},
   "outputs": [
    {
     "data": {
      "text/plain": [
       "count    8996.000000\n",
       "mean      149.657292\n",
       "std        29.879555\n",
       "min        37.000000\n",
       "25%       130.000000\n",
       "50%       149.000000\n",
       "75%       170.000000\n",
       "max       271.000000\n",
       "Name: horsepower, dtype: float64"
      ]
     },
     "execution_count": 26,
     "metadata": {},
     "output_type": "execute_result"
    }
   ],
   "source": [
    "# Evaluar eliminando cada característica\n",
    "features_to_test = ['industry', 'employment_status', 'lead_score']\n",
    "feature_importance = {}\n",
    "\n",
    "for feature in features_to_test:\n",
    "    # Crear dataframes sin la característica\n",
    "    df_train_no_feat = df_train_full.drop(feature, axis=1, errors='ignore')\n",
    "    df_val_no_feat = df_val.drop(feature, axis=1, errors='ignore')\n",
    "    \n",
    "    # Preparar datos con one-hot encoding\n",
    "    train_dicts_no_feat = df_train_no_feat.to_dict(orient='records')\n",
    "    val_dicts_no_feat = df_val_no_feat.to_dict(orient='records')\n",
    "    \n",
    "    dv_no_feat = DictVectorizer(sparse=False)\n",
    "    X_train_no_feat = dv_no_feat.fit_transform(train_dicts_no_feat)\n",
    "    X_val_no_feat = dv_no_feat.transform(val_dicts_no_feat)\n",
    "    \n",
    "    # Entrenar modelo sin la característica\n",
    "    model_no_feat = LogisticRegression(solver='liblinear', C=1.0, max_iter=1000, random_state=42)\n",
    "    model_no_feat.fit(X_train_no_feat, y_train)\n",
    "    \n",
    "    # Calcular accuracy\n",
    "    y_pred_no_feat = model_no_feat.predict(X_val_no_feat)\n",
    "    accuracy_no_feat = accuracy_score(y_val, y_pred_no_feat)\n",
    "    \n",
    "    # Calcular la diferencia\n",
    "    diff = accuracy_original - accuracy_no_feat\n",
    "    feature_importance[feature] = diff\n",
    "    \n",
    "    print(f\"Feature '{feature}': accuracy sin ella = {accuracy_no_feat:.6f}, diferencia = {diff:.6f}\")"
   ]
  },
  {
   "cell_type": "code",
   "execution_count": null,
   "id": "c7f9b9d0-cedc-4db7-80dd-4b0443179d45",
   "metadata": {},
   "outputs": [
    {
     "data": {
      "text/html": [
       "<div>\n",
       "<style scoped>\n",
       "    .dataframe tbody tr th:only-of-type {\n",
       "        vertical-align: middle;\n",
       "    }\n",
       "\n",
       "    .dataframe tbody tr th {\n",
       "        vertical-align: top;\n",
       "    }\n",
       "\n",
       "    .dataframe thead th {\n",
       "        text-align: right;\n",
       "    }\n",
       "</style>\n",
       "<table border=\"1\" class=\"dataframe\">\n",
       "  <thead>\n",
       "    <tr style=\"text-align: right;\">\n",
       "      <th></th>\n",
       "      <th>horsepower</th>\n",
       "      <th>count</th>\n",
       "    </tr>\n",
       "  </thead>\n",
       "  <tbody>\n",
       "    <tr>\n",
       "      <th>0</th>\n",
       "      <td>152.0</td>\n",
       "      <td>142</td>\n",
       "    </tr>\n",
       "    <tr>\n",
       "      <th>1</th>\n",
       "      <td>145.0</td>\n",
       "      <td>141</td>\n",
       "    </tr>\n",
       "    <tr>\n",
       "      <th>2</th>\n",
       "      <td>151.0</td>\n",
       "      <td>134</td>\n",
       "    </tr>\n",
       "    <tr>\n",
       "      <th>3</th>\n",
       "      <td>148.0</td>\n",
       "      <td>130</td>\n",
       "    </tr>\n",
       "    <tr>\n",
       "      <th>4</th>\n",
       "      <td>141.0</td>\n",
       "      <td>130</td>\n",
       "    </tr>\n",
       "    <tr>\n",
       "      <th>...</th>\n",
       "      <td>...</td>\n",
       "      <td>...</td>\n",
       "    </tr>\n",
       "    <tr>\n",
       "      <th>187</th>\n",
       "      <td>40.0</td>\n",
       "      <td>1</td>\n",
       "    </tr>\n",
       "    <tr>\n",
       "      <th>188</th>\n",
       "      <td>57.0</td>\n",
       "      <td>1</td>\n",
       "    </tr>\n",
       "    <tr>\n",
       "      <th>189</th>\n",
       "      <td>245.0</td>\n",
       "      <td>1</td>\n",
       "    </tr>\n",
       "    <tr>\n",
       "      <th>190</th>\n",
       "      <td>252.0</td>\n",
       "      <td>1</td>\n",
       "    </tr>\n",
       "    <tr>\n",
       "      <th>191</th>\n",
       "      <td>61.0</td>\n",
       "      <td>1</td>\n",
       "    </tr>\n",
       "  </tbody>\n",
       "</table>\n",
       "<p>192 rows × 2 columns</p>\n",
       "</div>"
      ],
      "text/plain": [
       "     horsepower  count\n",
       "0         152.0    142\n",
       "1         145.0    141\n",
       "2         151.0    134\n",
       "3         148.0    130\n",
       "4         141.0    130\n",
       "..          ...    ...\n",
       "187        40.0      1\n",
       "188        57.0      1\n",
       "189       245.0      1\n",
       "190       252.0      1\n",
       "191        61.0      1\n",
       "\n",
       "[192 rows x 2 columns]"
      ]
     },
     "execution_count": 27,
     "metadata": {},
     "output_type": "execute_result"
    }
   ],
   "source": [
    "# Encontrar la característica con la menor diferencia (menos útil)\n",
    "min_diff_feature = min(feature_importance, key=feature_importance.get)\n",
    "min_diff = feature_importance[min_diff_feature]\n",
    "\n",
    "print(f\"\\n**Respuesta Q5:** '{min_diff_feature}' tiene la menor diferencia ({min_diff:.6f})\")"
   ]
  },
  {
   "cell_type": "code",
   "execution_count": null,
   "id": "26efee11-cd73-498e-9746-bc542ab07e3a",
   "metadata": {},
   "outputs": [
    {
     "data": {
      "image/png": "[encoded data removed]",
      "text/plain": [
       "<Figure size 800x550 with 1 Axes>"
      ]
     },
     "metadata": {},
     "output_type": "display_data"
    }
   ],
   "source": [
    "## Question 6: Regularización\n",
    "\n",
    "**Pregunta:** Entrenar una regresión logística regularizada con diferentes valores de `C`: `[0.01, 0.1, 1, 10, 100]`. Usar todas las características como en Q4. Calcular el accuracy en validación y redondearlo a 3 decimales.\n",
    "\n",
    "¿Cuál de estos valores de `C` conduce al mejor accuracy en el conjunto de validación? (Si hay empate, seleccionar el menor `C`)\n",
    "\n",
    "**Opciones:**\n",
    "- 0.01\n",
    "- 0.1\n",
    "- 1\n",
    "- 10\n",
    "- 100"
   ]
  },
  {
   "cell_type": "code",
   "execution_count": null,
   "id": "3a40542b-d658-487b-8d62-1747fa6de067",
   "metadata": {},
   "outputs": [
    {
     "data": {
      "image/png": "[encoded data removed]",
      "text/plain": [
       "<Figure size 1500x500 with 2 Axes>"
      ]
     },
     "metadata": {},
     "output_type": "display_data"
    },
    {
     "data": {
      "image/png": "[encoded data removed]",
      "text/plain": [
       "<Figure size 1500x500 with 2 Axes>"
      ]
     },
     "metadata": {},
     "output_type": "display_data"
    },
    {
     "data": {
      "image/png": "[encoded data removed]",
      "text/plain": [
       "<Figure size 1500x500 with 2 Axes>"
      ]
     },
     "metadata": {},
     "output_type": "display_data"
    },
    {
     "data": {
      "image/png": "[encoded data removed]",
      "text/plain": [
       "<Figure size 1500x500 with 2 Axes>"
      ]
     },
     "metadata": {},
     "output_type": "display_data"
    }
   ],
   "source": [
    "# Probar diferentes valores de C\n",
    "C_values = [0.01, 0.1, 1, 10, 100]\n",
    "results = {}\n",
    "\n",
    "for C in C_values:\n",
    "    # Entrenar modelo con el valor de C especificado\n",
    "    model_c = LogisticRegression(solver='liblinear', C=C, max_iter=1000, random_state=42)\n",
    "    model_c.fit(X_train, y_train)\n",
    "    \n",
    "    # Calcular accuracy en validación\n",
    "    y_pred_c = model_c.predict(X_val)\n",
    "    accuracy_c = accuracy_score(y_val, y_pred_c)\n",
    "    accuracy_c_rounded = round(accuracy_c, 3)\n",
    "    \n",
    "    results[C] = accuracy_c_rounded\n",
    "    print(f\"C={C}: accuracy = {accuracy_c_rounded}\")\n"
   ]
  },
  {
   "cell_type": "code",
   "execution_count": null,
   "id": "fabbfd7f-f733-418b-a210-b6a86a7abac0",
   "metadata": {},
   "outputs": [],
   "source": [
    "# Encontrar el mejor C (el menor si hay empate)\n",
    "max_accuracy = max(results.values())\n",
    "best_C = min([c for c, acc in results.items() if acc == max_accuracy])\n",
    "\n",
    "print(f\"\\n**Respuesta Q6:** C={best_C} con accuracy de {max_accuracy}\")"
   ]
  },
  {
   "cell_type": "code",
   "execution_count": null,
   "id": "84ed3436-2404-4cfc-af0c-1e23fb49a2f2",
   "metadata": {},
   "outputs": [],
   "source": [
    "## Resumen de respuestas\n",
    "\n",
    "Veamos todas las respuestas del homework:"
   ]
  },
  {
   "cell_type": "code",
   "execution_count": null,
   "id": "60f103cf-acdd-4636-b85a-5fa633c9b7e0",
   "metadata": {},
   "outputs": [],
   "source": [
    "print(\"=\" * 60)\n",
    "print(\"RESUMEN DE RESPUESTAS - HOMEWORK 3\")\n",
    "print(\"=\" * 60)\n",
    "print(f\"Q1 - Moda de 'industry': {mode_industry}\")\n",
    "print(f\"Q2 - Mayor correlación: {max_pair[0]} y {max_pair[1]}\")\n",
    "print(f\"Q3 - Mayor MI score: {max_var}\")\n",
    "print(f\"Q4 - Accuracy de regresión logística: {accuracy_rounded}\")\n",
    "print(f\"Q5 - Característica menos útil: {min_diff_feature}\")\n",
    "print(f\"Q6 - Mejor valor de C: {best_C}\")\n",
    "print(\"=\" * 60)"
   ]
  },
  {
   "cell_type": "code",
   "execution_count": null,
   "id": "026c3dbd-5e74-43f3-8e18-28d237a37efc",
   "metadata": {},
   "outputs": [],
   "source": [
    "# Visualización de la distribución de la variable objetivo\n",
    "print(\"\\nDistribución de la variable objetivo 'converted':\")\n",
    "print(pd.Series(y_train).value_counts())\n",
    "print(f\"\\nPorcentaje de conversión: {pd.Series(y_train).mean()*100:.2f}%\")"
   ]
  },
  {
   "cell_type": "code",
   "execution_count": null,
   "id": "28e42a7e-a3e3-4ac7-9ec0-29b1361900d2",
   "metadata": {},
   "outputs": [],
   "source": []
  },
  {
   "cell_type": "markdown",
   "id": "c9cfe25c-4c24-484b-8291-b45efc67f730",
   "metadata": {},
   "source": []
  },
  {
   "cell_type": "code",
   "execution_count": null,
   "id": "a49b0d9e-845a-4a5f-9e69-6b1decd048c7",
   "metadata": {},
   "outputs": [
    {
     "name": "stdout",
     "output_type": "stream",
     "text": [
      "Cantidad de registros: 9704\n",
      "Entrenamiento 60%: 5824\n",
      "Validación 20%: 1940\n",
      "Prueba 20%: 1940\n"
     ]
    }
   ],
   "source": []
  },
  {
   "cell_type": "code",
   "execution_count": null,
   "id": "8fde1b58-a03c-48db-8689-4b8b2a50735f",
   "metadata": {},
   "outputs": [
    {
     "data": {
      "text/plain": [
       "array([   0,    1,    2, ..., 9701, 9702, 9703], shape=(9704,))"
      ]
     },
     "execution_count": 36,
     "metadata": {},
     "output_type": "execute_result"
    }
   ],
   "source": []
  },
  {
   "cell_type": "code",
   "execution_count": null,
   "id": "0cf5e9b3-b196-479e-ae93-9eb1e8f26a9b",
   "metadata": {},
   "outputs": [
    {
     "data": {
      "text/plain": [
       "array([ 483, 7506, 8795, ..., 5390,  860, 7270], shape=(9704,))"
      ]
     },
     "execution_count": 37,
     "metadata": {},
     "output_type": "execute_result"
    }
   ],
   "source": []
  },
  {
   "cell_type": "code",
   "execution_count": null,
   "id": "09de1f29-511b-4a48-b971-1872114cb309",
   "metadata": {},
   "outputs": [],
   "source": []
  },
  {
   "cell_type": "code",
   "execution_count": null,
   "id": "1a95ad8e-1f1b-46e6-856c-96225a47d4eb",
   "metadata": {},
   "outputs": [
    {
     "data": {
      "text/html": [
       "<div>\n",
       "<style scoped>\n",
       "    .dataframe tbody tr th:only-of-type {\n",
       "        vertical-align: middle;\n",
       "    }\n",
       "\n",
       "    .dataframe tbody tr th {\n",
       "        vertical-align: top;\n",
       "    }\n",
       "\n",
       "    .dataframe thead th {\n",
       "        text-align: right;\n",
       "    }\n",
       "</style>\n",
       "<table border=\"1\" class=\"dataframe\">\n",
       "  <thead>\n",
       "    <tr style=\"text-align: right;\">\n",
       "      <th></th>\n",
       "      <th>engine_displacement</th>\n",
       "      <th>horsepower</th>\n",
       "      <th>vehicle_weight</th>\n",
       "      <th>model_year</th>\n",
       "      <th>fuel_efficiency_mpg</th>\n",
       "    </tr>\n",
       "  </thead>\n",
       "  <tbody>\n",
       "    <tr>\n",
       "      <th>483</th>\n",
       "      <td>220</td>\n",
       "      <td>144.0</td>\n",
       "      <td>2535.887591</td>\n",
       "      <td>2009</td>\n",
       "      <td>16.642943</td>\n",
       "    </tr>\n",
       "    <tr>\n",
       "      <th>7506</th>\n",
       "      <td>160</td>\n",
       "      <td>141.0</td>\n",
       "      <td>2741.170484</td>\n",
       "      <td>2019</td>\n",
       "      <td>16.298377</td>\n",
       "    </tr>\n",
       "    <tr>\n",
       "      <th>8795</th>\n",
       "      <td>230</td>\n",
       "      <td>155.0</td>\n",
       "      <td>2471.880237</td>\n",
       "      <td>2017</td>\n",
       "      <td>18.591822</td>\n",
       "    </tr>\n",
       "    <tr>\n",
       "      <th>1688</th>\n",
       "      <td>150</td>\n",
       "      <td>206.0</td>\n",
       "      <td>3748.164469</td>\n",
       "      <td>2015</td>\n",
       "      <td>11.818843</td>\n",
       "    </tr>\n",
       "    <tr>\n",
       "      <th>6217</th>\n",
       "      <td>300</td>\n",
       "      <td>111.0</td>\n",
       "      <td>2135.716359</td>\n",
       "      <td>2006</td>\n",
       "      <td>19.402209</td>\n",
       "    </tr>\n",
       "  </tbody>\n",
       "</table>\n",
       "</div>"
      ],
      "text/plain": [
       "      engine_displacement  horsepower  vehicle_weight  model_year  \\\n",
       "483                   220       144.0     2535.887591        2009   \n",
       "7506                  160       141.0     2741.170484        2019   \n",
       "8795                  230       155.0     2471.880237        2017   \n",
       "1688                  150       206.0     3748.164469        2015   \n",
       "6217                  300       111.0     2135.716359        2006   \n",
       "\n",
       "      fuel_efficiency_mpg  \n",
       "483             16.642943  \n",
       "7506            16.298377  \n",
       "8795            18.591822  \n",
       "1688            11.818843  \n",
       "6217            19.402209  "
      ]
     },
     "execution_count": 39,
     "metadata": {},
     "output_type": "execute_result"
    }
   ],
   "source": []
  },
  {
   "cell_type": "code",
   "execution_count": null,
   "id": "602902df-f4cb-4b03-a29b-b634946bcef6",
   "metadata": {},
   "outputs": [
    {
     "data": {
      "text/html": [
       "<div>\n",
       "<style scoped>\n",
       "    .dataframe tbody tr th:only-of-type {\n",
       "        vertical-align: middle;\n",
       "    }\n",
       "\n",
       "    .dataframe tbody tr th {\n",
       "        vertical-align: top;\n",
       "    }\n",
       "\n",
       "    .dataframe thead th {\n",
       "        text-align: right;\n",
       "    }\n",
       "</style>\n",
       "<table border=\"1\" class=\"dataframe\">\n",
       "  <thead>\n",
       "    <tr style=\"text-align: right;\">\n",
       "      <th></th>\n",
       "      <th>engine_displacement</th>\n",
       "      <th>horsepower</th>\n",
       "      <th>vehicle_weight</th>\n",
       "      <th>model_year</th>\n",
       "      <th>fuel_efficiency_mpg</th>\n",
       "    </tr>\n",
       "  </thead>\n",
       "  <tbody>\n",
       "    <tr>\n",
       "      <th>6163</th>\n",
       "      <td>180</td>\n",
       "      <td>112.0</td>\n",
       "      <td>2772.134410</td>\n",
       "      <td>2020</td>\n",
       "      <td>15.366341</td>\n",
       "    </tr>\n",
       "    <tr>\n",
       "      <th>3313</th>\n",
       "      <td>260</td>\n",
       "      <td>138.0</td>\n",
       "      <td>3014.061530</td>\n",
       "      <td>2022</td>\n",
       "      <td>14.601182</td>\n",
       "    </tr>\n",
       "    <tr>\n",
       "      <th>4781</th>\n",
       "      <td>140</td>\n",
       "      <td>181.0</td>\n",
       "      <td>3652.186151</td>\n",
       "      <td>2016</td>\n",
       "      <td>12.247032</td>\n",
       "    </tr>\n",
       "    <tr>\n",
       "      <th>8210</th>\n",
       "      <td>270</td>\n",
       "      <td>105.0</td>\n",
       "      <td>2753.040847</td>\n",
       "      <td>2023</td>\n",
       "      <td>15.136400</td>\n",
       "    </tr>\n",
       "    <tr>\n",
       "      <th>6713</th>\n",
       "      <td>170</td>\n",
       "      <td>224.0</td>\n",
       "      <td>4163.375137</td>\n",
       "      <td>2003</td>\n",
       "      <td>10.340419</td>\n",
       "    </tr>\n",
       "  </tbody>\n",
       "</table>\n",
       "</div>"
      ],
      "text/plain": [
       "      engine_displacement  horsepower  vehicle_weight  model_year  \\\n",
       "6163                  180       112.0     2772.134410        2020   \n",
       "3313                  260       138.0     3014.061530        2022   \n",
       "4781                  140       181.0     3652.186151        2016   \n",
       "8210                  270       105.0     2753.040847        2023   \n",
       "6713                  170       224.0     4163.375137        2003   \n",
       "\n",
       "      fuel_efficiency_mpg  \n",
       "6163            15.366341  \n",
       "3313            14.601182  \n",
       "4781            12.247032  \n",
       "8210            15.136400  \n",
       "6713            10.340419  "
      ]
     },
     "execution_count": 40,
     "metadata": {},
     "output_type": "execute_result"
    }
   ],
   "source": []
  },
  {
   "cell_type": "code",
   "execution_count": null,
   "id": "e3c0a66e-c87d-4535-85cc-93b4edb44650",
   "metadata": {},
   "outputs": [
    {
     "data": {
      "text/html": [
       "<div>\n",
       "<style scoped>\n",
       "    .dataframe tbody tr th:only-of-type {\n",
       "        vertical-align: middle;\n",
       "    }\n",
       "\n",
       "    .dataframe tbody tr th {\n",
       "        vertical-align: top;\n",
       "    }\n",
       "\n",
       "    .dataframe thead th {\n",
       "        text-align: right;\n",
       "    }\n",
       "</style>\n",
       "<table border=\"1\" class=\"dataframe\">\n",
       "  <thead>\n",
       "    <tr style=\"text-align: right;\">\n",
       "      <th></th>\n",
       "      <th>engine_displacement</th>\n",
       "      <th>horsepower</th>\n",
       "      <th>vehicle_weight</th>\n",
       "      <th>model_year</th>\n",
       "      <th>fuel_efficiency_mpg</th>\n",
       "    </tr>\n",
       "  </thead>\n",
       "  <tbody>\n",
       "    <tr>\n",
       "      <th>3729</th>\n",
       "      <td>140</td>\n",
       "      <td>148.0</td>\n",
       "      <td>2704.826005</td>\n",
       "      <td>2017</td>\n",
       "      <td>15.804354</td>\n",
       "    </tr>\n",
       "    <tr>\n",
       "      <th>7764</th>\n",
       "      <td>210</td>\n",
       "      <td>136.0</td>\n",
       "      <td>3001.227490</td>\n",
       "      <td>2004</td>\n",
       "      <td>14.272374</td>\n",
       "    </tr>\n",
       "    <tr>\n",
       "      <th>4358</th>\n",
       "      <td>210</td>\n",
       "      <td>152.0</td>\n",
       "      <td>3747.467392</td>\n",
       "      <td>2021</td>\n",
       "      <td>11.748441</td>\n",
       "    </tr>\n",
       "    <tr>\n",
       "      <th>5922</th>\n",
       "      <td>190</td>\n",
       "      <td>128.0</td>\n",
       "      <td>2705.833636</td>\n",
       "      <td>2014</td>\n",
       "      <td>16.485991</td>\n",
       "    </tr>\n",
       "    <tr>\n",
       "      <th>1343</th>\n",
       "      <td>230</td>\n",
       "      <td>156.0</td>\n",
       "      <td>2505.939657</td>\n",
       "      <td>2005</td>\n",
       "      <td>17.779704</td>\n",
       "    </tr>\n",
       "  </tbody>\n",
       "</table>\n",
       "</div>"
      ],
      "text/plain": [
       "      engine_displacement  horsepower  vehicle_weight  model_year  \\\n",
       "3729                  140       148.0     2704.826005        2017   \n",
       "7764                  210       136.0     3001.227490        2004   \n",
       "4358                  210       152.0     3747.467392        2021   \n",
       "5922                  190       128.0     2705.833636        2014   \n",
       "1343                  230       156.0     2505.939657        2005   \n",
       "\n",
       "      fuel_efficiency_mpg  \n",
       "3729            15.804354  \n",
       "7764            14.272374  \n",
       "4358            11.748441  \n",
       "5922            16.485991  \n",
       "1343            17.779704  "
      ]
     },
     "execution_count": 41,
     "metadata": {},
     "output_type": "execute_result"
    }
   ],
   "source": []
  },
  {
   "cell_type": "code",
   "execution_count": null,
   "id": "ec10a5de-a548-4428-8b3f-4bf5023ee957",
   "metadata": {},
   "outputs": [],
   "source": []
  },
  {
   "cell_type": "code",
   "execution_count": null,
   "id": "f4ffb30e-0b3b-445c-b36b-39a8e20768de",
   "metadata": {},
   "outputs": [],
   "source": []
  },
  {
   "cell_type": "code",
   "execution_count": null,
   "id": "c48b6e25-9322-49ea-8dc6-8d64fcf73cba",
   "metadata": {},
   "outputs": [],
   "source": []
  },
  {
   "cell_type": "code",
   "execution_count": null,
   "id": "48af4e7c-4047-4a8a-b0fa-e73f681be84e",
   "metadata": {},
   "outputs": [],
   "source": []
  },
  {
   "cell_type": "code",
   "execution_count": null,
   "id": "cc5d4692-a88f-4a84-84a3-b55b6456c054",
   "metadata": {},
   "outputs": [],
   "source": []
  },
  {
   "cell_type": "markdown",
   "id": "23f9435b-1ef2-475b-978b-bb06a6d2d542",
   "metadata": {},
   "source": [
    "\n"
   ]
  },
  {
   "cell_type": "code",
   "execution_count": null,
   "id": "bec1970d-c5bf-4d15-9779-012519c8640c",
   "metadata": {},
   "outputs": [
    {
     "data": {
      "text/plain": [
       "np.float64(149.54476367006487)"
      ]
     },
     "execution_count": 47,
     "metadata": {},
     "output_type": "execute_result"
    }
   ],
   "source": []
  },
  {
   "cell_type": "code",
   "execution_count": null,
   "id": "867388c7-78e2-45b8-943e-219976dadc56",
   "metadata": {},
   "outputs": [
    {
     "data": {
      "text/plain": [
       "[{'horsepower_0': {'horsepower': 0}},\n",
       " {'horsepower_mean': {'horsepower': 149.54476367006487}}]"
      ]
     },
     "execution_count": 48,
     "metadata": {},
     "output_type": "execute_result"
    }
   ],
   "source": []
  },
  {
   "cell_type": "code",
   "execution_count": null,
   "id": "3106c9bb-ee1c-4b3a-8703-93965aea83d0",
   "metadata": {},
   "outputs": [],
   "source": []
  },
  {
   "cell_type": "code",
   "execution_count": null,
   "id": "7ddbf409-50a1-451b-8cb6-b61f68a59ba5",
   "metadata": {},
   "outputs": [],
   "source": []
  },
  {
   "cell_type": "code",
   "execution_count": null,
   "id": "1e11d7b2-fb0a-4030-9278-95f09ff04bed",
   "metadata": {},
   "outputs": [],
   "source": []
  },
  {
   "cell_type": "code",
   "execution_count": null,
   "id": "4eb0a903-051b-4fe8-a0e6-9866aece0d32",
   "metadata": {},
   "outputs": [
    {
     "name": "stdout",
     "output_type": "stream",
     "text": [
      "Entrenando modelo usando horsepower_0\n",
      "Aplicando fillna segun clave:valor -> {'horsepower': 0}\n",
      "Entrenando modelo...\n",
      "Evaluando...\n",
      "RMSE train 0.5203\n",
      "RMSE val 0.5174\n",
      "...\n",
      "Entrenando modelo usando horsepower_mean\n",
      "Aplicando fillna segun clave:valor -> {'horsepower': 149.54476367006487}\n",
      "Entrenando modelo...\n",
      "Evaluando...\n",
      "RMSE train 0.4624\n",
      "RMSE val 0.4636\n",
      "...\n"
     ]
    }
   ],
   "source": []
  },
  {
   "cell_type": "code",
   "execution_count": null,
   "id": "dccebd57-c23f-4422-bfdd-21e3e92cba60",
   "metadata": {},
   "outputs": [
    {
     "data": {
      "text/html": [
       "<div>\n",
       "<style scoped>\n",
       "    .dataframe tbody tr th:only-of-type {\n",
       "        vertical-align: middle;\n",
       "    }\n",
       "\n",
       "    .dataframe tbody tr th {\n",
       "        vertical-align: top;\n",
       "    }\n",
       "\n",
       "    .dataframe thead th {\n",
       "        text-align: right;\n",
       "    }\n",
       "</style>\n",
       "<table border=\"1\" class=\"dataframe\">\n",
       "  <thead>\n",
       "    <tr style=\"text-align: right;\">\n",
       "      <th></th>\n",
       "      <th>estrategia_fillna</th>\n",
       "      <th>rmse_train</th>\n",
       "      <th>rmse_val</th>\n",
       "    </tr>\n",
       "  </thead>\n",
       "  <tbody>\n",
       "    <tr>\n",
       "      <th>0</th>\n",
       "      <td>{'horsepower': 0}</td>\n",
       "      <td>0.5203</td>\n",
       "      <td>0.5174</td>\n",
       "    </tr>\n",
       "    <tr>\n",
       "      <th>1</th>\n",
       "      <td>{'horsepower': 149.54476367006487}</td>\n",
       "      <td>0.4624</td>\n",
       "      <td>0.4636</td>\n",
       "    </tr>\n",
       "  </tbody>\n",
       "</table>\n",
       "</div>"
      ],
      "text/plain": [
       "                    estrategia_fillna  rmse_train  rmse_val\n",
       "0                   {'horsepower': 0}      0.5203    0.5174\n",
       "1  {'horsepower': 149.54476367006487}      0.4624    0.4636"
      ]
     },
     "execution_count": 53,
     "metadata": {},
     "output_type": "execute_result"
    }
   ],
   "source": []
  },
  {
   "cell_type": "code",
   "execution_count": null,
   "id": "939d08f9-2770-46af-916f-22d346c86fad",
   "metadata": {},
   "outputs": [
    {
     "name": "stdout",
     "output_type": "stream",
     "text": [
      "<class 'pandas.core.series.Series'>\n",
      "RangeIndex: 5824 entries, 0 to 5823\n",
      "Series name: horsepower\n",
      "Non-Null Count  Dtype  \n",
      "--------------  -----  \n",
      "5395 non-null   float64\n",
      "dtypes: float64(1)\n",
      "memory usage: 45.6 KB\n"
     ]
    }
   ],
   "source": []
  },
  {
   "cell_type": "code",
   "execution_count": null,
   "id": "0d5dda4b-f276-4eda-97b5-33140310e7db",
   "metadata": {},
   "outputs": [],
   "source": []
  },
  {
   "cell_type": "code",
   "execution_count": null,
   "id": "1ca241b5-7e18-45fe-b96f-9db580866475",
   "metadata": {},
   "outputs": [
    {
     "data": {
      "image/png": "[encoded data removed]",
      "text/plain": [
       "<Figure size 1500x500 with 2 Axes>"
      ]
     },
     "metadata": {},
     "output_type": "display_data"
    }
   ],
   "source": []
  },
  {
   "cell_type": "markdown",
   "id": "e5a25026-6c3f-49d0-bb4a-ec5fdb0d408b",
   "metadata": {},
   "source": [
    "\n"
   ]
  },
  {
   "cell_type": "code",
   "execution_count": null,
   "id": "73189a84-a804-4a71-a1ea-8e0333193893",
   "metadata": {},
   "outputs": [],
   "source": []
  },
  {
   "cell_type": "code",
   "execution_count": null,
   "id": "a7d72b95-86ec-4199-8156-395f1d7c260c",
   "metadata": {},
   "outputs": [
    {
     "data": {
      "text/plain": [
       "[0, 0.01, 0.1, 1, 5, 10, 100]"
      ]
     },
     "execution_count": 58,
     "metadata": {},
     "output_type": "execute_result"
    }
   ],
   "source": []
  },
  {
   "cell_type": "code",
   "execution_count": null,
   "id": "b3c43419-90f8-4e20-8149-fbf4f4974b80",
   "metadata": {},
   "outputs": [
    {
     "name": "stdout",
     "output_type": "stream",
     "text": [
      "Entrenando modelo usando regularizacio r:0\n",
      "Aplicando fillna con valor 0...\n",
      "Entrenando modelo...\n",
      "Evaluando...\n",
      "RMSE train 0.52\n",
      "RMSE val 0.52\n",
      "...\n",
      "Entrenando modelo usando regularizacio r:0.01\n",
      "Aplicando fillna con valor 0...\n",
      "Entrenando modelo...\n",
      "Evaluando...\n",
      "RMSE train 0.52\n",
      "RMSE val 0.52\n",
      "...\n",
      "Entrenando modelo usando regularizacio r:0.1\n",
      "Aplicando fillna con valor 0...\n",
      "Entrenando modelo...\n",
      "Evaluando...\n",
      "RMSE train 0.52\n",
      "RMSE val 0.52\n",
      "...\n",
      "Entrenando modelo usando regularizacio r:1\n",
      "Aplicando fillna con valor 0...\n",
      "Entrenando modelo...\n",
      "Evaluando...\n",
      "RMSE train 0.53\n",
      "RMSE val 0.52\n",
      "...\n",
      "Entrenando modelo usando regularizacio r:5\n",
      "Aplicando fillna con valor 0...\n",
      "Entrenando modelo...\n",
      "Evaluando...\n",
      "RMSE train 0.53\n",
      "RMSE val 0.52\n",
      "...\n",
      "Entrenando modelo usando regularizacio r:10\n",
      "Aplicando fillna con valor 0...\n",
      "Entrenando modelo...\n",
      "Evaluando...\n",
      "RMSE train 0.53\n",
      "RMSE val 0.52\n",
      "...\n",
      "Entrenando modelo usando regularizacio r:100\n",
      "Aplicando fillna con valor 0...\n",
      "Entrenando modelo...\n",
      "Evaluando...\n",
      "RMSE train 0.53\n",
      "RMSE val 0.52\n",
      "...\n"
     ]
    }
   ],
   "source": []
  },
  {
   "cell_type": "code",
   "execution_count": null,
   "id": "3d653547-dbb1-4799-8629-4e18a3053220",
   "metadata": {},
   "outputs": [
    {
     "data": {
      "text/html": [
       "<div>\n",
       "<style scoped>\n",
       "    .dataframe tbody tr th:only-of-type {\n",
       "        vertical-align: middle;\n",
       "    }\n",
       "\n",
       "    .dataframe tbody tr th {\n",
       "        vertical-align: top;\n",
       "    }\n",
       "\n",
       "    .dataframe thead th {\n",
       "        text-align: right;\n",
       "    }\n",
       "</style>\n",
       "<table border=\"1\" class=\"dataframe\">\n",
       "  <thead>\n",
       "    <tr style=\"text-align: right;\">\n",
       "      <th></th>\n",
       "      <th>r</th>\n",
       "      <th>rmse_train</th>\n",
       "      <th>rmse_val</th>\n",
       "    </tr>\n",
       "  </thead>\n",
       "  <tbody>\n",
       "    <tr>\n",
       "      <th>0</th>\n",
       "      <td>0.00</td>\n",
       "      <td>0.52</td>\n",
       "      <td>0.52</td>\n",
       "    </tr>\n",
       "    <tr>\n",
       "      <th>1</th>\n",
       "      <td>0.01</td>\n",
       "      <td>0.52</td>\n",
       "      <td>0.52</td>\n",
       "    </tr>\n",
       "    <tr>\n",
       "      <th>2</th>\n",
       "      <td>0.10</td>\n",
       "      <td>0.52</td>\n",
       "      <td>0.52</td>\n",
       "    </tr>\n",
       "    <tr>\n",
       "      <th>3</th>\n",
       "      <td>1.00</td>\n",
       "      <td>0.53</td>\n",
       "      <td>0.52</td>\n",
       "    </tr>\n",
       "    <tr>\n",
       "      <th>4</th>\n",
       "      <td>5.00</td>\n",
       "      <td>0.53</td>\n",
       "      <td>0.52</td>\n",
       "    </tr>\n",
       "    <tr>\n",
       "      <th>5</th>\n",
       "      <td>10.00</td>\n",
       "      <td>0.53</td>\n",
       "      <td>0.52</td>\n",
       "    </tr>\n",
       "    <tr>\n",
       "      <th>6</th>\n",
       "      <td>100.00</td>\n",
       "      <td>0.53</td>\n",
       "      <td>0.52</td>\n",
       "    </tr>\n",
       "  </tbody>\n",
       "</table>\n",
       "</div>"
      ],
      "text/plain": [
       "        r  rmse_train  rmse_val\n",
       "0    0.00        0.52      0.52\n",
       "1    0.01        0.52      0.52\n",
       "2    0.10        0.52      0.52\n",
       "3    1.00        0.53      0.52\n",
       "4    5.00        0.53      0.52\n",
       "5   10.00        0.53      0.52\n",
       "6  100.00        0.53      0.52"
      ]
     },
     "execution_count": 60,
     "metadata": {},
     "output_type": "execute_result"
    }
   ],
   "source": []
  },
  {
   "cell_type": "markdown",
   "id": "49ba481d-7e9f-438a-86ce-012ddd1ffccb",
   "metadata": {},
   "source": []
  },
  {
   "cell_type": "code",
   "execution_count": null,
   "id": "7821929c-1e23-47a2-b6c2-4bd2250d3240",
   "metadata": {},
   "outputs": [],
   "source": []
  },
  {
   "cell_type": "code",
   "execution_count": null,
   "id": "e8d30410-321e-4175-8b26-22e9742ed3b8",
   "metadata": {},
   "outputs": [],
   "source": []
  },
  {
   "cell_type": "code",
   "execution_count": null,
   "id": "3123d77a-010d-426e-8c64-279f693e56c4",
   "metadata": {},
   "outputs": [
    {
     "data": {
      "text/plain": [
       "[0, 1, 2, 3, 4, 5, 6, 7, 8, 9]"
      ]
     },
     "execution_count": 63,
     "metadata": {},
     "output_type": "execute_result"
    }
   ],
   "source": []
  },
  {
   "cell_type": "code",
   "execution_count": null,
   "id": "f8842e47-6a08-4426-892a-b64befe84339",
   "metadata": {},
   "outputs": [
    {
     "name": "stdout",
     "output_type": "stream",
     "text": [
      "Aplicando fillna con valor 0...\n",
      "Entrenando modelo...\n",
      "Evaluando...\n",
      "RMSE train 0.5171560913636251\n",
      "RMSE val 0.5206531296294218\n",
      "...\n",
      "Aplicando fillna con valor 0...\n",
      "Entrenando modelo...\n",
      "Evaluando...\n",
      "RMSE train 0.5148529296311273\n",
      "RMSE val 0.521338891285577\n",
      "...\n",
      "Aplicando fillna con valor 0...\n",
      "Entrenando modelo...\n",
      "Evaluando...\n",
      "RMSE train 0.520558311480986\n",
      "RMSE val 0.5228069974803171\n",
      "...\n",
      "Aplicando fillna con valor 0...\n",
      "Entrenando modelo...\n",
      "Evaluando...\n",
      "RMSE train 0.5198664820191077\n",
      "RMSE val 0.515951674119676\n",
      "...\n",
      "Aplicando fillna con valor 0...\n",
      "Entrenando modelo...\n",
      "Evaluando...\n",
      "RMSE train 0.5171675510792179\n",
      "RMSE val 0.5109129460053851\n",
      "...\n",
      "Aplicando fillna con valor 0...\n",
      "Entrenando modelo...\n",
      "Evaluando...\n",
      "RMSE train 0.5195177528194667\n",
      "RMSE val 0.52834064601107\n",
      "...\n",
      "Aplicando fillna con valor 0...\n",
      "Entrenando modelo...\n",
      "Evaluando...\n",
      "RMSE train 0.5124114964022372\n",
      "RMSE val 0.5313910658146311\n",
      "...\n",
      "Aplicando fillna con valor 0...\n",
      "Entrenando modelo...\n",
      "Evaluando...\n",
      "RMSE train 0.524763629954572\n",
      "RMSE val 0.5090670387381733\n",
      "...\n",
      "Aplicando fillna con valor 0...\n",
      "Entrenando modelo...\n",
      "Evaluando...\n",
      "RMSE train 0.524306385184493\n",
      "RMSE val 0.5147399129511132\n",
      "...\n",
      "Aplicando fillna con valor 0...\n",
      "Entrenando modelo...\n",
      "Evaluando...\n",
      "RMSE train 0.5219709782195826\n",
      "RMSE val 0.5131865908224594\n",
      "...\n"
     ]
    }
   ],
   "source": []
  },
  {
   "cell_type": "code",
   "execution_count": null,
   "id": "754e6bdb-49ca-491c-b6ce-1def06583448",
   "metadata": {},
   "outputs": [
    {
     "data": {
      "text/html": [
       "<div>\n",
       "<style scoped>\n",
       "    .dataframe tbody tr th:only-of-type {\n",
       "        vertical-align: middle;\n",
       "    }\n",
       "\n",
       "    .dataframe tbody tr th {\n",
       "        vertical-align: top;\n",
       "    }\n",
       "\n",
       "    .dataframe thead th {\n",
       "        text-align: right;\n",
       "    }\n",
       "</style>\n",
       "<table border=\"1\" class=\"dataframe\">\n",
       "  <thead>\n",
       "    <tr style=\"text-align: right;\">\n",
       "      <th></th>\n",
       "      <th>seed</th>\n",
       "      <th>rmse_train</th>\n",
       "      <th>rmse_val</th>\n",
       "    </tr>\n",
       "  </thead>\n",
       "  <tbody>\n",
       "    <tr>\n",
       "      <th>0</th>\n",
       "      <td>0</td>\n",
       "      <td>0.517156</td>\n",
       "      <td>0.520653</td>\n",
       "    </tr>\n",
       "    <tr>\n",
       "      <th>1</th>\n",
       "      <td>1</td>\n",
       "      <td>0.514853</td>\n",
       "      <td>0.521339</td>\n",
       "    </tr>\n",
       "    <tr>\n",
       "      <th>2</th>\n",
       "      <td>2</td>\n",
       "      <td>0.520558</td>\n",
       "      <td>0.522807</td>\n",
       "    </tr>\n",
       "    <tr>\n",
       "      <th>3</th>\n",
       "      <td>3</td>\n",
       "      <td>0.519866</td>\n",
       "      <td>0.515952</td>\n",
       "    </tr>\n",
       "    <tr>\n",
       "      <th>4</th>\n",
       "      <td>4</td>\n",
       "      <td>0.517168</td>\n",
       "      <td>0.510913</td>\n",
       "    </tr>\n",
       "    <tr>\n",
       "      <th>5</th>\n",
       "      <td>5</td>\n",
       "      <td>0.519518</td>\n",
       "      <td>0.528341</td>\n",
       "    </tr>\n",
       "    <tr>\n",
       "      <th>6</th>\n",
       "      <td>6</td>\n",
       "      <td>0.512411</td>\n",
       "      <td>0.531391</td>\n",
       "    </tr>\n",
       "    <tr>\n",
       "      <th>7</th>\n",
       "      <td>7</td>\n",
       "      <td>0.524764</td>\n",
       "      <td>0.509067</td>\n",
       "    </tr>\n",
       "    <tr>\n",
       "      <th>8</th>\n",
       "      <td>8</td>\n",
       "      <td>0.524306</td>\n",
       "      <td>0.514740</td>\n",
       "    </tr>\n",
       "    <tr>\n",
       "      <th>9</th>\n",
       "      <td>9</td>\n",
       "      <td>0.521971</td>\n",
       "      <td>0.513187</td>\n",
       "    </tr>\n",
       "  </tbody>\n",
       "</table>\n",
       "</div>"
      ],
      "text/plain": [
       "   seed  rmse_train  rmse_val\n",
       "0     0    0.517156  0.520653\n",
       "1     1    0.514853  0.521339\n",
       "2     2    0.520558  0.522807\n",
       "3     3    0.519866  0.515952\n",
       "4     4    0.517168  0.510913\n",
       "5     5    0.519518  0.528341\n",
       "6     6    0.512411  0.531391\n",
       "7     7    0.524764  0.509067\n",
       "8     8    0.524306  0.514740\n",
       "9     9    0.521971  0.513187"
      ]
     },
     "execution_count": 65,
     "metadata": {},
     "output_type": "execute_result"
    }
   ],
   "source": []
  },
  {
   "cell_type": "code",
   "execution_count": null,
   "id": "e9fd791b-fdc1-4ca3-a74b-bd053a141bc0",
   "metadata": {},
   "outputs": [
    {
     "data": {
      "text/plain": [
       "array([0.52065313, 0.52133889, 0.522807  , 0.51595167, 0.51091295,\n",
       "       0.52834065, 0.53139107, 0.50906704, 0.51473991, 0.51318659])"
      ]
     },
     "execution_count": 66,
     "metadata": {},
     "output_type": "execute_result"
    }
   ],
   "source": []
  },
  {
   "cell_type": "code",
   "execution_count": null,
   "id": "7c8acb94-8a7f-4da9-8226-03af2ab71bd8",
   "metadata": {},
   "outputs": [
    {
     "data": {
      "text/plain": [
       "np.float64(0.007)"
      ]
     },
     "execution_count": 67,
     "metadata": {},
     "output_type": "execute_result"
    }
   ],
   "source": []
  },
  {
   "cell_type": "code",
   "execution_count": null,
   "id": "5e17644f-b68e-4b0a-bbbe-ab75246d8ef7",
   "metadata": {},
   "outputs": [
    {
     "data": {
      "text/plain": [
       "np.float64(0.006989446426433706)"
      ]
     },
     "execution_count": 68,
     "metadata": {},
     "output_type": "execute_result"
    }
   ],
   "source": []
  },
  {
   "cell_type": "markdown",
   "id": "796bcd2f-b8e3-4472-a363-aaf7c9c3c1f3",
   "metadata": {},
   "source": []
  },
  {
   "cell_type": "code",
   "execution_count": null,
   "id": "9eb300ef-4114-4cdc-b968-9e4f1bc376e5",
   "metadata": {},
   "outputs": [],
   "source": []
  },
  {
   "cell_type": "code",
   "execution_count": null,
   "id": "a8ce0a4b-7aa9-4c5e-b7dc-7e61002e5e0f",
   "metadata": {},
   "outputs": [],
   "source": []
  },
  {
   "cell_type": "code",
   "execution_count": null,
   "id": "f3dc7618-37bf-42e6-bfc5-27dc25099971",
   "metadata": {},
   "outputs": [
    {
     "name": "stdout",
     "output_type": "stream",
     "text": [
      "Entrenando modelo usando regularizacio r:0.001\n",
      "Aplicando fillna con valor 0...\n",
      "Entrenando modelo...\n",
      "Evaluando...\n",
      "RMSE train_val 0.5197448026201177\n",
      "RMSE test 0.5156261299169602\n",
      "...\n"
     ]
    }
   ],
   "source": []
  },
  {
   "cell_type": "code",
   "execution_count": null,
   "id": "49f382ef-82d6-4653-994f-cb30ec2f545b",
   "metadata": {},
   "outputs": [
    {
     "data": {
      "text/html": [
       "<div>\n",
       "<style scoped>\n",
       "    .dataframe tbody tr th:only-of-type {\n",
       "        vertical-align: middle;\n",
       "    }\n",
       "\n",
       "    .dataframe tbody tr th {\n",
       "        vertical-align: top;\n",
       "    }\n",
       "\n",
       "    .dataframe thead th {\n",
       "        text-align: right;\n",
       "    }\n",
       "</style>\n",
       "<table border=\"1\" class=\"dataframe\">\n",
       "  <thead>\n",
       "    <tr style=\"text-align: right;\">\n",
       "      <th></th>\n",
       "      <th>r</th>\n",
       "      <th>rmse_train_val</th>\n",
       "      <th>rmse_test</th>\n",
       "    </tr>\n",
       "  </thead>\n",
       "  <tbody>\n",
       "    <tr>\n",
       "      <th>0</th>\n",
       "      <td>0.001</td>\n",
       "      <td>0.519745</td>\n",
       "      <td>0.515626</td>\n",
       "    </tr>\n",
       "  </tbody>\n",
       "</table>\n",
       "</div>"
      ],
      "text/plain": [
       "       r  rmse_train_val  rmse_test\n",
       "0  0.001        0.519745   0.515626"
      ]
     },
     "execution_count": 72,
     "metadata": {},
     "output_type": "execute_result"
    }
   ],
   "source": []
  }
 ],
 "metadata": {
  "kernelspec": {
   "display_name": "Python 3 (ipykernel)",
   "language": "python",
   "name": "python3"
  },
  "language_info": {
   "codemirror_mode": {
    "name": "ipython",
    "version": 3
   },
   "file_extension": ".py",
   "mimetype": "text/x-python",
   "name": "python",
   "nbconvert_exporter": "python",
   "pygments_lexer": "ipython3",
   "version": "3.13.3"
  }
 },
 "nbformat": 4,
 "nbformat_minor": 5
}
