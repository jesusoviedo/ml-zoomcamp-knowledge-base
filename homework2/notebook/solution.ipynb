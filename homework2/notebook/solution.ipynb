{
 "cells": [
  {
   "cell_type": "markdown",
   "id": "e6b7235d",
   "metadata": {},
   "source": [
    "# Homework 2: Regresión en Machine Learning\n",
    "\n",
    "## Solución a las preguntas del homework\n",
    "\n",
    "En esta notebook se encuentran las respuestas a las preguntas del homework 2 del Machine Learning Zoomcamp 2025.\n",
    "\n",
    "### Datos utilizados\n",
    "Para este homework utilizaremos el dataset de automóviles que contiene información sobre diferentes características de vehículos."
   ]
  },
  {
   "cell_type": "code",
   "execution_count": 194,
   "id": "edeff58c",
   "metadata": {},
   "outputs": [
    {
     "name": "stdout",
     "output_type": "stream",
     "text": [
      "Librerías importadas correctamente\n",
      "Pandas version: 2.3.3\n",
      "NumPy version: 2.3.3\n",
      "Sklearn version: 1.7.2\n"
     ]
    }
   ],
   "source": [
    "# Importar librerías necesarias\n",
    "import pandas as pd\n",
    "import numpy as np\n",
    "import matplotlib.pyplot as plt\n",
    "import seaborn as sns\n",
    "import sklearn\n",
    "from sklearn.model_selection import train_test_split\n",
    "from sklearn.linear_model import LinearRegression, Ridge, Lasso\n",
    "from sklearn.metrics import mean_squared_error, mean_absolute_error, r2_score, root_mean_squared_error\n",
    "from sklearn.preprocessing import StandardScaler\n",
    "\n",
    "# Configurar estilo de gráficos\n",
    "plt.style.use('seaborn-v0_8')\n",
    "sns.set_palette(\"husl\")\n",
    "\n",
    "print(\"Librerías importadas correctamente\")\n",
    "print(f\"Pandas version: {pd.__version__}\")\n",
    "print(f\"NumPy version: {np.__version__}\")\n",
    "print(f\"Sklearn version: {sklearn.__version__}\")"
   ]
  },
  {
   "cell_type": "code",
   "execution_count": 8,
   "id": "1c68bd2d-1d9e-4724-a34b-25c89dede157",
   "metadata": {},
   "outputs": [
    {
     "name": "stdout",
     "output_type": "stream",
     "text": [
      "--2025-10-05 00:09:35--  https://raw.githubusercontent.com/alexeygrigorev/datasets/master/car_fuel_efficiency.csv\n",
      "Resolving raw.githubusercontent.com (raw.githubusercontent.com)... 185.199.110.133, 185.199.108.133, 185.199.109.133, ...\n",
      "Connecting to raw.githubusercontent.com (raw.githubusercontent.com)|185.199.110.133|:443... connected.\n",
      "HTTP request sent, awaiting response... 200 OK\n",
      "Length: 874188 (854K) [text/plain]\n",
      "Saving to: ‘car_fuel_efficiency.csv’\n",
      "\n",
      "car_fuel_efficiency 100%[===================>] 853.70K  --.-KB/s    in 0.09s   \n",
      "\n",
      "2025-10-05 00:09:36 (9.47 MB/s) - ‘car_fuel_efficiency.csv’ saved [874188/874188]\n",
      "\n"
     ]
    }
   ],
   "source": [
    "# Descargar el dataset de precios de automóviles\n",
    "!wget https://raw.githubusercontent.com/alexeygrigorev/datasets/master/car_fuel_efficiency.csv"
   ]
  },
  {
   "cell_type": "code",
   "execution_count": 9,
   "id": "756af9dc-66b2-45fd-a9cc-07f993d241b2",
   "metadata": {},
   "outputs": [],
   "source": [
    "!mv car_fuel_efficiency.csv ./data"
   ]
  },
  {
   "cell_type": "code",
   "execution_count": 10,
   "id": "996c71f6-182b-4015-be41-04c1091abaae",
   "metadata": {},
   "outputs": [
    {
     "name": "stdout",
     "output_type": "stream",
     "text": [
      "car_fuel_efficiency.csv\n"
     ]
    }
   ],
   "source": [
    "!ls data"
   ]
  },
  {
   "cell_type": "markdown",
   "id": "b9bde537-d772-4cbf-b8cf-cfc6fb17cd6b",
   "metadata": {},
   "source": [
    "### Cargar los datos"
   ]
  },
  {
   "cell_type": "code",
   "execution_count": 195,
   "id": "766a13ef",
   "metadata": {},
   "outputs": [
    {
     "name": "stdout",
     "output_type": "stream",
     "text": [
      "Forma del dataset: (9704, 11)\n"
     ]
    }
   ],
   "source": [
    "df_car = pd.read_csv('./data/car_fuel_efficiency.csv')\n",
    "print(f\"Forma del dataset: {df_car.shape}\")"
   ]
  },
  {
   "cell_type": "code",
   "execution_count": 196,
   "id": "67efd220-3784-4dc0-8147-2b9385450699",
   "metadata": {},
   "outputs": [
    {
     "name": "stdout",
     "output_type": "stream",
     "text": [
      "Columnas disponibles: ['engine_displacement', 'num_cylinders', 'horsepower', 'vehicle_weight', 'acceleration', 'model_year', 'origin', 'fuel_type', 'drivetrain', 'num_doors', 'fuel_efficiency_mpg']\n"
     ]
    }
   ],
   "source": [
    "print(f\"Columnas disponibles: {df_car.columns.tolist()}\")"
   ]
  },
  {
   "cell_type": "code",
   "execution_count": 197,
   "id": "f10f3b82-52a3-466e-9a51-0d37727aa970",
   "metadata": {},
   "outputs": [
    {
     "name": "stdout",
     "output_type": "stream",
     "text": [
      "Primeras 5 filas:\n"
     ]
    },
    {
     "data": {
      "text/html": [
       "<div>\n",
       "<style scoped>\n",
       "    .dataframe tbody tr th:only-of-type {\n",
       "        vertical-align: middle;\n",
       "    }\n",
       "\n",
       "    .dataframe tbody tr th {\n",
       "        vertical-align: top;\n",
       "    }\n",
       "\n",
       "    .dataframe thead th {\n",
       "        text-align: right;\n",
       "    }\n",
       "</style>\n",
       "<table border=\"1\" class=\"dataframe\">\n",
       "  <thead>\n",
       "    <tr style=\"text-align: right;\">\n",
       "      <th></th>\n",
       "      <th>engine_displacement</th>\n",
       "      <th>num_cylinders</th>\n",
       "      <th>horsepower</th>\n",
       "      <th>vehicle_weight</th>\n",
       "      <th>acceleration</th>\n",
       "      <th>model_year</th>\n",
       "      <th>origin</th>\n",
       "      <th>fuel_type</th>\n",
       "      <th>drivetrain</th>\n",
       "      <th>num_doors</th>\n",
       "      <th>fuel_efficiency_mpg</th>\n",
       "    </tr>\n",
       "  </thead>\n",
       "  <tbody>\n",
       "    <tr>\n",
       "      <th>0</th>\n",
       "      <td>170</td>\n",
       "      <td>3.0</td>\n",
       "      <td>159.0</td>\n",
       "      <td>3413.433759</td>\n",
       "      <td>17.7</td>\n",
       "      <td>2003</td>\n",
       "      <td>Europe</td>\n",
       "      <td>Gasoline</td>\n",
       "      <td>All-wheel drive</td>\n",
       "      <td>0.0</td>\n",
       "      <td>13.231729</td>\n",
       "    </tr>\n",
       "    <tr>\n",
       "      <th>1</th>\n",
       "      <td>130</td>\n",
       "      <td>5.0</td>\n",
       "      <td>97.0</td>\n",
       "      <td>3149.664934</td>\n",
       "      <td>17.8</td>\n",
       "      <td>2007</td>\n",
       "      <td>USA</td>\n",
       "      <td>Gasoline</td>\n",
       "      <td>Front-wheel drive</td>\n",
       "      <td>0.0</td>\n",
       "      <td>13.688217</td>\n",
       "    </tr>\n",
       "    <tr>\n",
       "      <th>2</th>\n",
       "      <td>170</td>\n",
       "      <td>NaN</td>\n",
       "      <td>78.0</td>\n",
       "      <td>3079.038997</td>\n",
       "      <td>15.1</td>\n",
       "      <td>2018</td>\n",
       "      <td>Europe</td>\n",
       "      <td>Gasoline</td>\n",
       "      <td>Front-wheel drive</td>\n",
       "      <td>0.0</td>\n",
       "      <td>14.246341</td>\n",
       "    </tr>\n",
       "    <tr>\n",
       "      <th>3</th>\n",
       "      <td>220</td>\n",
       "      <td>4.0</td>\n",
       "      <td>NaN</td>\n",
       "      <td>2542.392402</td>\n",
       "      <td>20.2</td>\n",
       "      <td>2009</td>\n",
       "      <td>USA</td>\n",
       "      <td>Diesel</td>\n",
       "      <td>All-wheel drive</td>\n",
       "      <td>2.0</td>\n",
       "      <td>16.912736</td>\n",
       "    </tr>\n",
       "    <tr>\n",
       "      <th>4</th>\n",
       "      <td>210</td>\n",
       "      <td>1.0</td>\n",
       "      <td>140.0</td>\n",
       "      <td>3460.870990</td>\n",
       "      <td>14.4</td>\n",
       "      <td>2009</td>\n",
       "      <td>Europe</td>\n",
       "      <td>Gasoline</td>\n",
       "      <td>All-wheel drive</td>\n",
       "      <td>2.0</td>\n",
       "      <td>12.488369</td>\n",
       "    </tr>\n",
       "  </tbody>\n",
       "</table>\n",
       "</div>"
      ],
      "text/plain": [
       "   engine_displacement  num_cylinders  horsepower  vehicle_weight  \\\n",
       "0                  170            3.0       159.0     3413.433759   \n",
       "1                  130            5.0        97.0     3149.664934   \n",
       "2                  170            NaN        78.0     3079.038997   \n",
       "3                  220            4.0         NaN     2542.392402   \n",
       "4                  210            1.0       140.0     3460.870990   \n",
       "\n",
       "   acceleration  model_year  origin fuel_type         drivetrain  num_doors  \\\n",
       "0          17.7        2003  Europe  Gasoline    All-wheel drive        0.0   \n",
       "1          17.8        2007     USA  Gasoline  Front-wheel drive        0.0   \n",
       "2          15.1        2018  Europe  Gasoline  Front-wheel drive        0.0   \n",
       "3          20.2        2009     USA    Diesel    All-wheel drive        2.0   \n",
       "4          14.4        2009  Europe  Gasoline    All-wheel drive        2.0   \n",
       "\n",
       "   fuel_efficiency_mpg  \n",
       "0            13.231729  \n",
       "1            13.688217  \n",
       "2            14.246341  \n",
       "3            16.912736  \n",
       "4            12.488369  "
      ]
     },
     "execution_count": 197,
     "metadata": {},
     "output_type": "execute_result"
    }
   ],
   "source": [
    "print(f\"Primeras 5 filas:\")\n",
    "df_car.head()"
   ]
  },
  {
   "cell_type": "code",
   "execution_count": 198,
   "id": "b0a1b684-a062-48ba-af87-c56e1911d835",
   "metadata": {},
   "outputs": [
    {
     "data": {
      "text/html": [
       "<div>\n",
       "<style scoped>\n",
       "    .dataframe tbody tr th:only-of-type {\n",
       "        vertical-align: middle;\n",
       "    }\n",
       "\n",
       "    .dataframe tbody tr th {\n",
       "        vertical-align: top;\n",
       "    }\n",
       "\n",
       "    .dataframe thead th {\n",
       "        text-align: right;\n",
       "    }\n",
       "</style>\n",
       "<table border=\"1\" class=\"dataframe\">\n",
       "  <thead>\n",
       "    <tr style=\"text-align: right;\">\n",
       "      <th></th>\n",
       "      <th>engine_displacement</th>\n",
       "      <th>horsepower</th>\n",
       "      <th>vehicle_weight</th>\n",
       "      <th>model_year</th>\n",
       "      <th>fuel_efficiency_mpg</th>\n",
       "    </tr>\n",
       "  </thead>\n",
       "  <tbody>\n",
       "    <tr>\n",
       "      <th>0</th>\n",
       "      <td>170</td>\n",
       "      <td>159.0</td>\n",
       "      <td>3413.433759</td>\n",
       "      <td>2003</td>\n",
       "      <td>13.231729</td>\n",
       "    </tr>\n",
       "    <tr>\n",
       "      <th>1</th>\n",
       "      <td>130</td>\n",
       "      <td>97.0</td>\n",
       "      <td>3149.664934</td>\n",
       "      <td>2007</td>\n",
       "      <td>13.688217</td>\n",
       "    </tr>\n",
       "    <tr>\n",
       "      <th>2</th>\n",
       "      <td>170</td>\n",
       "      <td>78.0</td>\n",
       "      <td>3079.038997</td>\n",
       "      <td>2018</td>\n",
       "      <td>14.246341</td>\n",
       "    </tr>\n",
       "    <tr>\n",
       "      <th>3</th>\n",
       "      <td>220</td>\n",
       "      <td>NaN</td>\n",
       "      <td>2542.392402</td>\n",
       "      <td>2009</td>\n",
       "      <td>16.912736</td>\n",
       "    </tr>\n",
       "    <tr>\n",
       "      <th>4</th>\n",
       "      <td>210</td>\n",
       "      <td>140.0</td>\n",
       "      <td>3460.870990</td>\n",
       "      <td>2009</td>\n",
       "      <td>12.488369</td>\n",
       "    </tr>\n",
       "  </tbody>\n",
       "</table>\n",
       "</div>"
      ],
      "text/plain": [
       "   engine_displacement  horsepower  vehicle_weight  model_year  \\\n",
       "0                  170       159.0     3413.433759        2003   \n",
       "1                  130        97.0     3149.664934        2007   \n",
       "2                  170        78.0     3079.038997        2018   \n",
       "3                  220         NaN     2542.392402        2009   \n",
       "4                  210       140.0     3460.870990        2009   \n",
       "\n",
       "   fuel_efficiency_mpg  \n",
       "0            13.231729  \n",
       "1            13.688217  \n",
       "2            14.246341  \n",
       "3            16.912736  \n",
       "4            12.488369  "
      ]
     },
     "execution_count": 198,
     "metadata": {},
     "output_type": "execute_result"
    }
   ],
   "source": [
    "df_car = df_car[['engine_displacement', 'horsepower', 'vehicle_weight', 'model_year', 'fuel_efficiency_mpg']]\n",
    "df_car.head()"
   ]
  },
  {
   "cell_type": "markdown",
   "id": "16416a4a",
   "metadata": {},
   "source": [
    "## Exploración de Datos (EDA)\n",
    "\n",
    "Vamos a explorar el dataset para entender las características de los datos.\n"
   ]
  },
  {
   "cell_type": "code",
   "execution_count": 199,
   "id": "29b17381",
   "metadata": {
    "scrolled": true
   },
   "outputs": [
    {
     "name": "stdout",
     "output_type": "stream",
     "text": [
      "INFORMACIÓN BÁSICA DEL DATASET\n",
      "==================================================\n",
      "Número de registros: 9,704\n",
      "Número de características: 5\n",
      "Memoria utilizada: 0.37 MB\n",
      "\n",
      "TIPOS DE DATOS\n",
      "==============================\n",
      "float64    3\n",
      "int64      2\n",
      "Name: count, dtype: int64\n"
     ]
    }
   ],
   "source": [
    "# Información básica del dataset\n",
    "print(\"INFORMACIÓN BÁSICA DEL DATASET\")\n",
    "print(\"=\" * 50)\n",
    "print(f\"Número de registros: {len(df_car):,}\")\n",
    "print(f\"Número de características: {df_car.shape[1]}\")\n",
    "print(f\"Memoria utilizada: {df_car.memory_usage(deep=True).sum() / 1024**2:.2f} MB\")\n",
    "\n",
    "print(\"\\nTIPOS DE DATOS\")\n",
    "print(\"=\" * 30)\n",
    "print(df_car.dtypes.value_counts())"
   ]
  },
  {
   "cell_type": "markdown",
   "id": "a8789a39-8686-4e23-b198-d82ad504b7e0",
   "metadata": {},
   "source": [
    "## Q1. Columna con valores faltante\n",
    "\n",
    "**Pregunta:** Hay una columna con valores faltantes. ¿Cuál es?\n",
    "\n",
    "**Respuesta:**"
   ]
  },
  {
   "cell_type": "code",
   "execution_count": 200,
   "id": "8a16d8d8-c8ef-44bf-9208-1c5f60b40ed4",
   "metadata": {},
   "outputs": [
    {
     "name": "stdout",
     "output_type": "stream",
     "text": [
      "\n",
      "VALORES FALTANTES\n",
      "=========================\n",
      "            Valores Faltantes  Porcentaje\n",
      "horsepower                708     7.29596\n"
     ]
    }
   ],
   "source": [
    "print(\"\\nVALORES FALTANTES\")\n",
    "print(\"=\" * 25)\n",
    "missing_values = df_car.isnull().sum()\n",
    "missing_pct = (missing_values / len(df_car)) * 100\n",
    "missing_df = pd.DataFrame({\n",
    "    'Valores Faltantes': missing_values,\n",
    "    'Porcentaje': missing_pct\n",
    "}).sort_values('Valores Faltantes', ascending=False)\n",
    "print(missing_df[missing_df['Valores Faltantes'] > 0])"
   ]
  },
  {
   "cell_type": "markdown",
   "id": "2fbc6318-441a-4170-aaf5-35ca51358b25",
   "metadata": {},
   "source": [
    "## Q2. Mediana de 'horsepower'\n",
    "\n",
    "**Pregunta:** ¿Cuál es la mediana (percentil 50%) de la variable 'horsepower'?\n",
    "\n",
    "**Respuesta:**"
   ]
  },
  {
   "cell_type": "code",
   "execution_count": 201,
   "id": "3a46b7cd-c7cd-4384-bb46-cb5e2e8d1f61",
   "metadata": {},
   "outputs": [
    {
     "data": {
      "text/plain": [
       "count    8996.000000\n",
       "mean      149.657292\n",
       "std        29.879555\n",
       "min        37.000000\n",
       "25%       130.000000\n",
       "50%       149.000000\n",
       "75%       170.000000\n",
       "max       271.000000\n",
       "Name: horsepower, dtype: float64"
      ]
     },
     "execution_count": 201,
     "metadata": {},
     "output_type": "execute_result"
    }
   ],
   "source": [
    "df_car['horsepower'].describe()"
   ]
  },
  {
   "cell_type": "code",
   "execution_count": 202,
   "id": "afddaf8a-3773-49e0-a9e4-21b5abd39e1c",
   "metadata": {},
   "outputs": [
    {
     "data": {
      "text/plain": [
       "np.float64(149.0)"
      ]
     },
     "execution_count": 202,
     "metadata": {},
     "output_type": "execute_result"
    }
   ],
   "source": [
    "median_horsepower = df_car['horsepower'].median()\n",
    "median_horsepower"
   ]
  },
  {
   "cell_type": "code",
   "execution_count": 203,
   "id": "1f3b08f9-016a-49ea-b5c7-dd358935b839",
   "metadata": {},
   "outputs": [
    {
     "data": {
      "text/plain": [
       "np.float64(149.0)"
      ]
     },
     "execution_count": 203,
     "metadata": {},
     "output_type": "execute_result"
    }
   ],
   "source": [
    "p50_horsepower = df_car['horsepower'].quantile(0.5)\n",
    "p50_horsepower"
   ]
  },
  {
   "cell_type": "code",
   "execution_count": 204,
   "id": "a5423dca-2626-4163-8df8-dee489e4b4fd",
   "metadata": {},
   "outputs": [
    {
     "name": "stdout",
     "output_type": "stream",
     "text": [
      "Percentil 50% (mediana): 149.0\n"
     ]
    }
   ],
   "source": [
    "print(\"Percentil 50% (mediana):\", p50_horsepower)"
   ]
  },
  {
   "cell_type": "code",
   "execution_count": 205,
   "id": "86e45b35",
   "metadata": {},
   "outputs": [
    {
     "name": "stdout",
     "output_type": "stream",
     "text": [
      "ANÁLISIS DE LA VARIABLE OBJETIVO (fuel_efficiency_mpg)\n",
      "==================================================\n",
      "Promedio de la Distribución de la Eficiencia: 14.99\n",
      "Mediana de la Distribución de la Eficiencia: 15.01\n",
      "Mínimo de la Distribución de la Eficiencia: 6.20\n",
      "Máximo de la Distribución de la Eficiencia: 25.97\n",
      "Desviación estándar: 2.56\n"
     ]
    }
   ],
   "source": [
    "# Análisis de la variable objetivo (fuel_efficiency_mpg)\n",
    "print(\"ANÁLISIS DE LA VARIABLE OBJETIVO (fuel_efficiency_mpg)\")\n",
    "print(\"=\" * 50)\n",
    "\n",
    "fuel_efficiency_mpg_stats = df_car['fuel_efficiency_mpg'].describe()\n",
    "print(f\"Promedio de la Distribución de la Eficiencia: {fuel_efficiency_mpg_stats['mean']:,.2f}\")\n",
    "print(f\"Mediana de la Distribución de la Eficiencia: {fuel_efficiency_mpg_stats['50%']:,.2f}\")\n",
    "print(f\"Mínimo de la Distribución de la Eficiencia: {fuel_efficiency_mpg_stats['min']:,.2f}\")\n",
    "print(f\"Máximo de la Distribución de la Eficiencia: {fuel_efficiency_mpg_stats['max']:,.2f}\")\n",
    "print(f\"Desviación estándar: {fuel_efficiency_mpg_stats['std']:,.2f}\")"
   ]
  },
  {
   "cell_type": "code",
   "execution_count": 345,
   "id": "5ca97a04-c6f9-466f-8acc-b3b302392a3e",
   "metadata": {
    "scrolled": true
   },
   "outputs": [
    {
     "data": {
      "image/png": "[encoded data removed]",
      "text/plain": [
       "<Figure size 1500x500 with 2 Axes>"
      ]
     },
     "metadata": {},
     "output_type": "display_data"
    }
   ],
   "source": [
    "# Datos\n",
    "data = df_car['fuel_efficiency_mpg'].dropna()\n",
    "\n",
    "fig, axes = plt.subplots(1, 2, figsize=(15, 5))\n",
    "\n",
    "# Histograma con curva tipo campana\n",
    "axes[0].hist(data, bins=50, alpha=0.7, color='skyblue', edgecolor='black', density=True)\n",
    "# Curva de densidad normal aproximada\n",
    "media = np.mean(data)\n",
    "std = np.std(data)\n",
    "x = np.linspace(data.min(), data.max(), 1000)\n",
    "y = norm.pdf(x, media, std)\n",
    "axes[0].plot(x, y, color='red', lw=2, label='Curva campana')\n",
    "axes[0].set_title('Distribución de la Eficiencia Combustible')\n",
    "axes[0].set_xlabel('Eficiencia Combustible (millas por galón)')\n",
    "axes[0].set_ylabel('Densidad')\n",
    "axes[0].legend()\n",
    "axes[0].grid(True, alpha=0.3)\n",
    "\n",
    "# Boxplot\n",
    "axes[1].boxplot(data)\n",
    "axes[1].set_title('Boxplot de la Eficiencia Combustible')\n",
    "axes[1].set_ylabel('Eficiencia Combustible (millas por galón)')\n",
    "axes[1].grid(True, alpha=0.3)\n",
    "\n",
    "plt.tight_layout()\n",
    "plt.show()"
   ]
  },
  {
   "cell_type": "markdown",
   "id": "54a780f0-96e5-4172-b4dc-8d7b7839875d",
   "metadata": {},
   "source": [
    "**engine_displacement**"
   ]
  },
  {
   "cell_type": "code",
   "execution_count": 324,
   "id": "ad18bf5a-196a-47cd-8e80-871a46913a15",
   "metadata": {
    "scrolled": true
   },
   "outputs": [
    {
     "data": {
      "text/plain": [
       "count    9704.000000\n",
       "mean      199.708368\n",
       "std        49.455319\n",
       "min        10.000000\n",
       "25%       170.000000\n",
       "50%       200.000000\n",
       "75%       230.000000\n",
       "max       380.000000\n",
       "Name: engine_displacement, dtype: float64"
      ]
     },
     "execution_count": 324,
     "metadata": {},
     "output_type": "execute_result"
    }
   ],
   "source": [
    "df_car['engine_displacement'].describe()"
   ]
  },
  {
   "cell_type": "code",
   "execution_count": 328,
   "id": "3d7b8479-453d-4a5d-adcc-c7d3b586483d",
   "metadata": {},
   "outputs": [
    {
     "data": {
      "text/html": [
       "<div>\n",
       "<style scoped>\n",
       "    .dataframe tbody tr th:only-of-type {\n",
       "        vertical-align: middle;\n",
       "    }\n",
       "\n",
       "    .dataframe tbody tr th {\n",
       "        vertical-align: top;\n",
       "    }\n",
       "\n",
       "    .dataframe thead th {\n",
       "        text-align: right;\n",
       "    }\n",
       "</style>\n",
       "<table border=\"1\" class=\"dataframe\">\n",
       "  <thead>\n",
       "    <tr style=\"text-align: right;\">\n",
       "      <th></th>\n",
       "      <th>engine_displacement</th>\n",
       "      <th>count</th>\n",
       "    </tr>\n",
       "  </thead>\n",
       "  <tbody>\n",
       "    <tr>\n",
       "      <th>0</th>\n",
       "      <td>190</td>\n",
       "      <td>816</td>\n",
       "    </tr>\n",
       "    <tr>\n",
       "      <th>1</th>\n",
       "      <td>200</td>\n",
       "      <td>805</td>\n",
       "    </tr>\n",
       "    <tr>\n",
       "      <th>2</th>\n",
       "      <td>210</td>\n",
       "      <td>770</td>\n",
       "    </tr>\n",
       "    <tr>\n",
       "      <th>3</th>\n",
       "      <td>220</td>\n",
       "      <td>729</td>\n",
       "    </tr>\n",
       "    <tr>\n",
       "      <th>4</th>\n",
       "      <td>180</td>\n",
       "      <td>719</td>\n",
       "    </tr>\n",
       "    <tr>\n",
       "      <th>5</th>\n",
       "      <td>170</td>\n",
       "      <td>662</td>\n",
       "    </tr>\n",
       "    <tr>\n",
       "      <th>6</th>\n",
       "      <td>230</td>\n",
       "      <td>617</td>\n",
       "    </tr>\n",
       "    <tr>\n",
       "      <th>7</th>\n",
       "      <td>160</td>\n",
       "      <td>559</td>\n",
       "    </tr>\n",
       "    <tr>\n",
       "      <th>8</th>\n",
       "      <td>240</td>\n",
       "      <td>550</td>\n",
       "    </tr>\n",
       "    <tr>\n",
       "      <th>9</th>\n",
       "      <td>250</td>\n",
       "      <td>463</td>\n",
       "    </tr>\n",
       "    <tr>\n",
       "      <th>10</th>\n",
       "      <td>150</td>\n",
       "      <td>438</td>\n",
       "    </tr>\n",
       "    <tr>\n",
       "      <th>11</th>\n",
       "      <td>140</td>\n",
       "      <td>384</td>\n",
       "    </tr>\n",
       "    <tr>\n",
       "      <th>12</th>\n",
       "      <td>260</td>\n",
       "      <td>339</td>\n",
       "    </tr>\n",
       "    <tr>\n",
       "      <th>13</th>\n",
       "      <td>270</td>\n",
       "      <td>296</td>\n",
       "    </tr>\n",
       "    <tr>\n",
       "      <th>14</th>\n",
       "      <td>130</td>\n",
       "      <td>290</td>\n",
       "    </tr>\n",
       "    <tr>\n",
       "      <th>15</th>\n",
       "      <td>280</td>\n",
       "      <td>218</td>\n",
       "    </tr>\n",
       "    <tr>\n",
       "      <th>16</th>\n",
       "      <td>120</td>\n",
       "      <td>217</td>\n",
       "    </tr>\n",
       "    <tr>\n",
       "      <th>17</th>\n",
       "      <td>110</td>\n",
       "      <td>173</td>\n",
       "    </tr>\n",
       "    <tr>\n",
       "      <th>18</th>\n",
       "      <td>290</td>\n",
       "      <td>146</td>\n",
       "    </tr>\n",
       "    <tr>\n",
       "      <th>19</th>\n",
       "      <td>300</td>\n",
       "      <td>108</td>\n",
       "    </tr>\n",
       "    <tr>\n",
       "      <th>20</th>\n",
       "      <td>100</td>\n",
       "      <td>79</td>\n",
       "    </tr>\n",
       "    <tr>\n",
       "      <th>21</th>\n",
       "      <td>310</td>\n",
       "      <td>77</td>\n",
       "    </tr>\n",
       "    <tr>\n",
       "      <th>22</th>\n",
       "      <td>90</td>\n",
       "      <td>53</td>\n",
       "    </tr>\n",
       "    <tr>\n",
       "      <th>23</th>\n",
       "      <td>80</td>\n",
       "      <td>43</td>\n",
       "    </tr>\n",
       "    <tr>\n",
       "      <th>24</th>\n",
       "      <td>320</td>\n",
       "      <td>33</td>\n",
       "    </tr>\n",
       "    <tr>\n",
       "      <th>25</th>\n",
       "      <td>330</td>\n",
       "      <td>27</td>\n",
       "    </tr>\n",
       "    <tr>\n",
       "      <th>26</th>\n",
       "      <td>70</td>\n",
       "      <td>25</td>\n",
       "    </tr>\n",
       "    <tr>\n",
       "      <th>27</th>\n",
       "      <td>60</td>\n",
       "      <td>19</td>\n",
       "    </tr>\n",
       "    <tr>\n",
       "      <th>28</th>\n",
       "      <td>350</td>\n",
       "      <td>11</td>\n",
       "    </tr>\n",
       "    <tr>\n",
       "      <th>29</th>\n",
       "      <td>340</td>\n",
       "      <td>10</td>\n",
       "    </tr>\n",
       "    <tr>\n",
       "      <th>30</th>\n",
       "      <td>50</td>\n",
       "      <td>9</td>\n",
       "    </tr>\n",
       "    <tr>\n",
       "      <th>31</th>\n",
       "      <td>40</td>\n",
       "      <td>7</td>\n",
       "    </tr>\n",
       "    <tr>\n",
       "      <th>32</th>\n",
       "      <td>30</td>\n",
       "      <td>5</td>\n",
       "    </tr>\n",
       "    <tr>\n",
       "      <th>33</th>\n",
       "      <td>370</td>\n",
       "      <td>4</td>\n",
       "    </tr>\n",
       "    <tr>\n",
       "      <th>34</th>\n",
       "      <td>380</td>\n",
       "      <td>2</td>\n",
       "    </tr>\n",
       "    <tr>\n",
       "      <th>35</th>\n",
       "      <td>10</td>\n",
       "      <td>1</td>\n",
       "    </tr>\n",
       "  </tbody>\n",
       "</table>\n",
       "</div>"
      ],
      "text/plain": [
       "    engine_displacement  count\n",
       "0                   190    816\n",
       "1                   200    805\n",
       "2                   210    770\n",
       "3                   220    729\n",
       "4                   180    719\n",
       "5                   170    662\n",
       "6                   230    617\n",
       "7                   160    559\n",
       "8                   240    550\n",
       "9                   250    463\n",
       "10                  150    438\n",
       "11                  140    384\n",
       "12                  260    339\n",
       "13                  270    296\n",
       "14                  130    290\n",
       "15                  280    218\n",
       "16                  120    217\n",
       "17                  110    173\n",
       "18                  290    146\n",
       "19                  300    108\n",
       "20                  100     79\n",
       "21                  310     77\n",
       "22                   90     53\n",
       "23                   80     43\n",
       "24                  320     33\n",
       "25                  330     27\n",
       "26                   70     25\n",
       "27                   60     19\n",
       "28                  350     11\n",
       "29                  340     10\n",
       "30                   50      9\n",
       "31                   40      7\n",
       "32                   30      5\n",
       "33                  370      4\n",
       "34                  380      2\n",
       "35                   10      1"
      ]
     },
     "execution_count": 328,
     "metadata": {},
     "output_type": "execute_result"
    }
   ],
   "source": [
    "df_car['engine_displacement'].value_counts().reset_index(name='count').rename(columns={'index': 'engine_displacement'})"
   ]
  },
  {
   "cell_type": "code",
   "execution_count": 329,
   "id": "ebb22078-36b7-4b4d-9d51-acdecb6b71d7",
   "metadata": {},
   "outputs": [
    {
     "data": {
      "image/png": "[encoded data removed]",
      "text/plain": [
       "<Figure size 800x550 with 1 Axes>"
      ]
     },
     "metadata": {},
     "output_type": "display_data"
    }
   ],
   "source": [
    "counts = df_car['engine_displacement'].value_counts().sort_index()\n",
    "\n",
    "# Gráfico de burbujas\n",
    "plt.scatter(\n",
    "    counts.index, \n",
    "    [1]*len(counts),                 # todos en la misma fila (para simular burbujas)\n",
    "    s=counts.values*10,              # tamaño proporcional a la frecuencia\n",
    "    alpha=0.5\n",
    ")\n",
    "\n",
    "plt.yticks([])  # ocultar eje Y\n",
    "plt.xlabel(\"Engine Displacement\")\n",
    "plt.title(\"Distribución de Engine Displacement (burbujas)\")\n",
    "plt.show()"
   ]
  },
  {
   "cell_type": "markdown",
   "id": "41162904-444e-4966-8326-57d2afa770d6",
   "metadata": {},
   "source": [
    "**vehicle_weight**"
   ]
  },
  {
   "cell_type": "code",
   "execution_count": 330,
   "id": "2630390d-153f-4657-b05c-fb19d652356c",
   "metadata": {},
   "outputs": [
    {
     "data": {
      "text/plain": [
       "count    9704.000000\n",
       "mean     3001.280993\n",
       "std       497.894860\n",
       "min       952.681761\n",
       "25%      2666.248985\n",
       "50%      2993.226296\n",
       "75%      3334.957039\n",
       "max      4739.077089\n",
       "Name: vehicle_weight, dtype: float64"
      ]
     },
     "execution_count": 330,
     "metadata": {},
     "output_type": "execute_result"
    }
   ],
   "source": [
    "df_car['vehicle_weight'].describe()"
   ]
  },
  {
   "cell_type": "code",
   "execution_count": 331,
   "id": "5b57d2ce-8a86-4ed1-815f-561209b76238",
   "metadata": {},
   "outputs": [
    {
     "data": {
      "text/html": [
       "<div>\n",
       "<style scoped>\n",
       "    .dataframe tbody tr th:only-of-type {\n",
       "        vertical-align: middle;\n",
       "    }\n",
       "\n",
       "    .dataframe tbody tr th {\n",
       "        vertical-align: top;\n",
       "    }\n",
       "\n",
       "    .dataframe thead th {\n",
       "        text-align: right;\n",
       "    }\n",
       "</style>\n",
       "<table border=\"1\" class=\"dataframe\">\n",
       "  <thead>\n",
       "    <tr style=\"text-align: right;\">\n",
       "      <th></th>\n",
       "      <th>vehicle_weight</th>\n",
       "      <th>count</th>\n",
       "    </tr>\n",
       "  </thead>\n",
       "  <tbody>\n",
       "    <tr>\n",
       "      <th>0</th>\n",
       "      <td>3413.433759</td>\n",
       "      <td>1</td>\n",
       "    </tr>\n",
       "    <tr>\n",
       "      <th>1</th>\n",
       "      <td>3149.664934</td>\n",
       "      <td>1</td>\n",
       "    </tr>\n",
       "    <tr>\n",
       "      <th>2</th>\n",
       "      <td>3079.038997</td>\n",
       "      <td>1</td>\n",
       "    </tr>\n",
       "    <tr>\n",
       "      <th>3</th>\n",
       "      <td>2542.392402</td>\n",
       "      <td>1</td>\n",
       "    </tr>\n",
       "    <tr>\n",
       "      <th>4</th>\n",
       "      <td>3460.870990</td>\n",
       "      <td>1</td>\n",
       "    </tr>\n",
       "    <tr>\n",
       "      <th>...</th>\n",
       "      <td>...</td>\n",
       "      <td>...</td>\n",
       "    </tr>\n",
       "    <tr>\n",
       "      <th>9699</th>\n",
       "      <td>2981.107371</td>\n",
       "      <td>1</td>\n",
       "    </tr>\n",
       "    <tr>\n",
       "      <th>9700</th>\n",
       "      <td>2439.525729</td>\n",
       "      <td>1</td>\n",
       "    </tr>\n",
       "    <tr>\n",
       "      <th>9701</th>\n",
       "      <td>2583.471318</td>\n",
       "      <td>1</td>\n",
       "    </tr>\n",
       "    <tr>\n",
       "      <th>9702</th>\n",
       "      <td>2905.527390</td>\n",
       "      <td>1</td>\n",
       "    </tr>\n",
       "    <tr>\n",
       "      <th>9703</th>\n",
       "      <td>2908.043477</td>\n",
       "      <td>1</td>\n",
       "    </tr>\n",
       "  </tbody>\n",
       "</table>\n",
       "<p>9704 rows × 2 columns</p>\n",
       "</div>"
      ],
      "text/plain": [
       "      vehicle_weight  count\n",
       "0        3413.433759      1\n",
       "1        3149.664934      1\n",
       "2        3079.038997      1\n",
       "3        2542.392402      1\n",
       "4        3460.870990      1\n",
       "...              ...    ...\n",
       "9699     2981.107371      1\n",
       "9700     2439.525729      1\n",
       "9701     2583.471318      1\n",
       "9702     2905.527390      1\n",
       "9703     2908.043477      1\n",
       "\n",
       "[9704 rows x 2 columns]"
      ]
     },
     "execution_count": 331,
     "metadata": {},
     "output_type": "execute_result"
    }
   ],
   "source": [
    "df_car['vehicle_weight'].value_counts().reset_index(name='count').rename(columns={'index': 'vehicle_weight'})"
   ]
  },
  {
   "cell_type": "code",
   "execution_count": 332,
   "id": "9fbfa6e9-4c67-49df-b06c-186c0401c634",
   "metadata": {},
   "outputs": [
    {
     "data": {
      "image/png": "[encoded data removed]",
      "text/plain": [
       "<Figure size 800x550 with 1 Axes>"
      ]
     },
     "metadata": {},
     "output_type": "display_data"
    }
   ],
   "source": [
    "counts = df_car['vehicle_weight'].value_counts().sort_index()\n",
    "\n",
    "# Gráfico de burbujas\n",
    "plt.scatter(\n",
    "    counts.index, \n",
    "    [1]*len(counts),                 # todos en la misma fila (para simular burbujas)\n",
    "    s=counts.values*10,              # tamaño proporcional a la frecuencia\n",
    "    alpha=0.5\n",
    ")\n",
    "\n",
    "plt.yticks([])  # ocultar eje Y\n",
    "plt.xlabel(\"Vehicle Weight\")\n",
    "plt.title(\"Distribución de Vehicle Weight (burbujas)\")\n",
    "plt.show()"
   ]
  },
  {
   "cell_type": "markdown",
   "id": "40600d06-7dca-4e7f-a6ab-83a5b1f6bef6",
   "metadata": {},
   "source": [
    "**model_year**"
   ]
  },
  {
   "cell_type": "code",
   "execution_count": 333,
   "id": "8d20e187-5fcf-44a4-93e3-63f190e1109b",
   "metadata": {},
   "outputs": [
    {
     "data": {
      "text/plain": [
       "count    9704.000000\n",
       "mean     2011.484027\n",
       "std         6.659808\n",
       "min      2000.000000\n",
       "25%      2006.000000\n",
       "50%      2012.000000\n",
       "75%      2017.000000\n",
       "max      2023.000000\n",
       "Name: model_year, dtype: float64"
      ]
     },
     "execution_count": 333,
     "metadata": {},
     "output_type": "execute_result"
    }
   ],
   "source": [
    "df_car['model_year'].describe()"
   ]
  },
  {
   "cell_type": "code",
   "execution_count": 334,
   "id": "440892d3-afa8-4d5f-964c-d7d4b2f7cf72",
   "metadata": {},
   "outputs": [
    {
     "data": {
      "text/html": [
       "<div>\n",
       "<style scoped>\n",
       "    .dataframe tbody tr th:only-of-type {\n",
       "        vertical-align: middle;\n",
       "    }\n",
       "\n",
       "    .dataframe tbody tr th {\n",
       "        vertical-align: top;\n",
       "    }\n",
       "\n",
       "    .dataframe thead th {\n",
       "        text-align: right;\n",
       "    }\n",
       "</style>\n",
       "<table border=\"1\" class=\"dataframe\">\n",
       "  <thead>\n",
       "    <tr style=\"text-align: right;\">\n",
       "      <th></th>\n",
       "      <th>model_year</th>\n",
       "      <th>count</th>\n",
       "    </tr>\n",
       "  </thead>\n",
       "  <tbody>\n",
       "    <tr>\n",
       "      <th>0</th>\n",
       "      <td>2003</td>\n",
       "      <td>447</td>\n",
       "    </tr>\n",
       "    <tr>\n",
       "      <th>1</th>\n",
       "      <td>2002</td>\n",
       "      <td>446</td>\n",
       "    </tr>\n",
       "    <tr>\n",
       "      <th>2</th>\n",
       "      <td>2018</td>\n",
       "      <td>443</td>\n",
       "    </tr>\n",
       "    <tr>\n",
       "      <th>3</th>\n",
       "      <td>2004</td>\n",
       "      <td>440</td>\n",
       "    </tr>\n",
       "    <tr>\n",
       "      <th>4</th>\n",
       "      <td>2021</td>\n",
       "      <td>438</td>\n",
       "    </tr>\n",
       "    <tr>\n",
       "      <th>5</th>\n",
       "      <td>2015</td>\n",
       "      <td>435</td>\n",
       "    </tr>\n",
       "    <tr>\n",
       "      <th>6</th>\n",
       "      <td>2006</td>\n",
       "      <td>431</td>\n",
       "    </tr>\n",
       "    <tr>\n",
       "      <th>7</th>\n",
       "      <td>2010</td>\n",
       "      <td>428</td>\n",
       "    </tr>\n",
       "    <tr>\n",
       "      <th>8</th>\n",
       "      <td>2014</td>\n",
       "      <td>427</td>\n",
       "    </tr>\n",
       "    <tr>\n",
       "      <th>9</th>\n",
       "      <td>2005</td>\n",
       "      <td>427</td>\n",
       "    </tr>\n",
       "    <tr>\n",
       "      <th>10</th>\n",
       "      <td>2012</td>\n",
       "      <td>426</td>\n",
       "    </tr>\n",
       "    <tr>\n",
       "      <th>11</th>\n",
       "      <td>2016</td>\n",
       "      <td>424</td>\n",
       "    </tr>\n",
       "    <tr>\n",
       "      <th>12</th>\n",
       "      <td>2013</td>\n",
       "      <td>420</td>\n",
       "    </tr>\n",
       "    <tr>\n",
       "      <th>13</th>\n",
       "      <td>2019</td>\n",
       "      <td>420</td>\n",
       "    </tr>\n",
       "    <tr>\n",
       "      <th>14</th>\n",
       "      <td>2022</td>\n",
       "      <td>419</td>\n",
       "    </tr>\n",
       "    <tr>\n",
       "      <th>15</th>\n",
       "      <td>2008</td>\n",
       "      <td>415</td>\n",
       "    </tr>\n",
       "    <tr>\n",
       "      <th>16</th>\n",
       "      <td>2007</td>\n",
       "      <td>410</td>\n",
       "    </tr>\n",
       "    <tr>\n",
       "      <th>17</th>\n",
       "      <td>2011</td>\n",
       "      <td>404</td>\n",
       "    </tr>\n",
       "    <tr>\n",
       "      <th>18</th>\n",
       "      <td>2009</td>\n",
       "      <td>403</td>\n",
       "    </tr>\n",
       "    <tr>\n",
       "      <th>19</th>\n",
       "      <td>2020</td>\n",
       "      <td>400</td>\n",
       "    </tr>\n",
       "    <tr>\n",
       "      <th>20</th>\n",
       "      <td>2017</td>\n",
       "      <td>391</td>\n",
       "    </tr>\n",
       "    <tr>\n",
       "      <th>21</th>\n",
       "      <td>2001</td>\n",
       "      <td>388</td>\n",
       "    </tr>\n",
       "    <tr>\n",
       "      <th>22</th>\n",
       "      <td>2023</td>\n",
       "      <td>214</td>\n",
       "    </tr>\n",
       "    <tr>\n",
       "      <th>23</th>\n",
       "      <td>2000</td>\n",
       "      <td>208</td>\n",
       "    </tr>\n",
       "  </tbody>\n",
       "</table>\n",
       "</div>"
      ],
      "text/plain": [
       "    model_year  count\n",
       "0         2003    447\n",
       "1         2002    446\n",
       "2         2018    443\n",
       "3         2004    440\n",
       "4         2021    438\n",
       "5         2015    435\n",
       "6         2006    431\n",
       "7         2010    428\n",
       "8         2014    427\n",
       "9         2005    427\n",
       "10        2012    426\n",
       "11        2016    424\n",
       "12        2013    420\n",
       "13        2019    420\n",
       "14        2022    419\n",
       "15        2008    415\n",
       "16        2007    410\n",
       "17        2011    404\n",
       "18        2009    403\n",
       "19        2020    400\n",
       "20        2017    391\n",
       "21        2001    388\n",
       "22        2023    214\n",
       "23        2000    208"
      ]
     },
     "execution_count": 334,
     "metadata": {},
     "output_type": "execute_result"
    }
   ],
   "source": [
    "df_car['model_year'].value_counts().reset_index(name='count').rename(columns={'index': 'model_year'})"
   ]
  },
  {
   "cell_type": "code",
   "execution_count": 335,
   "id": "14ca14ad-aade-436d-8944-e687fbf971ea",
   "metadata": {},
   "outputs": [
    {
     "data": {
      "image/png": "[encoded data removed]",
      "text/plain": [
       "<Figure size 800x550 with 1 Axes>"
      ]
     },
     "metadata": {},
     "output_type": "display_data"
    }
   ],
   "source": [
    "counts = df_car['model_year'].value_counts().sort_index()\n",
    "\n",
    "# Gráfico de burbujas\n",
    "plt.scatter(\n",
    "    counts.index, \n",
    "    [1]*len(counts),                 # todos en la misma fila (para simular burbujas)\n",
    "    s=counts.values*10,              # tamaño proporcional a la frecuencia\n",
    "    alpha=0.5\n",
    ")\n",
    "\n",
    "plt.yticks([])  # ocultar eje Y\n",
    "plt.xlabel(\"Model Year\")\n",
    "plt.title(\"Distribución de Model Year (burbujas)\")\n",
    "plt.show()"
   ]
  },
  {
   "cell_type": "markdown",
   "id": "36e4d6e6-afa7-4ed0-94c6-1b541e13e3f8",
   "metadata": {},
   "source": [
    "**horsepower**"
   ]
  },
  {
   "cell_type": "code",
   "execution_count": 337,
   "id": "e4e37ec8-64b1-4cd5-8209-8af6e7b0edc9",
   "metadata": {},
   "outputs": [
    {
     "data": {
      "text/plain": [
       "count    8996.000000\n",
       "mean      149.657292\n",
       "std        29.879555\n",
       "min        37.000000\n",
       "25%       130.000000\n",
       "50%       149.000000\n",
       "75%       170.000000\n",
       "max       271.000000\n",
       "Name: horsepower, dtype: float64"
      ]
     },
     "execution_count": 337,
     "metadata": {},
     "output_type": "execute_result"
    }
   ],
   "source": [
    "df_car['horsepower'].describe()"
   ]
  },
  {
   "cell_type": "code",
   "execution_count": 338,
   "id": "c7f9b9d0-cedc-4db7-80dd-4b0443179d45",
   "metadata": {},
   "outputs": [
    {
     "data": {
      "text/html": [
       "<div>\n",
       "<style scoped>\n",
       "    .dataframe tbody tr th:only-of-type {\n",
       "        vertical-align: middle;\n",
       "    }\n",
       "\n",
       "    .dataframe tbody tr th {\n",
       "        vertical-align: top;\n",
       "    }\n",
       "\n",
       "    .dataframe thead th {\n",
       "        text-align: right;\n",
       "    }\n",
       "</style>\n",
       "<table border=\"1\" class=\"dataframe\">\n",
       "  <thead>\n",
       "    <tr style=\"text-align: right;\">\n",
       "      <th></th>\n",
       "      <th>horsepower</th>\n",
       "      <th>count</th>\n",
       "    </tr>\n",
       "  </thead>\n",
       "  <tbody>\n",
       "    <tr>\n",
       "      <th>0</th>\n",
       "      <td>152.0</td>\n",
       "      <td>142</td>\n",
       "    </tr>\n",
       "    <tr>\n",
       "      <th>1</th>\n",
       "      <td>145.0</td>\n",
       "      <td>141</td>\n",
       "    </tr>\n",
       "    <tr>\n",
       "      <th>2</th>\n",
       "      <td>151.0</td>\n",
       "      <td>134</td>\n",
       "    </tr>\n",
       "    <tr>\n",
       "      <th>3</th>\n",
       "      <td>148.0</td>\n",
       "      <td>130</td>\n",
       "    </tr>\n",
       "    <tr>\n",
       "      <th>4</th>\n",
       "      <td>141.0</td>\n",
       "      <td>130</td>\n",
       "    </tr>\n",
       "    <tr>\n",
       "      <th>...</th>\n",
       "      <td>...</td>\n",
       "      <td>...</td>\n",
       "    </tr>\n",
       "    <tr>\n",
       "      <th>187</th>\n",
       "      <td>40.0</td>\n",
       "      <td>1</td>\n",
       "    </tr>\n",
       "    <tr>\n",
       "      <th>188</th>\n",
       "      <td>57.0</td>\n",
       "      <td>1</td>\n",
       "    </tr>\n",
       "    <tr>\n",
       "      <th>189</th>\n",
       "      <td>245.0</td>\n",
       "      <td>1</td>\n",
       "    </tr>\n",
       "    <tr>\n",
       "      <th>190</th>\n",
       "      <td>252.0</td>\n",
       "      <td>1</td>\n",
       "    </tr>\n",
       "    <tr>\n",
       "      <th>191</th>\n",
       "      <td>61.0</td>\n",
       "      <td>1</td>\n",
       "    </tr>\n",
       "  </tbody>\n",
       "</table>\n",
       "<p>192 rows × 2 columns</p>\n",
       "</div>"
      ],
      "text/plain": [
       "     horsepower  count\n",
       "0         152.0    142\n",
       "1         145.0    141\n",
       "2         151.0    134\n",
       "3         148.0    130\n",
       "4         141.0    130\n",
       "..          ...    ...\n",
       "187        40.0      1\n",
       "188        57.0      1\n",
       "189       245.0      1\n",
       "190       252.0      1\n",
       "191        61.0      1\n",
       "\n",
       "[192 rows x 2 columns]"
      ]
     },
     "execution_count": 338,
     "metadata": {},
     "output_type": "execute_result"
    }
   ],
   "source": [
    "df_car['horsepower'].value_counts().reset_index(name='count').rename(columns={'index': 'horsepower'})"
   ]
  },
  {
   "cell_type": "code",
   "execution_count": 339,
   "id": "26efee11-cd73-498e-9746-bc542ab07e3a",
   "metadata": {},
   "outputs": [
    {
     "data": {
      "image/png": "[encoded data removed]",
      "text/plain": [
       "<Figure size 800x550 with 1 Axes>"
      ]
     },
     "metadata": {},
     "output_type": "display_data"
    }
   ],
   "source": [
    "counts = df_car['horsepower'].value_counts().sort_index()\n",
    "\n",
    "# Gráfico de burbujas\n",
    "plt.scatter(\n",
    "    counts.index, \n",
    "    [1]*len(counts),                 # todos en la misma fila (para simular burbujas)\n",
    "    s=counts.values*10,              # tamaño proporcional a la frecuencia\n",
    "    alpha=0.5\n",
    ")\n",
    "\n",
    "plt.yticks([])  # ocultar eje Y\n",
    "plt.xlabel(\"HorsePower\")\n",
    "plt.title(\"Distribución de HorsePower (burbujas)\")\n",
    "plt.show()"
   ]
  },
  {
   "cell_type": "code",
   "execution_count": 207,
   "id": "3a40542b-d658-487b-8d62-1747fa6de067",
   "metadata": {},
   "outputs": [
    {
     "data": {
      "image/png": "[encoded data removed]",
      "text/plain": [
       "<Figure size 1500x500 with 2 Axes>"
      ]
     },
     "metadata": {},
     "output_type": "display_data"
    },
    {
     "data": {
      "image/png": "[encoded data removed]",
      "text/plain": [
       "<Figure size 1500x500 with 2 Axes>"
      ]
     },
     "metadata": {},
     "output_type": "display_data"
    },
    {
     "data": {
      "image/png": "[encoded data removed]",
      "text/plain": [
       "<Figure size 1500x500 with 2 Axes>"
      ]
     },
     "metadata": {},
     "output_type": "display_data"
    },
    {
     "data": {
      "image/png": "[encoded data removed]",
      "text/plain": [
       "<Figure size 1500x500 with 2 Axes>"
      ]
     },
     "metadata": {},
     "output_type": "display_data"
    }
   ],
   "source": [
    "columns = ['engine_displacement', 'vehicle_weight', 'model_year', 'horsepower']\n",
    "\n",
    "for col in columns:\n",
    "    fig, axes = plt.subplots(1, 2, figsize=(15, 5))\n",
    "    \n",
    "    # Histograma\n",
    "    axes[0].hist(df_car[col], bins=50, alpha=0.7, color='lightcoral', edgecolor='black')\n",
    "    axes[0].set_title(f'Distribución de {col}')\n",
    "    axes[0].set_xlabel(col)\n",
    "    axes[0].set_ylabel('Frecuencia')\n",
    "    axes[0].grid(True, alpha=0.3)\n",
    "    \n",
    "    # Boxplot\n",
    "    axes[1].boxplot(df_car[col])\n",
    "    axes[1].set_title(f'Boxplot de {col}')\n",
    "    axes[1].set_ylabel(col)\n",
    "    axes[1].grid(True, alpha=0.3)\n",
    "    \n",
    "    plt.tight_layout()\n",
    "    plt.show()\n"
   ]
  },
  {
   "cell_type": "markdown",
   "id": "c9cfe25c-4c24-484b-8291-b45efc67f730",
   "metadata": {},
   "source": [
    "**Preparar y dividir el conjunto de datos**\n",
    "\n",
    "- Mezcle el conjunto de datos (el filtrado que creó anteriormente), use semilla 42.\n",
    "- Divida sus datos en conjuntos de entrenamiento/validación/prueba, con una distribución de 60%/20%/20%."
   ]
  },
  {
   "cell_type": "code",
   "execution_count": 208,
   "id": "a49b0d9e-845a-4a5f-9e69-6b1decd048c7",
   "metadata": {},
   "outputs": [
    {
     "name": "stdout",
     "output_type": "stream",
     "text": [
      "Cantidad de registros: 9704\n",
      "Entrenamiento 60%: 5824\n",
      "Validación 20%: 1940\n",
      "Prueba 20%: 1940\n"
     ]
    }
   ],
   "source": [
    "n = len(df_car)\n",
    "\n",
    "n_val = int(n * 0.2)\n",
    "n_test = int(n * 0.2)\n",
    "n_train = n - n_val - n_test\n",
    "\n",
    "print(f\"Cantidad de registros: {n}\")\n",
    "print(f\"Entrenamiento 60%: {n_train}\")\n",
    "print(f\"Validación 20%: {n_val}\")\n",
    "print(f\"Prueba 20%: {n_test}\")"
   ]
  },
  {
   "cell_type": "code",
   "execution_count": 209,
   "id": "8fde1b58-a03c-48db-8689-4b8b2a50735f",
   "metadata": {},
   "outputs": [
    {
     "data": {
      "text/plain": [
       "array([   0,    1,    2, ..., 9701, 9702, 9703], shape=(9704,))"
      ]
     },
     "execution_count": 209,
     "metadata": {},
     "output_type": "execute_result"
    }
   ],
   "source": [
    "indices = np.arange(n)\n",
    "indices"
   ]
  },
  {
   "cell_type": "code",
   "execution_count": 210,
   "id": "0cf5e9b3-b196-479e-ae93-9eb1e8f26a9b",
   "metadata": {},
   "outputs": [
    {
     "data": {
      "text/plain": [
       "array([ 483, 7506, 8795, ..., 5390,  860, 7270], shape=(9704,))"
      ]
     },
     "execution_count": 210,
     "metadata": {},
     "output_type": "execute_result"
    }
   ],
   "source": [
    "np.random.seed(42)\n",
    "np.random.shuffle(indices)\n",
    "indices"
   ]
  },
  {
   "cell_type": "code",
   "execution_count": 211,
   "id": "09de1f29-511b-4a48-b971-1872114cb309",
   "metadata": {},
   "outputs": [],
   "source": [
    "df_train = df_car.iloc[indices[:n_train]]\n",
    "df_val = df_car.iloc[indices[n_train:n_train+n_val]]\n",
    "df_test = df_car.iloc[indices[n_train+n_val:]]"
   ]
  },
  {
   "cell_type": "code",
   "execution_count": 212,
   "id": "1a95ad8e-1f1b-46e6-856c-96225a47d4eb",
   "metadata": {},
   "outputs": [
    {
     "data": {
      "text/html": [
       "<div>\n",
       "<style scoped>\n",
       "    .dataframe tbody tr th:only-of-type {\n",
       "        vertical-align: middle;\n",
       "    }\n",
       "\n",
       "    .dataframe tbody tr th {\n",
       "        vertical-align: top;\n",
       "    }\n",
       "\n",
       "    .dataframe thead th {\n",
       "        text-align: right;\n",
       "    }\n",
       "</style>\n",
       "<table border=\"1\" class=\"dataframe\">\n",
       "  <thead>\n",
       "    <tr style=\"text-align: right;\">\n",
       "      <th></th>\n",
       "      <th>engine_displacement</th>\n",
       "      <th>horsepower</th>\n",
       "      <th>vehicle_weight</th>\n",
       "      <th>model_year</th>\n",
       "      <th>fuel_efficiency_mpg</th>\n",
       "    </tr>\n",
       "  </thead>\n",
       "  <tbody>\n",
       "    <tr>\n",
       "      <th>483</th>\n",
       "      <td>220</td>\n",
       "      <td>144.0</td>\n",
       "      <td>2535.887591</td>\n",
       "      <td>2009</td>\n",
       "      <td>16.642943</td>\n",
       "    </tr>\n",
       "    <tr>\n",
       "      <th>7506</th>\n",
       "      <td>160</td>\n",
       "      <td>141.0</td>\n",
       "      <td>2741.170484</td>\n",
       "      <td>2019</td>\n",
       "      <td>16.298377</td>\n",
       "    </tr>\n",
       "    <tr>\n",
       "      <th>8795</th>\n",
       "      <td>230</td>\n",
       "      <td>155.0</td>\n",
       "      <td>2471.880237</td>\n",
       "      <td>2017</td>\n",
       "      <td>18.591822</td>\n",
       "    </tr>\n",
       "    <tr>\n",
       "      <th>1688</th>\n",
       "      <td>150</td>\n",
       "      <td>206.0</td>\n",
       "      <td>3748.164469</td>\n",
       "      <td>2015</td>\n",
       "      <td>11.818843</td>\n",
       "    </tr>\n",
       "    <tr>\n",
       "      <th>6217</th>\n",
       "      <td>300</td>\n",
       "      <td>111.0</td>\n",
       "      <td>2135.716359</td>\n",
       "      <td>2006</td>\n",
       "      <td>19.402209</td>\n",
       "    </tr>\n",
       "  </tbody>\n",
       "</table>\n",
       "</div>"
      ],
      "text/plain": [
       "      engine_displacement  horsepower  vehicle_weight  model_year  \\\n",
       "483                   220       144.0     2535.887591        2009   \n",
       "7506                  160       141.0     2741.170484        2019   \n",
       "8795                  230       155.0     2471.880237        2017   \n",
       "1688                  150       206.0     3748.164469        2015   \n",
       "6217                  300       111.0     2135.716359        2006   \n",
       "\n",
       "      fuel_efficiency_mpg  \n",
       "483             16.642943  \n",
       "7506            16.298377  \n",
       "8795            18.591822  \n",
       "1688            11.818843  \n",
       "6217            19.402209  "
      ]
     },
     "execution_count": 212,
     "metadata": {},
     "output_type": "execute_result"
    }
   ],
   "source": [
    "df_train.head()"
   ]
  },
  {
   "cell_type": "code",
   "execution_count": 213,
   "id": "602902df-f4cb-4b03-a29b-b634946bcef6",
   "metadata": {},
   "outputs": [
    {
     "data": {
      "text/html": [
       "<div>\n",
       "<style scoped>\n",
       "    .dataframe tbody tr th:only-of-type {\n",
       "        vertical-align: middle;\n",
       "    }\n",
       "\n",
       "    .dataframe tbody tr th {\n",
       "        vertical-align: top;\n",
       "    }\n",
       "\n",
       "    .dataframe thead th {\n",
       "        text-align: right;\n",
       "    }\n",
       "</style>\n",
       "<table border=\"1\" class=\"dataframe\">\n",
       "  <thead>\n",
       "    <tr style=\"text-align: right;\">\n",
       "      <th></th>\n",
       "      <th>engine_displacement</th>\n",
       "      <th>horsepower</th>\n",
       "      <th>vehicle_weight</th>\n",
       "      <th>model_year</th>\n",
       "      <th>fuel_efficiency_mpg</th>\n",
       "    </tr>\n",
       "  </thead>\n",
       "  <tbody>\n",
       "    <tr>\n",
       "      <th>6163</th>\n",
       "      <td>180</td>\n",
       "      <td>112.0</td>\n",
       "      <td>2772.134410</td>\n",
       "      <td>2020</td>\n",
       "      <td>15.366341</td>\n",
       "    </tr>\n",
       "    <tr>\n",
       "      <th>3313</th>\n",
       "      <td>260</td>\n",
       "      <td>138.0</td>\n",
       "      <td>3014.061530</td>\n",
       "      <td>2022</td>\n",
       "      <td>14.601182</td>\n",
       "    </tr>\n",
       "    <tr>\n",
       "      <th>4781</th>\n",
       "      <td>140</td>\n",
       "      <td>181.0</td>\n",
       "      <td>3652.186151</td>\n",
       "      <td>2016</td>\n",
       "      <td>12.247032</td>\n",
       "    </tr>\n",
       "    <tr>\n",
       "      <th>8210</th>\n",
       "      <td>270</td>\n",
       "      <td>105.0</td>\n",
       "      <td>2753.040847</td>\n",
       "      <td>2023</td>\n",
       "      <td>15.136400</td>\n",
       "    </tr>\n",
       "    <tr>\n",
       "      <th>6713</th>\n",
       "      <td>170</td>\n",
       "      <td>224.0</td>\n",
       "      <td>4163.375137</td>\n",
       "      <td>2003</td>\n",
       "      <td>10.340419</td>\n",
       "    </tr>\n",
       "  </tbody>\n",
       "</table>\n",
       "</div>"
      ],
      "text/plain": [
       "      engine_displacement  horsepower  vehicle_weight  model_year  \\\n",
       "6163                  180       112.0     2772.134410        2020   \n",
       "3313                  260       138.0     3014.061530        2022   \n",
       "4781                  140       181.0     3652.186151        2016   \n",
       "8210                  270       105.0     2753.040847        2023   \n",
       "6713                  170       224.0     4163.375137        2003   \n",
       "\n",
       "      fuel_efficiency_mpg  \n",
       "6163            15.366341  \n",
       "3313            14.601182  \n",
       "4781            12.247032  \n",
       "8210            15.136400  \n",
       "6713            10.340419  "
      ]
     },
     "execution_count": 213,
     "metadata": {},
     "output_type": "execute_result"
    }
   ],
   "source": [
    "df_val.head()"
   ]
  },
  {
   "cell_type": "code",
   "execution_count": 214,
   "id": "e3c0a66e-c87d-4535-85cc-93b4edb44650",
   "metadata": {},
   "outputs": [
    {
     "data": {
      "text/html": [
       "<div>\n",
       "<style scoped>\n",
       "    .dataframe tbody tr th:only-of-type {\n",
       "        vertical-align: middle;\n",
       "    }\n",
       "\n",
       "    .dataframe tbody tr th {\n",
       "        vertical-align: top;\n",
       "    }\n",
       "\n",
       "    .dataframe thead th {\n",
       "        text-align: right;\n",
       "    }\n",
       "</style>\n",
       "<table border=\"1\" class=\"dataframe\">\n",
       "  <thead>\n",
       "    <tr style=\"text-align: right;\">\n",
       "      <th></th>\n",
       "      <th>engine_displacement</th>\n",
       "      <th>horsepower</th>\n",
       "      <th>vehicle_weight</th>\n",
       "      <th>model_year</th>\n",
       "      <th>fuel_efficiency_mpg</th>\n",
       "    </tr>\n",
       "  </thead>\n",
       "  <tbody>\n",
       "    <tr>\n",
       "      <th>3729</th>\n",
       "      <td>140</td>\n",
       "      <td>148.0</td>\n",
       "      <td>2704.826005</td>\n",
       "      <td>2017</td>\n",
       "      <td>15.804354</td>\n",
       "    </tr>\n",
       "    <tr>\n",
       "      <th>7764</th>\n",
       "      <td>210</td>\n",
       "      <td>136.0</td>\n",
       "      <td>3001.227490</td>\n",
       "      <td>2004</td>\n",
       "      <td>14.272374</td>\n",
       "    </tr>\n",
       "    <tr>\n",
       "      <th>4358</th>\n",
       "      <td>210</td>\n",
       "      <td>152.0</td>\n",
       "      <td>3747.467392</td>\n",
       "      <td>2021</td>\n",
       "      <td>11.748441</td>\n",
       "    </tr>\n",
       "    <tr>\n",
       "      <th>5922</th>\n",
       "      <td>190</td>\n",
       "      <td>128.0</td>\n",
       "      <td>2705.833636</td>\n",
       "      <td>2014</td>\n",
       "      <td>16.485991</td>\n",
       "    </tr>\n",
       "    <tr>\n",
       "      <th>1343</th>\n",
       "      <td>230</td>\n",
       "      <td>156.0</td>\n",
       "      <td>2505.939657</td>\n",
       "      <td>2005</td>\n",
       "      <td>17.779704</td>\n",
       "    </tr>\n",
       "  </tbody>\n",
       "</table>\n",
       "</div>"
      ],
      "text/plain": [
       "      engine_displacement  horsepower  vehicle_weight  model_year  \\\n",
       "3729                  140       148.0     2704.826005        2017   \n",
       "7764                  210       136.0     3001.227490        2004   \n",
       "4358                  210       152.0     3747.467392        2021   \n",
       "5922                  190       128.0     2705.833636        2014   \n",
       "1343                  230       156.0     2505.939657        2005   \n",
       "\n",
       "      fuel_efficiency_mpg  \n",
       "3729            15.804354  \n",
       "7764            14.272374  \n",
       "4358            11.748441  \n",
       "5922            16.485991  \n",
       "1343            17.779704  "
      ]
     },
     "execution_count": 214,
     "metadata": {},
     "output_type": "execute_result"
    }
   ],
   "source": [
    "df_test.head()"
   ]
  },
  {
   "cell_type": "code",
   "execution_count": 215,
   "id": "ec10a5de-a548-4428-8b3f-4bf5023ee957",
   "metadata": {},
   "outputs": [],
   "source": [
    "def split_data(df, por_val=0.2, por_test=0.2, seed=42):\n",
    "    \n",
    "    n = len(df)\n",
    "    n_val = int(n * por_val)\n",
    "    n_test = int(n * por_test)\n",
    "    n_train = n - n_val - n_test\n",
    "    \n",
    "    indices = np.arange(n)\n",
    "\n",
    "    np.random.seed(seed)\n",
    "    np.random.shuffle(indices)\n",
    "\n",
    "    train = df.iloc[indices[:n_train]]\n",
    "    val = df.iloc[indices[n_train:n_train+n_val]]\n",
    "    test = df.iloc[indices[n_train+n_val:]]\n",
    "\n",
    "    return train, val, test"
   ]
  },
  {
   "cell_type": "code",
   "execution_count": 216,
   "id": "f4ffb30e-0b3b-445c-b36b-39a8e20768de",
   "metadata": {},
   "outputs": [],
   "source": [
    "df_train, df_val, df_test = split_data(df_car)"
   ]
  },
  {
   "cell_type": "code",
   "execution_count": 217,
   "id": "c48b6e25-9322-49ea-8dc6-8d64fcf73cba",
   "metadata": {},
   "outputs": [],
   "source": [
    "df_train = df_train.reset_index(drop=True)\n",
    "df_val = df_val.reset_index(drop=True)\n",
    "df_test = df_test.reset_index(drop=True)"
   ]
  },
  {
   "cell_type": "code",
   "execution_count": 218,
   "id": "48af4e7c-4047-4a8a-b0fa-e73f681be84e",
   "metadata": {},
   "outputs": [],
   "source": [
    "y_train = df_train.fuel_efficiency_mpg.values\n",
    "y_val = df_val.fuel_efficiency_mpg.values\n",
    "y_test = df_test.fuel_efficiency_mpg.values"
   ]
  },
  {
   "cell_type": "code",
   "execution_count": 219,
   "id": "cc5d4692-a88f-4a84-84a3-b55b6456c054",
   "metadata": {},
   "outputs": [],
   "source": [
    "del df_train['fuel_efficiency_mpg']\n",
    "del df_val['fuel_efficiency_mpg']\n",
    "del df_test['fuel_efficiency_mpg']"
   ]
  },
  {
   "cell_type": "markdown",
   "id": "23f9435b-1ef2-475b-978b-bb06a6d2d542",
   "metadata": {},
   "source": [
    "## Q3. Manejo de valores faltantes en Q1\n",
    "\n",
    "**Pregunta:** Necesitamos abordar los valores faltantes en la columna identificada en Q1.  \n",
    "Tenemos dos opciones: rellenar con 0 o con la media de esta variable (calculada solo con el conjunto de entrenamiento).  \n",
    "Para cada opción, entrene un modelo de regresión lineal sin regularización y evalúe el RMSE en el conjunto de validación.  \n",
    "Redondee los RMSE a 2 dígitos.\n",
    "\n",
    "¿Cuál opción ofrece un mejor RMSE?\n",
    "\n",
    "**Respuesta:**\n"
   ]
  },
  {
   "cell_type": "code",
   "execution_count": 220,
   "id": "bec1970d-c5bf-4d15-9779-012519c8640c",
   "metadata": {},
   "outputs": [
    {
     "data": {
      "text/plain": [
       "np.float64(149.54476367006487)"
      ]
     },
     "execution_count": 220,
     "metadata": {},
     "output_type": "execute_result"
    }
   ],
   "source": [
    "train_mean_horsepower = df_train['horsepower'].mean()\n",
    "train_mean_horsepower"
   ]
  },
  {
   "cell_type": "code",
   "execution_count": 221,
   "id": "867388c7-78e2-45b8-943e-219976dadc56",
   "metadata": {},
   "outputs": [
    {
     "data": {
      "text/plain": [
       "[{'horsepower_0': {'horsepower': 0}},\n",
       " {'horsepower_mean': {'horsepower': 149.54476367006487}}]"
      ]
     },
     "execution_count": 221,
     "metadata": {},
     "output_type": "execute_result"
    }
   ],
   "source": [
    "list_column_nan = [\n",
    "    {'horsepower_0' : {'horsepower': 0}},\n",
    "    {'horsepower_mean' : {'horsepower': float(train_mean_horsepower)}}\n",
    "]\n",
    "list_column_nan"
   ]
  },
  {
   "cell_type": "code",
   "execution_count": 222,
   "id": "3106c9bb-ee1c-4b3a-8703-93965aea83d0",
   "metadata": {},
   "outputs": [],
   "source": [
    "def fill_column_nan(df, dict_fill):\n",
    "    X = df.fillna(dict_fill).values\n",
    "    \n",
    "    return X"
   ]
  },
  {
   "cell_type": "code",
   "execution_count": 223,
   "id": "7ddbf409-50a1-451b-8cb6-b61f68a59ba5",
   "metadata": {},
   "outputs": [],
   "source": [
    "def train_linear_regression(X, y):\n",
    "    ones = np.ones(X.shape[0])\n",
    "    X = np.column_stack([ones, X])\n",
    "\n",
    "    XTX = X.T.dot(X)\n",
    "    XTX_inv = np.linalg.inv(XTX)\n",
    "    w_full = XTX_inv.dot(X.T).dot(y)\n",
    "    \n",
    "    return w_full[0], w_full[1:]"
   ]
  },
  {
   "cell_type": "code",
   "execution_count": 238,
   "id": "1e11d7b2-fb0a-4030-9278-95f09ff04bed",
   "metadata": {},
   "outputs": [],
   "source": [
    "def rmse(y, y_pred, n_round=2):\n",
    "    return round(root_mean_squared_error(y, y_pred), n_round)"
   ]
  },
  {
   "cell_type": "code",
   "execution_count": 228,
   "id": "4eb0a903-051b-4fe8-a0e6-9866aece0d32",
   "metadata": {},
   "outputs": [
    {
     "name": "stdout",
     "output_type": "stream",
     "text": [
      "Entrenando modelo usando horsepower_0\n",
      "Aplicando fillna segun clave:valor -> {'horsepower': 0}\n",
      "Entrenando modelo...\n",
      "Evaluando...\n",
      "RMSE train 0.52\n",
      "RMSE val 0.52\n",
      "...\n",
      "Entrenando modelo usando horsepower_mean\n",
      "Aplicando fillna segun clave:valor -> {'horsepower': 149.54476367006487}\n",
      "Entrenando modelo...\n",
      "Evaluando...\n",
      "RMSE train 0.46\n",
      "RMSE val 0.46\n",
      "...\n"
     ]
    }
   ],
   "source": [
    "results = []\n",
    "\n",
    "for item in list_column_nan:\n",
    "    for key, value in item.items():\n",
    "        print(f'Entrenando modelo usando {key}')\n",
    "        \n",
    "        print(f'Aplicando fillna segun clave:valor -> {value}')\n",
    "        X_train = fill_column_nan(df_train, value)\n",
    "\n",
    "        print('Entrenando modelo...')\n",
    "        w0, W = train_linear_regression(X_train, y_train)\n",
    "\n",
    "        print('Evaluando...')     \n",
    "        y_pred = w0 + X_train.dot(W)\n",
    "        rmse_train = rmse(y_train, y_pred)\n",
    "        print(f'RMSE train {rmse_train}')\n",
    "\n",
    "        X_val = fill_column_nan(df_val, value)\n",
    "        y_pred = w0 + X_val.dot(W)\n",
    "        rmse_val = rmse(y_val, y_pred)\n",
    "        print(f'RMSE val {rmse_val}')\n",
    "\n",
    "        print('...') \n",
    "\n",
    "        results.append({\n",
    "            \"estrategia_fillna\": value,\n",
    "            \"rmse_train\": rmse_train,\n",
    "            \"rmse_val\": rmse_val\n",
    "        })"
   ]
  },
  {
   "cell_type": "code",
   "execution_count": 229,
   "id": "dccebd57-c23f-4422-bfdd-21e3e92cba60",
   "metadata": {},
   "outputs": [
    {
     "data": {
      "text/html": [
       "<div>\n",
       "<style scoped>\n",
       "    .dataframe tbody tr th:only-of-type {\n",
       "        vertical-align: middle;\n",
       "    }\n",
       "\n",
       "    .dataframe tbody tr th {\n",
       "        vertical-align: top;\n",
       "    }\n",
       "\n",
       "    .dataframe thead th {\n",
       "        text-align: right;\n",
       "    }\n",
       "</style>\n",
       "<table border=\"1\" class=\"dataframe\">\n",
       "  <thead>\n",
       "    <tr style=\"text-align: right;\">\n",
       "      <th></th>\n",
       "      <th>estrategia_fillna</th>\n",
       "      <th>rmse_train</th>\n",
       "      <th>rmse_val</th>\n",
       "    </tr>\n",
       "  </thead>\n",
       "  <tbody>\n",
       "    <tr>\n",
       "      <th>0</th>\n",
       "      <td>{'horsepower': 0}</td>\n",
       "      <td>0.52</td>\n",
       "      <td>0.52</td>\n",
       "    </tr>\n",
       "    <tr>\n",
       "      <th>1</th>\n",
       "      <td>{'horsepower': 149.54476367006487}</td>\n",
       "      <td>0.46</td>\n",
       "      <td>0.46</td>\n",
       "    </tr>\n",
       "  </tbody>\n",
       "</table>\n",
       "</div>"
      ],
      "text/plain": [
       "                    estrategia_fillna  rmse_train  rmse_val\n",
       "0                   {'horsepower': 0}        0.52      0.52\n",
       "1  {'horsepower': 149.54476367006487}        0.46      0.46"
      ]
     },
     "execution_count": 229,
     "metadata": {},
     "output_type": "execute_result"
    }
   ],
   "source": [
    "df_results = pd.DataFrame(results)\n",
    "df_results"
   ]
  },
  {
   "cell_type": "code",
   "execution_count": 230,
   "id": "939d08f9-2770-46af-916f-22d346c86fad",
   "metadata": {},
   "outputs": [
    {
     "name": "stdout",
     "output_type": "stream",
     "text": [
      "<class 'pandas.core.series.Series'>\n",
      "RangeIndex: 5824 entries, 0 to 5823\n",
      "Series name: horsepower\n",
      "Non-Null Count  Dtype  \n",
      "--------------  -----  \n",
      "5395 non-null   float64\n",
      "dtypes: float64(1)\n",
      "memory usage: 45.6 KB\n"
     ]
    }
   ],
   "source": [
    "df_train['horsepower'].info()"
   ]
  },
  {
   "cell_type": "code",
   "execution_count": 231,
   "id": "0d5dda4b-f276-4eda-97b5-33140310e7db",
   "metadata": {},
   "outputs": [],
   "source": [
    "X_train_mean = fill_column_nan(df_train, {'horsepower': 149.54476367006487})\n",
    "X_train_0 = fill_column_nan(df_train, {'horsepower': 0})"
   ]
  },
  {
   "cell_type": "code",
   "execution_count": 245,
   "id": "1ca241b5-7e18-45fe-b96f-9db580866475",
   "metadata": {},
   "outputs": [
    {
     "data": {
      "image/png": "[encoded data removed]",
      "text/plain": [
       "<Figure size 1500x500 with 2 Axes>"
      ]
     },
     "metadata": {},
     "output_type": "display_data"
    }
   ],
   "source": [
    "ig, axes = plt.subplots(1, 2, figsize=(15, 5))\n",
    "\n",
    "# Histograma para relleno 0\n",
    "axes[0].hist(X_train_0[:, 1], bins=50, alpha=0.7, color='lightblue', edgecolor='black')\n",
    "axes[0].set_title('Horsepower - Relleno 0')\n",
    "axes[0].set_xlabel('Horsepower')\n",
    "axes[0].set_ylabel('Frecuencia')\n",
    "axes[0].grid(True, alpha=0.3)\n",
    "\n",
    "# Histograma para relleno con media\n",
    "axes[1].hist(X_train_mean[:, 1], bins=50, alpha=0.7, color='lightgreen', edgecolor='black')\n",
    "axes[1].set_title('Horsepower - Relleno media')\n",
    "axes[1].set_xlabel('Horsepower')\n",
    "axes[1].set_ylabel('Frecuencia')\n",
    "axes[1].grid(True, alpha=0.3)\n",
    "\n",
    "plt.tight_layout()\n",
    "plt.show()"
   ]
  },
  {
   "cell_type": "markdown",
   "id": "e5a25026-6c3f-49d0-bb4a-ec5fdb0d408b",
   "metadata": {},
   "source": [
    "## Q4. Regresión lineal regularizada\n",
    "\n",
    "**Pregunta:** Entrenar una regresión lineal regularizada con `r` en `[0, 0.01, 0.1, 1, 5, 10, 100]`.\n",
    "¿Cuál valor de `r` da el mejor RMSE en validación? (si hay empate, elegir el menor `r`).\n",
    "\n",
    "**Respuesta:**\n"
   ]
  },
  {
   "cell_type": "code",
   "execution_count": 233,
   "id": "73189a84-a804-4a71-a1ea-8e0333193893",
   "metadata": {},
   "outputs": [],
   "source": [
    "def train_linear_regression_reg(X, y, r):\n",
    "    ones = np.ones(X.shape[0])\n",
    "    X = np.column_stack([ones, X])\n",
    "\n",
    "    XTX = X.T.dot(X)\n",
    "    XTX = XTX + r * np.eye(XTX.shape[0])\n",
    "\n",
    "    XTX_inv = np.linalg.inv(XTX)\n",
    "    w_full = XTX_inv.dot(X.T).dot(y)\n",
    "    \n",
    "    return w_full[0], w_full[1:]"
   ]
  },
  {
   "cell_type": "code",
   "execution_count": 237,
   "id": "a7d72b95-86ec-4199-8156-395f1d7c260c",
   "metadata": {},
   "outputs": [
    {
     "data": {
      "text/plain": [
       "[0, 0.01, 0.1, 1, 5, 10, 100]"
      ]
     },
     "execution_count": 237,
     "metadata": {},
     "output_type": "execute_result"
    }
   ],
   "source": [
    "list_r = [0, 0.01, 0.1, 1, 5, 10, 100]\n",
    "list_r"
   ]
  },
  {
   "cell_type": "code",
   "execution_count": 242,
   "id": "b3c43419-90f8-4e20-8149-fbf4f4974b80",
   "metadata": {},
   "outputs": [
    {
     "name": "stdout",
     "output_type": "stream",
     "text": [
      "Entrenando modelo usando regularizacio r:0\n",
      "Aplicando fillna con valor 0...\n",
      "Entrenando modelo...\n",
      "Evaluando...\n",
      "RMSE train 0.52\n",
      "RMSE val 0.52\n",
      "...\n",
      "Entrenando modelo usando regularizacio r:0.01\n",
      "Aplicando fillna con valor 0...\n",
      "Entrenando modelo...\n",
      "Evaluando...\n",
      "RMSE train 0.52\n",
      "RMSE val 0.52\n",
      "...\n",
      "Entrenando modelo usando regularizacio r:0.1\n",
      "Aplicando fillna con valor 0...\n",
      "Entrenando modelo...\n",
      "Evaluando...\n",
      "RMSE train 0.52\n",
      "RMSE val 0.52\n",
      "...\n",
      "Entrenando modelo usando regularizacio r:1\n",
      "Aplicando fillna con valor 0...\n",
      "Entrenando modelo...\n",
      "Evaluando...\n",
      "RMSE train 0.53\n",
      "RMSE val 0.52\n",
      "...\n",
      "Entrenando modelo usando regularizacio r:5\n",
      "Aplicando fillna con valor 0...\n",
      "Entrenando modelo...\n",
      "Evaluando...\n",
      "RMSE train 0.53\n",
      "RMSE val 0.52\n",
      "...\n",
      "Entrenando modelo usando regularizacio r:10\n",
      "Aplicando fillna con valor 0...\n",
      "Entrenando modelo...\n",
      "Evaluando...\n",
      "RMSE train 0.53\n",
      "RMSE val 0.52\n",
      "...\n",
      "Entrenando modelo usando regularizacio r:100\n",
      "Aplicando fillna con valor 0...\n",
      "Entrenando modelo...\n",
      "Evaluando...\n",
      "RMSE train 0.53\n",
      "RMSE val 0.52\n",
      "...\n"
     ]
    }
   ],
   "source": [
    "results_r = []\n",
    "\n",
    "for r in list_r:\n",
    "    print(f'Entrenando modelo usando regularizacio r:{r}')\n",
    "    \n",
    "    print('Aplicando fillna con valor 0...')\n",
    "    X_train = fill_column_nan(df_train, {'horsepower': 0})\n",
    "\n",
    "    print('Entrenando modelo...')\n",
    "    w0, W = train_linear_regression_reg(X_train, y_train, r)\n",
    "    \n",
    "    print('Evaluando...')     \n",
    "    y_pred = w0 + X_train.dot(W)\n",
    "    rmse_train = rmse(y_train, y_pred, 2)\n",
    "    print(f'RMSE train {rmse_train}')\n",
    "\n",
    "    X_val = fill_column_nan(df_val, {'horsepower': 0})\n",
    "    y_pred = w0 + X_val.dot(W)\n",
    "    rmse_val = rmse(y_val, y_pred, 2)\n",
    "    print(f'RMSE val {rmse_val}')\n",
    "\n",
    "    print('...') \n",
    "\n",
    "    results_r.append({\n",
    "        \"r\": r,\n",
    "        \"rmse_train\": rmse_train,\n",
    "        \"rmse_val\": rmse_val\n",
    "    })"
   ]
  },
  {
   "cell_type": "code",
   "execution_count": 243,
   "id": "3d653547-dbb1-4799-8629-4e18a3053220",
   "metadata": {},
   "outputs": [
    {
     "data": {
      "text/html": [
       "<div>\n",
       "<style scoped>\n",
       "    .dataframe tbody tr th:only-of-type {\n",
       "        vertical-align: middle;\n",
       "    }\n",
       "\n",
       "    .dataframe tbody tr th {\n",
       "        vertical-align: top;\n",
       "    }\n",
       "\n",
       "    .dataframe thead th {\n",
       "        text-align: right;\n",
       "    }\n",
       "</style>\n",
       "<table border=\"1\" class=\"dataframe\">\n",
       "  <thead>\n",
       "    <tr style=\"text-align: right;\">\n",
       "      <th></th>\n",
       "      <th>r</th>\n",
       "      <th>rmse_train</th>\n",
       "      <th>rmse_val</th>\n",
       "    </tr>\n",
       "  </thead>\n",
       "  <tbody>\n",
       "    <tr>\n",
       "      <th>0</th>\n",
       "      <td>0.00</td>\n",
       "      <td>0.52</td>\n",
       "      <td>0.52</td>\n",
       "    </tr>\n",
       "    <tr>\n",
       "      <th>1</th>\n",
       "      <td>0.01</td>\n",
       "      <td>0.52</td>\n",
       "      <td>0.52</td>\n",
       "    </tr>\n",
       "    <tr>\n",
       "      <th>2</th>\n",
       "      <td>0.10</td>\n",
       "      <td>0.52</td>\n",
       "      <td>0.52</td>\n",
       "    </tr>\n",
       "    <tr>\n",
       "      <th>3</th>\n",
       "      <td>1.00</td>\n",
       "      <td>0.53</td>\n",
       "      <td>0.52</td>\n",
       "    </tr>\n",
       "    <tr>\n",
       "      <th>4</th>\n",
       "      <td>5.00</td>\n",
       "      <td>0.53</td>\n",
       "      <td>0.52</td>\n",
       "    </tr>\n",
       "    <tr>\n",
       "      <th>5</th>\n",
       "      <td>10.00</td>\n",
       "      <td>0.53</td>\n",
       "      <td>0.52</td>\n",
       "    </tr>\n",
       "    <tr>\n",
       "      <th>6</th>\n",
       "      <td>100.00</td>\n",
       "      <td>0.53</td>\n",
       "      <td>0.52</td>\n",
       "    </tr>\n",
       "  </tbody>\n",
       "</table>\n",
       "</div>"
      ],
      "text/plain": [
       "        r  rmse_train  rmse_val\n",
       "0    0.00        0.52      0.52\n",
       "1    0.01        0.52      0.52\n",
       "2    0.10        0.52      0.52\n",
       "3    1.00        0.53      0.52\n",
       "4    5.00        0.53      0.52\n",
       "5   10.00        0.53      0.52\n",
       "6  100.00        0.53      0.52"
      ]
     },
     "execution_count": 243,
     "metadata": {},
     "output_type": "execute_result"
    }
   ],
   "source": [
    "df_results_r = pd.DataFrame(results_r)\n",
    "df_results_r"
   ]
  },
  {
   "cell_type": "markdown",
   "id": "49ba481d-7e9f-438a-86ce-012ddd1ffccb",
   "metadata": {},
   "source": [
    "## Q5. Influencia de la semilla\n",
    "\n",
    "**Pregunta:** ¿Cuál es la desviación estándar del RMSE en el conjunto de validación al variar la semilla de [0–9], usando imputación con 0 y regresión lineal sin regularización?\n",
    "\n",
    "**Respuesta:**"
   ]
  },
  {
   "cell_type": "code",
   "execution_count": 282,
   "id": "7821929c-1e23-47a2-b6c2-4bd2250d3240",
   "metadata": {},
   "outputs": [],
   "source": [
    "def rmse_v2(y, y_pred):\n",
    "    se = (y - y_pred) ** 2\n",
    "    mse = se.mean()\n",
    "    return np.sqrt(mse)"
   ]
  },
  {
   "cell_type": "code",
   "execution_count": 283,
   "id": "e8d30410-321e-4175-8b26-22e9742ed3b8",
   "metadata": {},
   "outputs": [],
   "source": [
    "def split_data_v2(df, target_col='fuel_efficiency_mpg', val_size=0.2, test_size=0.2, seed=42):\n",
    "    \n",
    "    n = len(df)\n",
    "    n_val = int(n * val_size)\n",
    "    n_test = int(n * test_size)\n",
    "    n_train = n - n_val - n_test\n",
    "    \n",
    "    indices = np.arange(n)\n",
    "    np.random.seed(seed)\n",
    "    np.random.shuffle(indices)\n",
    "\n",
    "    idx_train = indices[:n_train]\n",
    "    idx_val = indices[n_train:n_train+n_val]\n",
    "    idx_test = indices[n_train+n_val:]\n",
    "\n",
    "    def split(idx):\n",
    "        df_split = df.iloc[idx].reset_index(drop=True)\n",
    "        y = df_split[target_col].values\n",
    "        df_X = df_split.drop(columns=[target_col])\n",
    "        return df_X, y\n",
    "\n",
    "    df_train, y_train = split(idx_train)\n",
    "    df_val, y_val = split(idx_val)\n",
    "    df_test, y_test = split(idx_test)\n",
    "    \n",
    "    return df_train, df_val, df_test, y_train, y_val, y_test"
   ]
  },
  {
   "cell_type": "code",
   "execution_count": 284,
   "id": "3123d77a-010d-426e-8c64-279f693e56c4",
   "metadata": {},
   "outputs": [
    {
     "data": {
      "text/plain": [
       "[0, 1, 2, 3, 4, 5, 6, 7, 8, 9]"
      ]
     },
     "execution_count": 284,
     "metadata": {},
     "output_type": "execute_result"
    }
   ],
   "source": [
    "list_seeds = [0, 1, 2, 3, 4, 5, 6, 7, 8, 9]\n",
    "list_seeds"
   ]
  },
  {
   "cell_type": "code",
   "execution_count": 285,
   "id": "f8842e47-6a08-4426-892a-b64befe84339",
   "metadata": {},
   "outputs": [
    {
     "name": "stdout",
     "output_type": "stream",
     "text": [
      "Aplicando fillna con valor 0...\n",
      "Entrenando modelo...\n",
      "Evaluando...\n",
      "RMSE train 0.5171560913636251\n",
      "RMSE val 0.5206531296294218\n",
      "...\n",
      "Aplicando fillna con valor 0...\n",
      "Entrenando modelo...\n",
      "Evaluando...\n",
      "RMSE train 0.5148529296311273\n",
      "RMSE val 0.521338891285577\n",
      "...\n",
      "Aplicando fillna con valor 0...\n",
      "Entrenando modelo...\n",
      "Evaluando...\n",
      "RMSE train 0.520558311480986\n",
      "RMSE val 0.5228069974803171\n",
      "...\n",
      "Aplicando fillna con valor 0...\n",
      "Entrenando modelo...\n",
      "Evaluando...\n",
      "RMSE train 0.5198664820191077\n",
      "RMSE val 0.515951674119676\n",
      "...\n",
      "Aplicando fillna con valor 0...\n",
      "Entrenando modelo...\n",
      "Evaluando...\n",
      "RMSE train 0.5171675510792179\n",
      "RMSE val 0.5109129460053851\n",
      "...\n",
      "Aplicando fillna con valor 0...\n",
      "Entrenando modelo...\n",
      "Evaluando...\n",
      "RMSE train 0.5195177528194667\n",
      "RMSE val 0.52834064601107\n",
      "...\n",
      "Aplicando fillna con valor 0...\n",
      "Entrenando modelo...\n",
      "Evaluando...\n",
      "RMSE train 0.5124114964022372\n",
      "RMSE val 0.5313910658146311\n",
      "...\n",
      "Aplicando fillna con valor 0...\n",
      "Entrenando modelo...\n",
      "Evaluando...\n",
      "RMSE train 0.524763629954572\n",
      "RMSE val 0.5090670387381733\n",
      "...\n",
      "Aplicando fillna con valor 0...\n",
      "Entrenando modelo...\n",
      "Evaluando...\n",
      "RMSE train 0.524306385184493\n",
      "RMSE val 0.5147399129511132\n",
      "...\n",
      "Aplicando fillna con valor 0...\n",
      "Entrenando modelo...\n",
      "Evaluando...\n",
      "RMSE train 0.5219709782195826\n",
      "RMSE val 0.5131865908224594\n",
      "...\n"
     ]
    }
   ],
   "source": [
    "results_seed = []\n",
    "\n",
    "for seed in list_seeds:\n",
    "    df_train, df_val, df_test, y_train, y_val, y_test = split_data_v2(df_car, seed=seed)\n",
    "    \n",
    "    print('Aplicando fillna con valor 0...')\n",
    "    X_train = fill_column_nan(df_train, {'horsepower': 0})\n",
    "\n",
    "    print('Entrenando modelo...')\n",
    "    w0, W = train_linear_regression(X_train, y_train)\n",
    "    \n",
    "    print('Evaluando...')     \n",
    "    y_pred = w0 + X_train.dot(W)\n",
    "    rmse_train = rmse_v2(y_train, y_pred)\n",
    "    print(f'RMSE train {rmse_train}')\n",
    "\n",
    "    X_val = fill_column_nan(df_val, {'horsepower': 0})\n",
    "    y_pred = w0 + X_val.dot(W)\n",
    "    rmse_val = rmse_v2(y_val, y_pred)\n",
    "    print(f'RMSE val {rmse_val}')\n",
    "\n",
    "    print('...') \n",
    "\n",
    "    results_seed.append({\n",
    "        \"seed\": seed,\n",
    "        \"rmse_train\": rmse_train,\n",
    "        \"rmse_val\": rmse_val\n",
    "    })"
   ]
  },
  {
   "cell_type": "code",
   "execution_count": 286,
   "id": "754e6bdb-49ca-491c-b6ce-1def06583448",
   "metadata": {},
   "outputs": [
    {
     "data": {
      "text/html": [
       "<div>\n",
       "<style scoped>\n",
       "    .dataframe tbody tr th:only-of-type {\n",
       "        vertical-align: middle;\n",
       "    }\n",
       "\n",
       "    .dataframe tbody tr th {\n",
       "        vertical-align: top;\n",
       "    }\n",
       "\n",
       "    .dataframe thead th {\n",
       "        text-align: right;\n",
       "    }\n",
       "</style>\n",
       "<table border=\"1\" class=\"dataframe\">\n",
       "  <thead>\n",
       "    <tr style=\"text-align: right;\">\n",
       "      <th></th>\n",
       "      <th>seed</th>\n",
       "      <th>rmse_train</th>\n",
       "      <th>rmse_val</th>\n",
       "    </tr>\n",
       "  </thead>\n",
       "  <tbody>\n",
       "    <tr>\n",
       "      <th>0</th>\n",
       "      <td>0</td>\n",
       "      <td>0.517156</td>\n",
       "      <td>0.520653</td>\n",
       "    </tr>\n",
       "    <tr>\n",
       "      <th>1</th>\n",
       "      <td>1</td>\n",
       "      <td>0.514853</td>\n",
       "      <td>0.521339</td>\n",
       "    </tr>\n",
       "    <tr>\n",
       "      <th>2</th>\n",
       "      <td>2</td>\n",
       "      <td>0.520558</td>\n",
       "      <td>0.522807</td>\n",
       "    </tr>\n",
       "    <tr>\n",
       "      <th>3</th>\n",
       "      <td>3</td>\n",
       "      <td>0.519866</td>\n",
       "      <td>0.515952</td>\n",
       "    </tr>\n",
       "    <tr>\n",
       "      <th>4</th>\n",
       "      <td>4</td>\n",
       "      <td>0.517168</td>\n",
       "      <td>0.510913</td>\n",
       "    </tr>\n",
       "    <tr>\n",
       "      <th>5</th>\n",
       "      <td>5</td>\n",
       "      <td>0.519518</td>\n",
       "      <td>0.528341</td>\n",
       "    </tr>\n",
       "    <tr>\n",
       "      <th>6</th>\n",
       "      <td>6</td>\n",
       "      <td>0.512411</td>\n",
       "      <td>0.531391</td>\n",
       "    </tr>\n",
       "    <tr>\n",
       "      <th>7</th>\n",
       "      <td>7</td>\n",
       "      <td>0.524764</td>\n",
       "      <td>0.509067</td>\n",
       "    </tr>\n",
       "    <tr>\n",
       "      <th>8</th>\n",
       "      <td>8</td>\n",
       "      <td>0.524306</td>\n",
       "      <td>0.514740</td>\n",
       "    </tr>\n",
       "    <tr>\n",
       "      <th>9</th>\n",
       "      <td>9</td>\n",
       "      <td>0.521971</td>\n",
       "      <td>0.513187</td>\n",
       "    </tr>\n",
       "  </tbody>\n",
       "</table>\n",
       "</div>"
      ],
      "text/plain": [
       "   seed  rmse_train  rmse_val\n",
       "0     0    0.517156  0.520653\n",
       "1     1    0.514853  0.521339\n",
       "2     2    0.520558  0.522807\n",
       "3     3    0.519866  0.515952\n",
       "4     4    0.517168  0.510913\n",
       "5     5    0.519518  0.528341\n",
       "6     6    0.512411  0.531391\n",
       "7     7    0.524764  0.509067\n",
       "8     8    0.524306  0.514740\n",
       "9     9    0.521971  0.513187"
      ]
     },
     "execution_count": 286,
     "metadata": {},
     "output_type": "execute_result"
    }
   ],
   "source": [
    "df_results_seed = pd.DataFrame(results_seed)\n",
    "df_results_seed"
   ]
  },
  {
   "cell_type": "code",
   "execution_count": 315,
   "id": "e9fd791b-fdc1-4ca3-a74b-bd053a141bc0",
   "metadata": {},
   "outputs": [
    {
     "data": {
      "text/plain": [
       "array([0.52065313, 0.52133889, 0.522807  , 0.51595167, 0.51091295,\n",
       "       0.52834065, 0.53139107, 0.50906704, 0.51473991, 0.51318659])"
      ]
     },
     "execution_count": 315,
     "metadata": {},
     "output_type": "execute_result"
    }
   ],
   "source": [
    "df_results_seed['rmse_val'].values"
   ]
  },
  {
   "cell_type": "code",
   "execution_count": 313,
   "id": "7c8acb94-8a7f-4da9-8226-03af2ab71bd8",
   "metadata": {},
   "outputs": [
    {
     "data": {
      "text/plain": [
       "np.float64(0.007)"
      ]
     },
     "execution_count": 313,
     "metadata": {},
     "output_type": "execute_result"
    }
   ],
   "source": [
    "rmse_val = df_results_seed['rmse_val'].values\n",
    "std_rmse_val = np.std(rmse_val)\n",
    "round(std_rmse_val, 3)"
   ]
  },
  {
   "cell_type": "code",
   "execution_count": 290,
   "id": "5e17644f-b68e-4b0a-bbbe-ab75246d8ef7",
   "metadata": {},
   "outputs": [
    {
     "data": {
      "text/plain": [
       "np.float64(0.006989446426433706)"
      ]
     },
     "execution_count": 290,
     "metadata": {},
     "output_type": "execute_result"
    }
   ],
   "source": [
    "np.std([diccionario.get('rmse_val') for diccionario in results_seed])"
   ]
  },
  {
   "cell_type": "markdown",
   "id": "796bcd2f-b8e3-4472-a363-aaf7c9c3c1f3",
   "metadata": {},
   "source": [
    "## Q6. RMSE con r=0.001\n",
    "\n",
    "**Pregunta:**\n",
    "Dividimos el dataset como antes, usando `seed=9`. Luego combinamos los conjuntos de train y validation, rellenamos los valores faltantes con 0 y entrenamos un modelo con `r=0.001`. ¿Cuál es el RMSE en el conjunto de test?\n",
    "\n",
    "**Respuesta:**"
   ]
  },
  {
   "cell_type": "code",
   "execution_count": 293,
   "id": "9eb300ef-4114-4cdc-b968-9e4f1bc376e5",
   "metadata": {},
   "outputs": [],
   "source": [
    "df_train, df_val, df_test, y_train, y_val, y_test = split_data_v2(df_car, seed=9)"
   ]
  },
  {
   "cell_type": "code",
   "execution_count": 304,
   "id": "a8ce0a4b-7aa9-4c5e-b7dc-7e61002e5e0f",
   "metadata": {},
   "outputs": [],
   "source": [
    "list_r2 = [0.001]"
   ]
  },
  {
   "cell_type": "code",
   "execution_count": 306,
   "id": "f3dc7618-37bf-42e6-bfc5-27dc25099971",
   "metadata": {},
   "outputs": [
    {
     "name": "stdout",
     "output_type": "stream",
     "text": [
      "Entrenando modelo usando regularizacio r:0.001\n",
      "Aplicando fillna con valor 0...\n",
      "Entrenando modelo...\n",
      "Evaluando...\n",
      "RMSE train_val 0.5197448026201177\n",
      "RMSE test 0.5156261299169602\n",
      "...\n"
     ]
    }
   ],
   "source": [
    "results_r2 = []\n",
    "\n",
    "for r in list_r2:\n",
    "    print(f'Entrenando modelo usando regularizacio r:{r}')\n",
    "\n",
    "    df_train_val = pd.concat([df_train, df_val], axis=0)\n",
    "    y_train_val = np.concatenate((y_train, y_val), axis=0)\n",
    "    \n",
    "    print('Aplicando fillna con valor 0...')\n",
    "    X_train_val = fill_column_nan(df_train_val, {'horsepower': 0})\n",
    "\n",
    "    print('Entrenando modelo...')\n",
    "    w0, W = train_linear_regression_reg(X_train_val, y_train_val, r)\n",
    "    \n",
    "    print('Evaluando...')     \n",
    "    y_pred = w0 + X_train_val.dot(W)\n",
    "    rmse_train_val = rmse_v2(y_train_val, y_pred)\n",
    "    print(f'RMSE train_val {rmse_train_val}')\n",
    "\n",
    "    X_test = fill_column_nan(df_test, {'horsepower': 0})\n",
    "    y_pred = w0 + X_test.dot(W)\n",
    "    rmse_test = rmse_v2(y_test, y_pred)\n",
    "    print(f'RMSE test {rmse_test}')\n",
    "\n",
    "    print('...') \n",
    "\n",
    "    results_r2.append({\n",
    "        \"r\": r,\n",
    "        \"rmse_train_val\": rmse_train_val,\n",
    "        \"rmse_test\": rmse_test\n",
    "    })"
   ]
  },
  {
   "cell_type": "code",
   "execution_count": 307,
   "id": "49f382ef-82d6-4653-994f-cb30ec2f545b",
   "metadata": {},
   "outputs": [
    {
     "data": {
      "text/html": [
       "<div>\n",
       "<style scoped>\n",
       "    .dataframe tbody tr th:only-of-type {\n",
       "        vertical-align: middle;\n",
       "    }\n",
       "\n",
       "    .dataframe tbody tr th {\n",
       "        vertical-align: top;\n",
       "    }\n",
       "\n",
       "    .dataframe thead th {\n",
       "        text-align: right;\n",
       "    }\n",
       "</style>\n",
       "<table border=\"1\" class=\"dataframe\">\n",
       "  <thead>\n",
       "    <tr style=\"text-align: right;\">\n",
       "      <th></th>\n",
       "      <th>r</th>\n",
       "      <th>rmse_train_val</th>\n",
       "      <th>rmse_test</th>\n",
       "    </tr>\n",
       "  </thead>\n",
       "  <tbody>\n",
       "    <tr>\n",
       "      <th>0</th>\n",
       "      <td>0.001</td>\n",
       "      <td>0.519745</td>\n",
       "      <td>0.515626</td>\n",
       "    </tr>\n",
       "  </tbody>\n",
       "</table>\n",
       "</div>"
      ],
      "text/plain": [
       "       r  rmse_train_val  rmse_test\n",
       "0  0.001        0.519745   0.515626"
      ]
     },
     "execution_count": 307,
     "metadata": {},
     "output_type": "execute_result"
    }
   ],
   "source": [
    "df_results_r2 = pd.DataFrame(results_r2)\n",
    "df_results_r2"
   ]
  },
  {
   "cell_type": "code",
   "execution_count": null,
   "id": "8a24b077-8d30-4044-9fe2-848bbf930d40",
   "metadata": {},
   "outputs": [],
   "source": []
  },
  {
   "cell_type": "code",
   "execution_count": null,
   "id": "d1e0579c-2871-4022-b39e-9d9b057ef311",
   "metadata": {},
   "outputs": [],
   "source": []
  },
  {
   "cell_type": "code",
   "execution_count": null,
   "id": "cac50033-10ea-4fe8-8d86-81f0d5558ff6",
   "metadata": {},
   "outputs": [],
   "source": []
  },
  {
   "cell_type": "code",
   "execution_count": null,
   "id": "64b5ace8-4c64-45c5-86be-97b4d28ebcaa",
   "metadata": {},
   "outputs": [],
   "source": []
  },
  {
   "cell_type": "code",
   "execution_count": null,
   "id": "9d566666-4b78-4643-bd6c-155d59000d36",
   "metadata": {},
   "outputs": [],
   "source": []
  },
  {
   "cell_type": "code",
   "execution_count": null,
   "id": "71180710-947d-4f7c-adf8-8c45d36e6480",
   "metadata": {},
   "outputs": [],
   "source": []
  },
  {
   "cell_type": "code",
   "execution_count": 316,
   "id": "fb3caff6",
   "metadata": {},
   "outputs": [
    {
     "name": "stdout",
     "output_type": "stream",
     "text": [
      "🔢 CARACTERÍSTICAS NUMÉRICAS SELECCIONADAS:\n",
      "=============================================\n",
      "❌ year - No encontrada\n",
      "❌ mileage - No encontrada\n",
      "❌ engine_hp - No encontrada\n",
      "❌ engine_cylinders - No encontrada\n",
      "❌ highway_mpg - No encontrada\n",
      "❌ city_mpg - No encontrada\n",
      "\n",
      "📝 CARACTERÍSTICAS CATEGÓRICAS:\n",
      "===================================\n",
      "❌ make - No encontrada\n",
      "❌ model - No encontrada\n",
      "❌ transmission_type - No encontrada\n",
      "❌ vehicle_style - No encontrada\n",
      "❌ driven_wheels - No encontrada\n",
      "\n",
      "🔍 VALORES ÚNICOS EN CARACTERÍSTICAS CATEGÓRICAS:\n",
      "=======================================================\n"
     ]
    }
   ],
   "source": [
    "# Seleccionar características numéricas relevantes para regresión\n",
    "numerical_features = ['year', 'mileage', 'engine_hp', 'engine_cylinders', 'highway_mpg', 'city_mpg']\n",
    "categorical_features = ['make', 'model', 'transmission_type', 'vehicle_style', 'driven_wheels']\n",
    "\n",
    "print(\"🔢 CARACTERÍSTICAS NUMÉRICAS SELECCIONADAS:\")\n",
    "print(\"=\" * 45)\n",
    "for feature in numerical_features:\n",
    "    if feature in df_car.columns:\n",
    "        print(f\"✅ {feature}\")\n",
    "    else:\n",
    "        print(f\"❌ {feature} - No encontrada\")\n",
    "\n",
    "print(\"\\n📝 CARACTERÍSTICAS CATEGÓRICAS:\")\n",
    "print(\"=\" * 35)\n",
    "for feature in categorical_features:\n",
    "    if feature in df_car.columns:\n",
    "        print(f\"✅ {feature}\")\n",
    "    else:\n",
    "        print(f\"❌ {feature} - No encontrada\")\n",
    "\n",
    "# Verificar valores únicos en características categóricas\n",
    "print(\"\\n🔍 VALORES ÚNICOS EN CARACTERÍSTICAS CATEGÓRICAS:\")\n",
    "print(\"=\" * 55)\n",
    "for feature in categorical_features:\n",
    "    if feature in df_car.columns:\n",
    "        unique_count = df[feature].nunique()\n",
    "        print(f\"{feature}: {unique_count} valores únicos\")\n",
    "        if unique_count <= 10:\n",
    "            print(f\"  Valores: {df[feature].unique()}\")\n",
    "        print()\n"
   ]
  },
  {
   "cell_type": "markdown",
   "id": "817d612a",
   "metadata": {},
   "source": [
    "## 🤖 Entrenamiento de Modelos de Regresión\n",
    "\n",
    "Ahora vamos a entrenar diferentes modelos de regresión y comparar su rendimiento.\n"
   ]
  },
  {
   "cell_type": "code",
   "execution_count": null,
   "id": "2f83662f",
   "metadata": {},
   "outputs": [],
   "source": [
    "# Preparar datos para entrenamiento\n",
    "print(\"🎯 PREPARANDO DATOS PARA ENTRENAMIENTO\")\n",
    "print(\"=\" * 40)\n",
    "\n",
    "# Seleccionar características y variable objetivo\n",
    "X = df_clean.drop(columns=['price'])\n",
    "y = df_clean['price']\n",
    "\n",
    "print(f\"📊 Características (X): {X.shape}\")\n",
    "print(f\"🎯 Variable objetivo (y): {y.shape}\")\n",
    "\n",
    "# Dividir en conjuntos de entrenamiento y prueba\n",
    "X_train, X_test, y_train, y_test = train_test_split(\n",
    "    X, y, test_size=0.2, random_state=42\n",
    ")\n",
    "\n",
    "print(f\"\\n📈 Conjunto de entrenamiento: {X_train.shape}\")\n",
    "print(f\"📊 Conjunto de prueba: {X_test.shape}\")\n",
    "\n",
    "# Normalizar las características\n",
    "scaler = StandardScaler()\n",
    "X_train_scaled = scaler.fit_transform(X_train)\n",
    "X_test_scaled = scaler.transform(X_test)\n",
    "\n",
    "print(f\"\\n✅ Datos normalizados para entrenamiento\")\n"
   ]
  }
 ],
 "metadata": {
  "kernelspec": {
   "display_name": "Python 3 (ipykernel)",
   "language": "python",
   "name": "python3"
  },
  "language_info": {
   "codemirror_mode": {
    "name": "ipython",
    "version": 3
   },
   "file_extension": ".py",
   "mimetype": "text/x-python",
   "name": "python",
   "nbconvert_exporter": "python",
   "pygments_lexer": "ipython3",
   "version": "3.13.3"
  }
 },
 "nbformat": 4,
 "nbformat_minor": 5
}
