{
 "cells": [
  {
   "cell_type": "markdown",
   "id": "79dcd25e",
   "metadata": {},
   "source": [
    "# Homework 1 - Fundamentos de Machine Learning\n",
    "\n",
    "## Solución a las preguntas del homework\n",
    "\n",
    "En esta notebook se encuentran las respuestas a las preguntas del homework 1 del Machine Learning Zoomcamp 2025.\n",
    "\n",
    "### Datos utilizados\n",
    "Para este homework utilizaremos el dataset de automóviles que contiene información sobre diferentes características de vehículos.\n"
   ]
  },
  {
   "cell_type": "code",
   "execution_count": 1,
   "id": "3862b491",
   "metadata": {},
   "outputs": [
    {
     "name": "stdout",
     "output_type": "stream",
     "text": [
      "Librerías importadas correctamente\n"
     ]
    }
   ],
   "source": [
    "# Importar librerías necesarias\n",
    "import pandas as pd\n",
    "import numpy as np\n",
    "\n",
    "print(\"Librerías importadas correctamente\")"
   ]
  },
  {
   "cell_type": "code",
   "execution_count": 4,
   "id": "c8262e13-b17c-4eb5-849a-d9b748639c39",
   "metadata": {},
   "outputs": [],
   "source": [
    "!mkdir data"
   ]
  },
  {
   "cell_type": "code",
   "execution_count": 5,
   "id": "a33c788f-eec2-4dfd-a8e4-fde3db955b25",
   "metadata": {},
   "outputs": [
    {
     "name": "stdout",
     "output_type": "stream",
     "text": [
      "--2025-09-27 16:45:33--  https://raw.githubusercontent.com/alexeygrigorev/datasets/master/car_fuel_efficiency.csv\n",
      "Resolving raw.githubusercontent.com (raw.githubusercontent.com)... 185.199.110.133, 185.199.111.133, 185.199.109.133, ...\n",
      "Connecting to raw.githubusercontent.com (raw.githubusercontent.com)|185.199.110.133|:443... connected.\n",
      "HTTP request sent, awaiting response... 200 OK\n",
      "Length: 874188 (854K) [text/plain]\n",
      "Saving to: ‘car_fuel_efficiency.csv’\n",
      "\n",
      "car_fuel_efficiency 100%[===================>] 853.70K  --.-KB/s    in 0.09s   \n",
      "\n",
      "2025-09-27 16:45:33 (8.97 MB/s) - ‘car_fuel_efficiency.csv’ saved [874188/874188]\n",
      "\n"
     ]
    }
   ],
   "source": [
    "!wget https://raw.githubusercontent.com/alexeygrigorev/datasets/master/car_fuel_efficiency.csv"
   ]
  },
  {
   "cell_type": "code",
   "execution_count": 6,
   "id": "5688a2e2-c740-49b8-b0a2-4597af957935",
   "metadata": {},
   "outputs": [],
   "source": [
    "! mv car_fuel_efficiency.csv ./data/"
   ]
  },
  {
   "cell_type": "code",
   "execution_count": 9,
   "id": "3ef593ef",
   "metadata": {},
   "outputs": [
    {
     "name": "stdout",
     "output_type": "stream",
     "text": [
      "Datos cargados correctamente\n"
     ]
    }
   ],
   "source": [
    "# Cargar los datos\n",
    "df_car = pd.read_csv('data/car_fuel_efficiency.csv')\n",
    "\n",
    "print(\"Datos cargados correctamente\")"
   ]
  },
  {
   "cell_type": "markdown",
   "id": "f99f9186",
   "metadata": {},
   "source": [
    "## Q1. Pandas version\n",
    "\n",
    "**Pregunta:** ¿Cuál es la versión de pandas que estás usando?\n",
    "\n",
    "**Respuesta:**\n"
   ]
  },
  {
   "cell_type": "code",
   "execution_count": 3,
   "id": "fbb3a3e6",
   "metadata": {},
   "outputs": [
    {
     "name": "stdout",
     "output_type": "stream",
     "text": [
      "Versión de pandas: 2.3.2\n"
     ]
    },
    {
     "data": {
      "text/plain": [
       "'2.3.2'"
      ]
     },
     "execution_count": 3,
     "metadata": {},
     "output_type": "execute_result"
    }
   ],
   "source": [
    "print(f\"Versión de pandas: {pd.__version__}\")"
   ]
  },
  {
   "cell_type": "markdown",
   "id": "a650b688",
   "metadata": {},
   "source": [
    "## Q2. Records count\n",
    "\n",
    "**Pregunta:** ¿Cuántos registros hay en el conjunto de datos?\n",
    "\n",
    "**Respuesta:**\n"
   ]
  },
  {
   "cell_type": "code",
   "execution_count": 10,
   "id": "b6f1f5ca",
   "metadata": {},
   "outputs": [
    {
     "name": "stdout",
     "output_type": "stream",
     "text": [
      "Número de registros: 9704\n"
     ]
    }
   ],
   "source": [
    "print(f\"Número de registros: {len(df_car)}\")"
   ]
  },
  {
   "cell_type": "code",
   "execution_count": 11,
   "id": "c9634878-ba85-4beb-ab92-1ca63a01dd83",
   "metadata": {},
   "outputs": [
    {
     "name": "stdout",
     "output_type": "stream",
     "text": [
      "Dimension del dataset: (9704, 11)\n"
     ]
    }
   ],
   "source": [
    "print(f\"Dimension del dataset: {df_car.shape}\")"
   ]
  },
  {
   "cell_type": "markdown",
   "id": "7020af15",
   "metadata": {},
   "source": [
    "## Q3. Fuel types\n",
    "\n",
    "**Pregunta:** ¿Cuáles son los tipos de combustible únicos en el dataset?\n",
    "\n",
    "**Respuesta:**\n"
   ]
  },
  {
   "cell_type": "code",
   "execution_count": null,
   "id": "de4fdb97",
   "metadata": {},
   "outputs": [],
   "source": [
    "# Q3. Fuel types\n",
    "# Nota: Ajusta el nombre de la columna según tu dataset\n",
    "fuel_types = df['fuel_type'].unique()  # Ajusta 'fuel_type' por el nombre real de la columna\n",
    "print(f\"Tipos de combustible únicos: {fuel_types}\")\n",
    "print(f\"Número de tipos únicos: {len(fuel_types)}\")\n"
   ]
  },
  {
   "cell_type": "markdown",
   "id": "09df335d",
   "metadata": {},
   "source": [
    "## Q4. Missing values\n",
    "\n",
    "**Pregunta:** ¿Cuántos valores faltantes hay en el dataset?\n",
    "\n",
    "**Respuesta:**\n"
   ]
  },
  {
   "cell_type": "code",
   "execution_count": null,
   "id": "68fc7983",
   "metadata": {},
   "outputs": [],
   "source": [
    "# Q4. Missing values\n",
    "missing_values = df.isnull().sum()\n",
    "total_missing = df.isnull().sum().sum()\n",
    "\n",
    "print(\"Valores faltantes por columna:\")\n",
    "print(missing_values)\n",
    "print(f\"\\nTotal de valores faltantes: {total_missing}\")\n"
   ]
  },
  {
   "cell_type": "markdown",
   "id": "d243b9ba",
   "metadata": {},
   "source": [
    "## Q5. Max fuel efficiency\n",
    "\n",
    "**Pregunta:** ¿Cuál es la máxima eficiencia de combustible en el dataset?\n",
    "\n",
    "**Respuesta:**\n"
   ]
  },
  {
   "cell_type": "code",
   "execution_count": null,
   "id": "4a18ab2a",
   "metadata": {},
   "outputs": [],
   "source": [
    "# Q5. Max fuel efficiency\n",
    "# Nota: Ajusta el nombre de la columna según tu dataset\n",
    "max_efficiency = df['mpg'].max()  # Ajusta 'mpg' por el nombre real de la columna\n",
    "print(f\"Máxima eficiencia de combustible: {max_efficiency}\")\n"
   ]
  },
  {
   "cell_type": "markdown",
   "id": "2774817f",
   "metadata": {},
   "source": [
    "## Q6. Median value of horsepower\n",
    "\n",
    "**Pregunta:** ¿Cuál es el valor mediano de caballos de fuerza?\n",
    "\n",
    "**Respuesta:**\n"
   ]
  },
  {
   "cell_type": "code",
   "execution_count": null,
   "id": "896d9ad7",
   "metadata": {},
   "outputs": [],
   "source": [
    "# Q6. Median value of horsepower\n",
    "# Nota: Ajusta el nombre de la columna según tu dataset\n",
    "median_horsepower = df['horsepower'].median()  # Ajusta 'horsepower' por el nombre real de la columna\n",
    "print(f\"Valor mediano de caballos de fuerza: {median_horsepower}\")\n"
   ]
  },
  {
   "cell_type": "markdown",
   "id": "3aae0185",
   "metadata": {},
   "source": [
    "## Q7. Sum of weights\n",
    "\n",
    "**Pregunta:** ¿Cuál es la suma de todos los pesos en el dataset?\n",
    "\n",
    "**Respuesta:**\n"
   ]
  },
  {
   "cell_type": "code",
   "execution_count": null,
   "id": "028cc6b6",
   "metadata": {},
   "outputs": [],
   "source": [
    "# Q7. Sum of weights\n",
    "# Nota: Ajusta el nombre de la columna según tu dataset\n",
    "total_weight = df['weight'].sum()  # Ajusta 'weight' por el nombre real de la columna\n",
    "print(f\"Suma total de pesos: {total_weight}\")\n"
   ]
  },
  {
   "cell_type": "markdown",
   "id": "d8dbea8d",
   "metadata": {},
   "source": [
    "## Resumen de respuestas\n",
    "\n",
    "A continuación se presenta un resumen de todas las respuestas:\n",
    "\n",
    "| Pregunta | Respuesta |\n",
    "|----------|-----------|\n",
    "| Q1. Pandas version | [Ejecutar celda Q1] |\n",
    "| Q2. Records count | [Ejecutar celda Q2] |\n",
    "| Q3. Fuel types | [Ejecutar celda Q3] |\n",
    "| Q4. Missing values | [Ejecutar celda Q4] |\n",
    "| Q5. Max fuel efficiency | [Ejecutar celda Q5] |\n",
    "| Q6. Median horsepower | [Ejecutar celda Q6] |\n",
    "| Q7. Sum of weights | [Ejecutar celda Q7] |\n",
    "\n",
    "### Notas importantes:\n",
    "- Ajusta los nombres de las columnas según tu dataset real\n",
    "- Verifica la ruta del archivo de datos en la celda de carga\n",
    "- Ejecuta las celdas en orden para obtener los resultados\n"
   ]
  }
 ],
 "metadata": {
  "kernelspec": {
   "display_name": "Python 3 (ipykernel)",
   "language": "python",
   "name": "python3"
  },
  "language_info": {
   "codemirror_mode": {
    "name": "ipython",
    "version": 3
   },
   "file_extension": ".py",
   "mimetype": "text/x-python",
   "name": "python",
   "nbconvert_exporter": "python",
   "pygments_lexer": "ipython3",
   "version": "3.13.3"
  }
 },
 "nbformat": 4,
 "nbformat_minor": 5
}
